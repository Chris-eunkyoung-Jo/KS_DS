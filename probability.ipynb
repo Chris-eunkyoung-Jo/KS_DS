{
  "nbformat": 4,
  "nbformat_minor": 0,
  "metadata": {
    "colab": {
      "name": "probability.ipynb",
      "provenance": [],
      "collapsed_sections": [],
      "include_colab_link": true
    },
    "kernelspec": {
      "name": "python3",
      "display_name": "Python 3"
    }
  },
  "cells": [
    {
      "cell_type": "markdown",
      "metadata": {
        "id": "view-in-github",
        "colab_type": "text"
      },
      "source": [
        "<a href=\"https://colab.research.google.com/github/Chris-eunkyoung-Jo/KS_DS/blob/master/probability.ipynb\" target=\"_parent\"><img src=\"https://colab.research.google.com/assets/colab-badge.svg\" alt=\"Open In Colab\"/></a>"
      ]
    },
    {
      "cell_type": "markdown",
      "metadata": {
        "id": "SaVzYoVmvKVt",
        "colab_type": "text"
      },
      "source": [
        "Date: 2020.05.12\n",
        "\n",
        "Writer: Name\n",
        "\n",
        "# Ch.6 Probability\n",
        "Probability is a way of quantifying the uncertainty associated with events.\n",
        "> ex) tossing a coin, rolling a die, ..., \n"
      ]
    },
    {
      "cell_type": "markdown",
      "metadata": {
        "id": "L2OCsZ5IHETw",
        "colab_type": "text"
      },
      "source": [
        "**Events and the Sum of Probabilites**\n",
        "\n",
        "An Event is a set of outcomes of an experiment of the sample space. \n",
        "\n",
        "if the sample space is 'rolling a dice', below are an event E. \n",
        "* the dice rolls at a number. 1,2,3,4,5,6.\n",
        "* the dice rolls an even number. 2 or 4 or 6 or None of them. \n",
        "* the dice rolls an odd number. \n",
        "\n",
        "> P(X) means 'the probability of the event X'\n",
        "\n",
        "\n",
        "*Sum of probabilities in a sample space*\n",
        "\n",
        "The sample space is consist of all possible outcomes of an event and the sum of probabilities of all is 1.0\n",
        "\n",
        " > $Sum(P(X)) = \\sum _{i=1}^{N}P(x_{i})$  = 1.0 \n",
        "\n",
        "For a side of number,  all possibilities are 1/6.\n",
        "\n",
        " 1/6(1) + 1/6(2) + 1/6(3) + 1/6(4) + 1/6(5) + 1/6(6) = 1.0\n",
        "\n",
        "For event number probabilites, \n",
        "\n",
        "1/2(2,4,6) +1/2(not event;1,3,5) = 1.0\n",
        "\n"
      ]
    },
    {
      "cell_type": "code",
      "metadata": {
        "id": "_Z2zNuPqZHQm",
        "colab_type": "code",
        "colab": {}
      },
      "source": [
        "from collections import Counter\n",
        "\n",
        "def prob(data):\n",
        "  f_data = Counter(data)  # frequencies.\n",
        "  p_data = {each[0]:each[1]/len(data) for each in f_data.items()} #probabilities\n",
        "  return p_data, f_data  "
      ],
      "execution_count": 0,
      "outputs": []
    },
    {
      "cell_type": "code",
      "metadata": {
        "id": "rvbw9W2t3F2s",
        "colab_type": "code",
        "outputId": "8479cffd-c76d-42fb-b2fe-4a64703add28",
        "colab": {
          "base_uri": "https://localhost:8080/",
          "height": 69
        }
      },
      "source": [
        "data_c = ['h','t'] *3 # 3 times of same results\n",
        "#Now, it's your turn: \n",
        "p_data, f_data=prob(data_c)\n",
        "print('prob. of coin flipping;', p_data)\n",
        "print('freq. of coin flipping;', f_data)\n",
        "sum_p = sum([each[1] for each in p_data.items()])\n",
        "print(sum_p) # why sum of prob. is not 1.0?"
      ],
      "execution_count": 0,
      "outputs": [
        {
          "output_type": "stream",
          "text": [
            "prob. of coin flipping; {'h': 0.5, 't': 0.5}\n",
            "freq. of coin flipping; Counter({'h': 3, 't': 3})\n",
            "1.0\n"
          ],
          "name": "stdout"
        }
      ]
    },
    {
      "cell_type": "code",
      "metadata": {
        "id": "VRivczOzHa6H",
        "colab_type": "code",
        "outputId": "1ec4dc5c-b428-4322-b158-daf4f389ad6b",
        "colab": {
          "base_uri": "https://localhost:8080/",
          "height": 69
        }
      },
      "source": [
        "# a sample space of dice\n",
        "data_d = [1,2,3,4,5,6] #dice\n",
        "\n",
        "p_data, f_data=prob(data_d)  \n",
        "print('freq. of dice;', f_data)\n",
        "print('prob. of dice;', p_data)\n",
        "sum_p = sum([each[1] for each in p_data.items()])\n",
        "print(sum_p) # why sum of prob. is not 1.0? "
      ],
      "execution_count": 0,
      "outputs": [
        {
          "output_type": "stream",
          "text": [
            "freq. of dice; Counter({1: 1, 2: 1, 3: 1, 4: 1, 5: 1, 6: 1})\n",
            "prob. of dice; {1: 0.16666666666666666, 2: 0.16666666666666666, 3: 0.16666666666666666, 4: 0.16666666666666666, 5: 0.16666666666666666, 6: 0.16666666666666666}\n",
            "0.9999999999999999\n"
          ],
          "name": "stdout"
        }
      ]
    },
    {
      "cell_type": "code",
      "metadata": {
        "id": "OlW65fq4sMFI",
        "colab_type": "code",
        "outputId": "1ddb455e-383d-46da-966e-6b1257ac4e01",
        "colab": {
          "base_uri": "https://localhost:8080/",
          "height": 138
        }
      },
      "source": [
        "#mathematically, because of infinite numbers. #1=1/3+1/3+1/3=0.3333....+0.3333...+0.3333....\n",
        "print('Based on a mathematical proof:1=1/3+1/3+1/3') \n",
        "print(1/3, 1/3, 1/3) # it must be 0.99999999999\n",
        "print(1/3 + 1/3 + 1/3) # print() is rounded. \n",
        "# What is round()? A built-in function.\n",
        "#print(round(0.99999999999999999999999))\n",
        "print('Before rounding')\n",
        "print(sum_p)\n",
        "print('After rounding;')\n",
        "print(round(sum_p)) "
      ],
      "execution_count": 0,
      "outputs": [
        {
          "output_type": "stream",
          "text": [
            "Based on a mathematical proof:1=1/3+1/3+1/3\n",
            "0.3333333333333333 0.3333333333333333 0.3333333333333333\n",
            "1.0\n",
            "Before rounding\n",
            "0.9999999999999999\n",
            "After rounding;\n",
            "1\n"
          ],
          "name": "stdout"
        }
      ]
    },
    {
      "cell_type": "code",
      "metadata": {
        "id": "gAgkFNPl20cP",
        "colab_type": "code",
        "colab": {}
      },
      "source": [
        ""
      ],
      "execution_count": 0,
      "outputs": []
    },
    {
      "cell_type": "code",
      "metadata": {
        "id": "8sq23Fu1y4R0",
        "colab_type": "code",
        "outputId": "a57243d5-45f4-4d4f-ea2c-6ec33f05c656",
        "colab": {
          "base_uri": "https://localhost:8080/",
          "height": 69
        }
      },
      "source": [
        "#a sample space of 9 coin flipping\n",
        "data_c = ['h','h','t'] *3 # 3 times of same results\n",
        "#Now, it's your turn: \n",
        "p_data, f_data=prob(data_c)\n",
        "print('prob. of coin flipping;', p_data)\n",
        "print('freq. of coin flipping;', f_data)\n",
        "sum_p = sum([each[1] for each in p_data.items()])\n",
        "print(sum_p) # why sum of prob. is not 1.0?"
      ],
      "execution_count": 0,
      "outputs": [
        {
          "output_type": "stream",
          "text": [
            "prob. of coin flipping; {'h': 0.6666666666666666, 't': 0.3333333333333333}\n",
            "freq. of coin flipping; Counter({'h': 6, 't': 3})\n",
            "1.0\n"
          ],
          "name": "stdout"
        }
      ]
    },
    {
      "cell_type": "markdown",
      "metadata": {
        "id": "6QwMuyoNh33v",
        "colab_type": "text"
      },
      "source": [
        "\n",
        "***Dependence and Independence***\n",
        "\n",
        "Two events are *dependent* if knowing whether X happens gives us information about whether Y happens.\n",
        "\n",
        "Otherwise, they are *indepedent*. \n",
        "\n",
        "**Joint Probability, Conditional Probability**\n",
        "\n",
        "Probability of two events X and Y is joint probability.    P(X, Y)\n",
        "\n",
        "Probability of X given Y is conditional probability.    P(X|Y) \n"
      ]
    },
    {
      "cell_type": "code",
      "metadata": {
        "id": "JWwsh1HlZmkR",
        "colab_type": "code",
        "outputId": "626aa5a0-6bcc-4346-ca48-cfe80040a2e6",
        "colab": {
          "base_uri": "https://localhost:8080/",
          "height": 52
        }
      },
      "source": [
        "def conditional_prob(p_xy, p_y): \n",
        "  return p_xy/p_y\n",
        "\n",
        "#example : conditional prob. of the coin sample space\n",
        "p_data, f_data=prob(data_c)\n",
        "p_ht =p_data['h']*p_data['t']  #joint probability\n",
        "p_h = p_data['h'] \n",
        "p_t = p_data['t']\n",
        "\n",
        "#conditional prob. of tails with given heads. \n",
        "p_t_given_h = conditional_prob(p_ht, p_h)\n",
        "p_h_given_t = conditional_prob(p_ht, p_t)\n",
        "print(p_t_given_h)\n",
        "print(p_h_given_t)"
      ],
      "execution_count": 0,
      "outputs": [
        {
          "output_type": "stream",
          "text": [
            "0.3333333333333333\n",
            "0.6666666666666666\n"
          ],
          "name": "stdout"
        }
      ]
    },
    {
      "cell_type": "markdown",
      "metadata": {
        "id": "Vf-Aw6azUYvh",
        "colab_type": "text"
      },
      "source": [
        "**Bayes's Theorem** \n",
        "\n",
        "We know P(Y|X). But, we don't know and want to know *P(X|Y)*. \n",
        "\n",
        ">P(X|Y) = P(Y|X) * P(X) / P(Y) \n",
        "\n",
        "This is a way of \"reversing\" conditional probabilities. "
      ]
    },
    {
      "cell_type": "code",
      "metadata": {
        "id": "xezAU-oGXR5f",
        "colab_type": "code",
        "colab": {}
      },
      "source": [
        "def bayes_conditional(p_y_given_x, p_x, p_y):\n",
        "  return (p_y_given_x * p_x)/p_y"
      ],
      "execution_count": 0,
      "outputs": []
    },
    {
      "cell_type": "code",
      "metadata": {
        "id": "QEe6c3UhCJJK",
        "colab_type": "code",
        "outputId": "0f3006f2-0031-4e08-d713-e2b718b09d7c",
        "colab": {
          "base_uri": "https://localhost:8080/",
          "height": 35
        }
      },
      "source": [
        "#what is prob. of head given t when we know p(h), p(t), p(t|h)\n",
        "p_h_given_t = bayes_conditional(p_t_given_h, p_h, p_t)\n",
        "print(p_h_given_t)"
      ],
      "execution_count": 0,
      "outputs": [
        {
          "output_type": "stream",
          "text": [
            "0.6666666666666666\n"
          ],
          "name": "stdout"
        }
      ]
    },
    {
      "cell_type": "markdown",
      "metadata": {
        "id": "djBq0lI1aAm0",
        "colab_type": "text"
      },
      "source": [
        "**When do we use bayes's theorem?**\n",
        "\n",
        "**Example**:  Data scientists' solution rather than doctors' solution\n",
        "\n",
        "\n",
        "Suppose: \n",
        "* a certain disease that affects 1 in every 10,000 people. \n",
        "* there is a test for this disease that gives the correct result 99% of the time ('diseased' if you have the disease, \"nondiseased\" if they don't). \n",
        "\n",
        "\n",
        "Bayes's theorem: the probability of your having disease, conditioned on testing positive is:\n",
        "\n",
        "> P(D|T) = P(D)*P(T|D)/P(T)  \n",
        "\n",
        "where,\n",
        "\n",
        "* 'T' means \"your test is positive\". 'D' means \"you have the disease\"\n",
        "* P(T) = P(T,D) + P(T,-D) = P(D)\\*P(T|D) + P(-D)\\*P(T|-D)\n",
        "\n",
        "We know \n",
        "*   P(T|D): the prob. of diseased someone's being positive is 0.99.\n",
        "*   P(D): the prob. of any person being diseased is 1/10000 = 0.0001\n",
        "*   P(T|-D): the prob. of undiseased someone's being positive is 0.01   \n",
        "*   P(-D) : the prob. of any peson not having the disease is 0.9999\n",
        "\n",
        "Finally, \n",
        "P(D|T) = P(D)\\*P(T|D)/( P(D)\\*P(T|D) + P(-D)\\*P(T|-D) ) \n",
        "       = 0.0001\\*0.99/(0.99\\*0.0001 + 0.9999\\*0.01)\n",
        "       = 0.0098"
      ]
    },
    {
      "cell_type": "code",
      "metadata": {
        "id": "rUyMz41Kkrzh",
        "colab_type": "code",
        "outputId": "e2fca319-89b2-4554-dd84-20e518b29b66",
        "colab": {
          "base_uri": "https://localhost:8080/",
          "height": 52
        }
      },
      "source": [
        "p_t_given_d = 0.9999999  #Is this high and fair enough?\n",
        "p_d = 1/10000\n",
        "print(p_t_given_d, p_d)\n",
        "\n",
        "p_Nd=1.0 - p_d\n",
        "p_t_given_Nd = 1.0 - p_t_given_d\n",
        "print(p_Nd, p_t_given_Nd)\n",
        "#p_d_given_t = bayes_conditional(0.99, p_d, p_t)"
      ],
      "execution_count": 0,
      "outputs": [
        {
          "output_type": "stream",
          "text": [
            "0.9999999 0.0001\n",
            "0.9999 9.999999994736442e-08\n"
          ],
          "name": "stdout"
        }
      ]
    },
    {
      "cell_type": "code",
      "metadata": {
        "id": "lMtyyFbwVXKs",
        "colab_type": "code",
        "outputId": "ca66b96e-d657-47f8-cd74-a5e49c61b1ae",
        "colab": {
          "base_uri": "https://localhost:8080/",
          "height": 35
        }
      },
      "source": [
        "#reverse inspection\n",
        "p_d_given_t=p_d*p_t_given_d/(p_t_given_d*p_d + p_Nd*p_t_given_Nd)\n",
        "print(p_d_given_t) # the prob. of diseseasd conditional on testing positive. "
      ],
      "execution_count": 0,
      "outputs": [
        {
          "output_type": "stream",
          "text": [
            "0.009803921568627442\n"
          ],
          "name": "stdout"
        }
      ]
    },
    {
      "cell_type": "code",
      "metadata": {
        "id": "p8SfzBXUhhVr",
        "colab_type": "code",
        "outputId": "5303d9d0-9165-42cc-c3e5-61d365401af7",
        "colab": {
          "base_uri": "https://localhost:8080/",
          "height": 35
        }
      },
      "source": [
        "#with byaes condtional\n",
        "p_t = (p_t_given_d*p_d + p_Nd*p_t_given_Nd)\n",
        "p_d_given_t = bayes_conditional(p_t_given_d, p_d, p_t )\n",
        "print(p_d_given_t)"
      ],
      "execution_count": 0,
      "outputs": [
        {
          "output_type": "stream",
          "text": [
            "0.9990010987020436\n"
          ],
          "name": "stdout"
        }
      ]
    },
    {
      "cell_type": "code",
      "metadata": {
        "id": "c2NVLPdRCY8Q",
        "colab_type": "code",
        "outputId": "bfa4bbe7-9437-4d82-fee8-9e727ca04cbf",
        "colab": {
          "base_uri": "https://localhost:8080/",
          "height": 69
        }
      },
      "source": [
        "\n",
        "p_t_given_d = 0.9899999  #Is this fair enough?\n",
        "p_d = 10991/51640000\n",
        "print(p_t_given_d, p_d)\n",
        "\n",
        "p_Nd=1.0 - p_d\n",
        "p_t_given_Nd = 1.0 - p_t_given_d\n",
        "print(p_Nd, p_t_given_Nd)\n",
        "#p_d_given_t = bayes_conditional(0.99, p_d, p_t)\n",
        "#reverse inspection\n",
        "p_d_given_t=p_d*p_t_given_d/(p_t_given_d*p_d + p_Nd*p_t_given_Nd)\n",
        "print(p_d_given_t) # the prob. of diseseasd conditional on testing positive. "
      ],
      "execution_count": 0,
      "outputs": [
        {
          "output_type": "stream",
          "text": [
            "0.9899999 0.00021283888458559257\n",
            "0.9997871611154144 0.010000099999999956\n",
            "0.020640320966814098\n"
          ],
          "name": "stdout"
        }
      ]
    },
    {
      "cell_type": "markdown",
      "metadata": {
        "id": "5TbhdfiWaZ-u",
        "colab_type": "text"
      },
      "source": [
        "**Normal Distribution; Gaussian distribution**\n",
        "\n",
        "is a probability distribution that is symmetric about the mean(mu;μ), showing that data near the mean are more frequent in occurrence than data far from the mean, its standard deviation(sigma; σ). \n",
        "\n",
        "In graph form, normal distribution will appear as a bell curve. https://en.wikipedia.org/wiki/Normal_distribution\n",
        "\n",
        "\n",
        ">   Normal distribution graph\n",
        ">> \n",
        " ![](https://upload.wikimedia.org/wikipedia/commons/thumb/7/74/Normal_Distribution_PDF.svg/340px-Normal_Distribution_PDF.svg.png) \n",
        " \n",
        "The mean μ indicates where the bell is centered, and the standard deviation σ how 'wide' it is.  So, Normal PDF(Probability distribution function) is in formular:\n",
        "\n",
        "${\\displaystyle f(x\\mid \\mu ,\\sigma ^{2})={\\frac {1}{\\sqrt {2\\pi} \\sigma}}exp({-{\\frac {(x-\\mu )^{2}}{2\\sigma ^{2}}}})}$"
      ]
    },
    {
      "cell_type": "code",
      "metadata": {
        "id": "Sx5jxkkU_6F7",
        "colab_type": "code",
        "outputId": "da706839-b3a4-4c28-952c-9a6cab072485",
        "colab": {
          "base_uri": "https://localhost:8080/",
          "height": 317
        }
      },
      "source": [
        "import math\n",
        "\n",
        "sqrt2pi = math.sqrt(2*math.pi)\n",
        "\n",
        "#def normal_pdf(x:float, mu:float=0, sigma:float=1) -> float:\n",
        "def normal_pdf(x, mu=0.0, sigma=1.0) -> float:\n",
        "  return (math.exp(-(x-mu)**2/(2*sigma**2))/(sqrt2pi*sigma))\n",
        "\n",
        "import matplotlib.pyplot as plt\n",
        "xs = [x/10.0 for x in range(-50, 50)]\n",
        "print(xs)\n",
        "plt.plot(xs, [normal_pdf(x, sigma=1) for x in xs], 'b.', label='mu=0, sigma=1')\n",
        "plt.plot(xs, [normal_pdf(x, sigma=0.5) for x in xs], 'g-', label='mu=0, sigma=0.5')\n",
        "plt.plot(xs, [normal_pdf(x, mu=-1.0) for x in xs], 'r+', label='mu=-1, sigma=1')\n",
        "plt.ylabel('f(x| mu, sigma)')\n",
        "plt.xlabel('mu;mean')\n",
        "plt.show()"
      ],
      "execution_count": 0,
      "outputs": [
        {
          "output_type": "stream",
          "text": [
            "[-5.0, -4.9, -4.8, -4.7, -4.6, -4.5, -4.4, -4.3, -4.2, -4.1, -4.0, -3.9, -3.8, -3.7, -3.6, -3.5, -3.4, -3.3, -3.2, -3.1, -3.0, -2.9, -2.8, -2.7, -2.6, -2.5, -2.4, -2.3, -2.2, -2.1, -2.0, -1.9, -1.8, -1.7, -1.6, -1.5, -1.4, -1.3, -1.2, -1.1, -1.0, -0.9, -0.8, -0.7, -0.6, -0.5, -0.4, -0.3, -0.2, -0.1, 0.0, 0.1, 0.2, 0.3, 0.4, 0.5, 0.6, 0.7, 0.8, 0.9, 1.0, 1.1, 1.2, 1.3, 1.4, 1.5, 1.6, 1.7, 1.8, 1.9, 2.0, 2.1, 2.2, 2.3, 2.4, 2.5, 2.6, 2.7, 2.8, 2.9, 3.0, 3.1, 3.2, 3.3, 3.4, 3.5, 3.6, 3.7, 3.8, 3.9, 4.0, 4.1, 4.2, 4.3, 4.4, 4.5, 4.6, 4.7, 4.8, 4.9]\n"
          ],
          "name": "stdout"
        },
        {
          "output_type": "display_data",
          "data": {
            "image/png": "[encoded data removed]",
            "text/plain": [
              "<Figure size 432x288 with 1 Axes>"
            ]
          },
          "metadata": {
            "tags": [],
            "needs_background": "light"
          }
        }
      ]
    }
  ]
}