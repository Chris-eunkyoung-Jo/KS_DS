{
  "nbformat": 4,
  "nbformat_minor": 0,
  "metadata": {
    "colab": {
      "name": "linear_algebra_4_vector.ipynb",
      "provenance": [],
      "collapsed_sections": [],
      "include_colab_link": true
    },
    "kernelspec": {
      "name": "python3",
      "display_name": "Python 3"
    }
  },
  "cells": [
    {
      "cell_type": "markdown",
      "metadata": {
        "id": "view-in-github",
        "colab_type": "text"
      },
      "source": [
        "<a href=\"https://colab.research.google.com/github/Chris-eunkyoung-Jo/KS_DS/blob/master/linear_algebra_4_vector.ipynb\" target=\"_parent\"><img src=\"https://colab.research.google.com/assets/colab-badge.svg\" alt=\"Open In Colab\"/></a>"
      ]
    },
    {
      "cell_type": "markdown",
      "metadata": {
        "id": "odfslN6LKa2t",
        "colab_type": "text"
      },
      "source": [
        "Date: 2020.04.28\n",
        "Theme: Linear Algebra for Vector\n",
        "# Ch.10 working with data \n",
        "\n",
        "depends on \n",
        "***Linear Algebra*** . \n",
        "\n",
        "Linear algebra is for Vector calculation and manipulation.\n",
        "\n",
        "Data are representend in vectors. "
      ]
    },
    {
      "cell_type": "code",
      "metadata": {
        "id": "p9d12rhTVvrn",
        "colab_type": "code",
        "outputId": "5c03183c-61ee-4cbe-d1b1-919afb9c98e6",
        "colab": {
          "base_uri": "https://localhost:8080/",
          "height": 72
        }
      },
      "source": [
        "# students = [exam1, exam2, exam3, exam4]\n",
        "grades1 = [90.5, 80.2, 75, 62]\n",
        "grades2 = [92, 80, 69.4, 68]\n",
        "grades3 = [85, 81, 70, 72]\n",
        "print('g1:', grades1)\n",
        "print('g2:', grades2)\n",
        "print('g3:', grades3)"
      ],
      "execution_count": 0,
      "outputs": [
        {
          "output_type": "stream",
          "text": [
            "g1: [90.5, 80.2, 75, 62]\n",
            "g2: [92, 80, 69.4, 68]\n",
            "g3: [85, 81, 70, 72]\n"
          ],
          "name": "stdout"
        }
      ]
    },
    {
      "cell_type": "code",
      "metadata": {
        "id": "OtagJzHFPC7E",
        "colab_type": "code",
        "outputId": "e4f62f35-b323-41dd-bb62-69877ea4f5e4",
        "colab": {
          "base_uri": "https://localhost:8080/",
          "height": 54
        }
      },
      "source": [
        "def add(v, w) :   #No type annotation\n",
        "  assert len(v) == len(w), \"vectors must be the same length\"\n",
        "  return [v_i + w_i for v_i, w_i in zip(v, w)]\n",
        "\n",
        "print(add([1,2], [2,1]))\n",
        "print(add(grades1, grades2))"
      ],
      "execution_count": 0,
      "outputs": [
        {
          "output_type": "stream",
          "text": [
            "[3, 3]\n",
            "[182.5, 160.2, 144.4, 130]\n"
          ],
          "name": "stdout"
        }
      ]
    },
    {
      "cell_type": "code",
      "metadata": {
        "id": "SzifZl4hYgVx",
        "colab_type": "code",
        "outputId": "13d59127-048f-4605-d690-017e0c75f3b9",
        "colab": {
          "base_uri": "https://localhost:8080/",
          "height": 54
        }
      },
      "source": [
        "Vector = list\n",
        "def add(v: Vector, w: Vector)  -> Vector:   # type annotation. \n",
        "  assert len(v) == len(w), \"vectors must be the same length\"\n",
        "  return [v_i + w_i for v_i, w_i in zip(v, w)]\n",
        "\n",
        "#below is for checking the result. think about the coordinate. \n",
        "print(add([1,2], [2,1]))\n",
        "print(add(grades1, grades2))"
      ],
      "execution_count": 0,
      "outputs": [
        {
          "output_type": "stream",
          "text": [
            "[3, 3]\n",
            "[182.5, 160.2, 144.4, 130]\n"
          ],
          "name": "stdout"
        }
      ]
    },
    {
      "cell_type": "code",
      "metadata": {
        "id": "S35_tA-bPoq-",
        "colab_type": "code",
        "outputId": "59c38140-aa11-4a99-b4be-198cd2e3acae",
        "colab": {
          "base_uri": "https://localhost:8080/",
          "height": 72
        }
      },
      "source": [
        "def subtract(v:Vector, w:Vector) -> Vector:\n",
        "  assert len(v)== len(w)\n",
        "  return [v_i - w_i for v_i, w_i in zip(v, w)]\n",
        "\n",
        "print(subtract([1,2], [2,1]))\n",
        "print(subtract([5,7,9], [4,5,6]))\n",
        "print(subtract(grades1, grades2))"
      ],
      "execution_count": 0,
      "outputs": [
        {
          "output_type": "stream",
          "text": [
            "[-1, 1]\n",
            "[1, 2, 3]\n",
            "[-1.5, 0.20000000000000284, 5.599999999999994, -6]\n"
          ],
          "name": "stdout"
        }
      ]
    },
    {
      "cell_type": "code",
      "metadata": {
        "id": "APFJnYKkQh0U",
        "colab_type": "code",
        "outputId": "17995f79-5e19-4441-9a1d-1b60435de5c2",
        "colab": {
          "base_uri": "https://localhost:8080/",
          "height": 72
        }
      },
      "source": [
        "def subtract(v, w) :\n",
        "  assert len(v)== len(w)\n",
        "  return [v_i - w_i for v_i, w_i in zip(v, w)]\n",
        "\n",
        "print(subtract([1,2], [2,1]))\n",
        "print(subtract([5,7,9], [4,5,6]))\n",
        "print(subtract(grades1, grades2))"
      ],
      "execution_count": 0,
      "outputs": [
        {
          "output_type": "stream",
          "text": [
            "[-1, 1]\n",
            "[1, 2, 3]\n",
            "[-1.5, 0.20000000000000284, 5.599999999999994, -6]\n"
          ],
          "name": "stdout"
        }
      ]
    },
    {
      "cell_type": "code",
      "metadata": {
        "id": "HJJsaB2sZjVM",
        "colab_type": "code",
        "outputId": "401d19a5-1417-4b27-aa23-a21155c5d7e1",
        "colab": {
          "base_uri": "https://localhost:8080/",
          "height": 54
        }
      },
      "source": [
        "#componentwise sum of vectors \n",
        "#def vector_sum(vectors:[Vector]) -> Vector: # type annotation\n",
        "def vector_sum(vectors): # No type annotation\n",
        "  assert vectors, \"no vectors provided\"\n",
        "  num_elements = len(vectors[0])\n",
        "  assert all(len(v) == num_elements for v in vectors), 'different sizes'\n",
        "  return [sum(vector[i] for vector in vectors) for i in range(num_elements)]\n",
        "\n",
        "assert vector_sum([[1,2], [3,4], [7,8]]) == [11,14]\n",
        "print('sum of g1, g2 =', vector_sum([grades1, grades2]))\n",
        "print('sum of g1, g2, g3 =', vector_sum([grades1, grades2, grades3]))"
      ],
      "execution_count": 0,
      "outputs": [
        {
          "output_type": "stream",
          "text": [
            "sum of g1, g2 = [182.5, 160.2, 144.4, 130]\n",
            "sum of g1, g2, g3 = [267.5, 241.2, 214.4, 202]\n"
          ],
          "name": "stdout"
        }
      ]
    },
    {
      "cell_type": "code",
      "metadata": {
        "id": "nE9CdLtePrPn",
        "colab_type": "code",
        "outputId": "3dad023f-ab66-4442-cbfc-a03f37b320ab",
        "colab": {
          "base_uri": "https://localhost:8080/",
          "height": 54
        }
      },
      "source": [
        "#def scalar_multiply(c:float, v:Vector) -> Vector:\n",
        "def scalar_multiply(c, v): # No type annotation\n",
        "  return [c*v_i for v_i in v]\n",
        "\n",
        "assert scalar_multiply(0.5, [1,2]) == [0.5, 1.0], \"Never see this\"\n",
        "print(scalar_multiply(2, [1,2]))\n",
        "print(scalar_multiply(2, grades1))"
      ],
      "execution_count": 0,
      "outputs": [
        {
          "output_type": "stream",
          "text": [
            "[2, 4]\n",
            "[181.0, 160.4, 150, 124]\n"
          ],
          "name": "stdout"
        }
      ]
    },
    {
      "cell_type": "code",
      "metadata": {
        "id": "moK4go1KeCDY",
        "colab_type": "code",
        "outputId": "0ab469b6-4880-4de6-aedb-c6bba5563b27",
        "colab": {
          "base_uri": "https://localhost:8080/",
          "height": 54
        }
      },
      "source": [
        "def vector_mean(vectors: [Vector]) -> Vector:\n",
        "#def vector_mean(vectors):\n",
        "  n = len(vectors)\n",
        "  return scalar_multiply(1/n, vector_sum(vectors))\n",
        "\n",
        "print(vector_mean([grades1, grades2]))\n",
        "print(vector_mean([grades2, grades3]))"
      ],
      "execution_count": 0,
      "outputs": [
        {
          "output_type": "stream",
          "text": [
            "[91.25, 80.1, 72.2, 65.0]\n",
            "[88.5, 80.5, 69.7, 70.0]\n"
          ],
          "name": "stdout"
        }
      ]
    },
    {
      "cell_type": "code",
      "metadata": {
        "id": "-cE-5Glzfv_p",
        "colab_type": "code",
        "outputId": "065a1d89-efe3-4aae-8029-885646dad868",
        "colab": {
          "base_uri": "https://localhost:8080/",
          "height": 72
        }
      },
      "source": [
        "#def dot(v:Vector, w:Vector) -> float:\n",
        "def dot(v, w) :  \n",
        "  assert len(v) == len(w), \"vectors must be the same length\"\n",
        "  return sum(v_i*w_i for v_i, w_i in zip(v, w))\n",
        "\n",
        "print('dot p', dot([1,2,3], [4,5,6]))\n",
        "print('dot p', dot([1,2,3], [1,2,3]))\n",
        "print('dot p', dot([1,2], [1, 1.5]))"
      ],
      "execution_count": 0,
      "outputs": [
        {
          "output_type": "stream",
          "text": [
            "dot p 32\n",
            "dot p 14\n",
            "dot p 4.0\n"
          ],
          "name": "stdout"
        }
      ]
    },
    {
      "cell_type": "code",
      "metadata": {
        "id": "KSrRDivdQTaK",
        "colab_type": "code",
        "outputId": "a1034319-9dbc-427d-f567-1c7717c3304e",
        "colab": {
          "base_uri": "https://localhost:8080/",
          "height": 72
        }
      },
      "source": [
        "def sum_of_squares(v:Vector) -> float:\n",
        "  #return sum([v_i*v_i for v_i in v]) \n",
        "  return dot(v,v) #same in the textbook\n",
        "\n",
        "def squared_distance(v, w):\n",
        "  return sum_of_squares(subtract(v,w))\n",
        "\n",
        "import math\n",
        "def distance(v:Vector, w:Vector) -> float:\n",
        "  return math.sqrt(squared_distance(v,w)) \n",
        "\n",
        "print('subtract', subtract([1,2,3], [4,5,6]))\n",
        "print('squared distance', squared_distance([1,2,3], [4,5,6]))\n",
        "print('sqrt of squared d', distance([1,2,3], [4,5,6]))"
      ],
      "execution_count": 0,
      "outputs": [
        {
          "output_type": "stream",
          "text": [
            "subtract [-3, -3, -3]\n",
            "squared distance 27\n",
            "sqrt of squared d 5.196152422706632\n"
          ],
          "name": "stdout"
        }
      ]
    },
    {
      "cell_type": "markdown",
      "metadata": {
        "id": "txZir1pDRwRQ",
        "colab_type": "text"
      },
      "source": [
        "**Quizzes**\n",
        "\n",
        "1. Calculate mean of every exam\n",
        "\n",
        "2.  Calculate how different btw two students in terms of all exams. "
      ]
    },
    {
      "cell_type": "code",
      "metadata": {
        "id": "-GEDoZppW2Fv",
        "colab_type": "code",
        "colab": {}
      },
      "source": [
        "#student_name = [ exam1, exam2, exam3, exam4]\n",
        "eojin = [92, 80, 69.4, 68]\n",
        "minki = [90.5, 80.2, 75, 62]\n",
        "sumi = [85, 81, 70, 72]"
      ],
      "execution_count": 0,
      "outputs": []
    },
    {
      "cell_type": "code",
      "metadata": {
        "id": "Oe_nummvND7A",
        "colab_type": "code",
        "outputId": "f2408671-9910-4a28-951e-28322f4fbc2b",
        "colab": {
          "base_uri": "https://localhost:8080/",
          "height": 108
        }
      },
      "source": [
        "print('means of exams', vector_mean([minki, eojin, eojin])) \n",
        "print('***e;eojin, m;minki, s;sumi***')\n",
        "print('how different btw e & m', distance(minki, eojin)) \n",
        "print('how different btw e & s', distance(eojin, sumi)) \n",
        "print('how different btw m & s', distance(minki, sumi)) "
      ],
      "execution_count": 0,
      "outputs": [
        {
          "output_type": "stream",
          "text": [
            "means of exams [91.5, 80.06666666666666, 71.26666666666667, 66.0]\n",
            "***e;eojin, m;minki, s;sumi***\n",
            "how different btw e & m 8.345657553482525\n",
            "how different btw e & s 8.146164741766519\n",
            "how different btw m & s 12.485591696031069\n"
          ],
          "name": "stdout"
        }
      ]
    }
  ]
}