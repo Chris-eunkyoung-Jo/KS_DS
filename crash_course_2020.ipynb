{
  "nbformat": 4,
  "nbformat_minor": 0,
  "metadata": {
    "colab": {
      "name": "crash_course-2020.ipynb",
      "provenance": [],
      "collapsed_sections": [],
      "include_colab_link": true
    },
    "kernelspec": {
      "name": "python3",
      "display_name": "Python 3"
    }
  },
  "cells": [
    {
      "cell_type": "markdown",
      "metadata": {
        "id": "view-in-github",
        "colab_type": "text"
      },
      "source": [
        "<a href=\"https://colab.research.google.com/github/Chris-eunkyoung-Jo/KS_DS/blob/master/crash_course_2020.ipynb\" target=\"_parent\"><img src=\"https://colab.research.google.com/assets/colab-badge.svg\" alt=\"Open In Colab\"/></a>"
      ]
    },
    {
      "cell_type": "markdown",
      "metadata": {
        "id": "gF36pmlTbXb_",
        "colab_type": "text"
      },
      "source": [
        "Date:2020.03.26\n",
        "\n",
        "Writer: Eunkyoung Jo\n",
        "\n",
        "Theme: Python exercise\n",
        "\n",
        "Ch. 2 A crash course in Python in [Data Science from scratch] by Joel Grus"
      ]
    },
    {
      "cell_type": "markdown",
      "metadata": {
        "id": "y4blmp09TZ2-",
        "colab_type": "text"
      },
      "source": [
        "# Basics\n",
        "**Whitespace formatting**\n",
        "\n",
        ": space characters, tab characters, line breaks(new line characters)\n",
        "\n",
        "Many editors( IDLE, Vim, Colab, ...) automatically give indentation in many cases. \n",
        "\n",
        "But when a program gets longer, be careful not to use both mixed. \n"
      ]
    },
    {
      "cell_type": "code",
      "metadata": {
        "id": "6TDgDNJiQQ2x",
        "colab_type": "code",
        "colab": {}
      },
      "source": [
        "for i in [1,2,3]:\n",
        "  print(i)\n",
        "  \n",
        "\n",
        "while i < 100:\n",
        "  i = i+ 1\n",
        "  print(i)\n"
      ],
      "execution_count": 0,
      "outputs": []
    },
    {
      "cell_type": "markdown",
      "metadata": {
        "id": "S7xGS_LaT6ye",
        "colab_type": "text"
      },
      "source": [
        "**Modules**\n",
        "\n",
        "If a module which you want to use is not loaded by default,\n",
        "\n",
        "import modulename to load. "
      ]
    },
    {
      "cell_type": "code",
      "metadata": {
        "id": "6WPQ5FsBUOGl",
        "colab_type": "code",
        "colab": {}
      },
      "source": [
        "import matplotlib.pyplot as plt\n",
        "\n",
        "dir(plt) # to see what functions and attributes are there. "
      ],
      "execution_count": 0,
      "outputs": []
    },
    {
      "cell_type": "markdown",
      "metadata": {
        "id": "K70rufafWw-w",
        "colab_type": "text"
      },
      "source": [
        "**Funtions**\n",
        "\n",
        "0. built-in functions are simply available to use. print(), sum(), ...\n",
        "\n",
        "1. user define functions have 2 steps\n",
        "\n",
        "  - define a function with its parameters and return which are optional\n",
        "  - call the defined function.\n",
        "  \n",
        "2. labmda function = anonymous function\n",
        "\n",
        "  - 1 line of definition without a specific name\n",
        "  - call it."
      ]
    },
    {
      "cell_type": "code",
      "metadata": {
        "id": "YEbUlPjHXxCA",
        "colab_type": "code",
        "outputId": "ca98d618-010c-46b3-a78c-0277576daff1",
        "colab": {
          "base_uri": "https://localhost:8080/",
          "height": 111
        }
      },
      "source": [
        "#0\n",
        "var=sum([1,2,3])\n",
        "print('default func, sum', var)\n",
        "\n",
        "#1.\n",
        "def my_sum(a_list):\n",
        "  ret_val = 0\n",
        "  for a in a_list:\n",
        "    ret_val = ret_val + a\n",
        "  return ret_val\n",
        "\n",
        "ret=my_sum([1,2,3])\n",
        "print('returned from my_sum', ret)\n",
        "print('another example', my_sum([4,5,6]))\n",
        "\n",
        "#2.\n",
        "who_sums = lambda x:sum(x)\n",
        "print('1 line function', who_sums([2,3,4]))\n",
        "print('another example', who_sums([10,10,10]))"
      ],
      "execution_count": 0,
      "outputs": [
        {
          "output_type": "stream",
          "text": [
            "default func, sum 6\n",
            "returned from my_sum 6\n",
            "another example 15\n",
            "1 line function 9\n",
            "another example 30\n"
          ],
          "name": "stdout"
        }
      ]
    },
    {
      "cell_type": "markdown",
      "metadata": {
        "id": "OE0QLM8klBF7",
        "colab_type": "text"
      },
      "source": [
        "# Data types\n",
        "**String, List, Tuple, Dictionary, Set**\n",
        "\n",
        "called sequence types.\n",
        "accessible to element with [index]\n",
        "\n",
        "**Integer, float**\n",
        "\n",
        "called numeric types.\n",
        "calculated with numeric values\n",
        "\n",
        "\n",
        "**True, False**\n",
        "\n",
        "called boolean type.\n",
        "same with 1 and 0 respectively\n"
      ]
    },
    {
      "cell_type": "code",
      "metadata": {
        "id": "LZk_ZMvvmAvD",
        "colab_type": "code",
        "outputId": "77b4d258-4b95-4f34-fe10-9b3d32af9542",
        "colab": {
          "base_uri": "https://localhost:8080/",
          "height": 255
        }
      },
      "source": [
        "str1 = 'data & ai'\n",
        "str2 = \"data&ai\"\n",
        "str3 = \"\"\"data \n",
        "& ai\"\"\"\n",
        "\n",
        "'''# newline between ' ', \"\" makes error\n",
        "str4='data \n",
        "& ai'\n",
        "'''\n",
        "str4 = '{0}, {1}'.format('name', 'family name')\n",
        "str5 = '%s %s' %('Joel', 'Grus')\n",
        "\n",
        "print('str1', str1)\n",
        "print('str2', str2)\n",
        "print('str3', str3)\n",
        "print('str4', str4)\n",
        "print('str5', str5)\n",
        "\n",
        "for i in range(len(str5)):\n",
        "  if str5[i] != ' ': print(str5[i])"
      ],
      "execution_count": 0,
      "outputs": [
        {
          "output_type": "stream",
          "text": [
            "str1 data & ai\n",
            "str2 data&ai\n",
            "str3 data \n",
            "& ai\n",
            "str4 name, family name\n",
            "str5 Joel Grus\n",
            "J\n",
            "o\n",
            "e\n",
            "l\n",
            "G\n",
            "r\n",
            "u\n",
            "s\n"
          ],
          "name": "stdout"
        }
      ]
    },
    {
      "cell_type": "code",
      "metadata": {
        "id": "T4V8cFeqjyhu",
        "colab_type": "code",
        "outputId": "3df5d3ee-14cb-4226-ffd6-b26c65cfa04c",
        "colab": {
          "base_uri": "https://localhost:8080/",
          "height": 170
        }
      },
      "source": [
        "#sequence data\n",
        "list1=[str1,str2,str3]\n",
        "dict1={str1:1,str2:2.0,str3:3,str1:4} #4 pairs given\n",
        "tup1=(str1,str2,str3)\n",
        "set1={str1,str2,str1} #3 elements\n",
        "print('list',list1)\n",
        "print('tuple',tup1)\n",
        "print('dict',dict1) #3 keys\n",
        "print('set',set1)   #2 keys\n",
        "\n",
        "#Boolean type\n",
        "print('bool', str1==str2)\n",
        "if True == 1:\n",
        "  print('bool true is 1')\n",
        "  print(False==0)\n",
        "\n",
        "#numeric type\n",
        "print('numeric', 1, 2.0)\n",
        "print('numeric: %d %f' %(1, 2.0)) #format string"
      ],
      "execution_count": 0,
      "outputs": [
        {
          "output_type": "stream",
          "text": [
            "list ['data & ai', 'data&ai', 'data \\n& ai']\n",
            "tuple ('data & ai', 'data&ai', 'data \\n& ai')\n",
            "dict {'data & ai': 4, 'data&ai': 2.0, 'data \\n& ai': 3}\n",
            "set {'data & ai', 'data&ai'}\n",
            "bool False\n",
            "bool true is 1\n",
            "True\n",
            "numeric 1 2.0\n",
            "numeric: 1 2.000000\n"
          ],
          "name": "stdout"
        }
      ]
    },
    {
      "cell_type": "markdown",
      "metadata": {
        "id": "kXXm5o3Qj2h_",
        "colab_type": "text"
      },
      "source": [
        "to see what data type of a variable is : **type()**"
      ]
    },
    {
      "cell_type": "code",
      "metadata": {
        "id": "sXc6xG1ciWI4",
        "colab_type": "code",
        "outputId": "be12bd22-fc90-4293-fafd-419e6390ecef",
        "colab": {
          "base_uri": "https://localhost:8080/",
          "height": 153
        }
      },
      "source": [
        "checks=[str1,list1,dict1,tup1,set1, str1==str2, 1, 2.0]\n",
        "for each in checks:\n",
        "  print(type(each)) #type(param) returns the type of param"
      ],
      "execution_count": 0,
      "outputs": [
        {
          "output_type": "stream",
          "text": [
            "<class 'str'>\n",
            "<class 'list'>\n",
            "<class 'dict'>\n",
            "<class 'tuple'>\n",
            "<class 'set'>\n",
            "<class 'bool'>\n",
            "<class 'int'>\n",
            "<class 'float'>\n"
          ],
          "name": "stdout"
        }
      ]
    },
    {
      "cell_type": "markdown",
      "metadata": {
        "id": "xd1o97oNf_aK",
        "colab_type": "text"
      },
      "source": [
        "**Numeric operators**"
      ]
    },
    {
      "cell_type": "code",
      "metadata": {
        "id": "TrIhwmolf9I3",
        "colab_type": "code",
        "outputId": "a1420219-f8f4-493b-9cad-977f05003ea7",
        "colab": {
          "base_uri": "https://localhost:8080/",
          "height": 102
        }
      },
      "source": [
        "print(3+2, 3-2) # plus, minus\n",
        "print(3*2, 3**2) # multiply, square\n",
        "print(10/3)  # returns float\n",
        "print(10//3) # returns integer\n",
        "print(10%3)  # returns remaining"
      ],
      "execution_count": 0,
      "outputs": [
        {
          "output_type": "stream",
          "text": [
            "5 1\n",
            "6 9\n",
            "3.3333333333333335\n",
            "3\n",
            "1\n"
          ],
          "name": "stdout"
        }
      ]
    },
    {
      "cell_type": "markdown",
      "metadata": {
        "id": "wc1TnphifMDA",
        "colab_type": "text"
      },
      "source": [
        "**Various usages of sequence data**"
      ]
    },
    {
      "cell_type": "code",
      "metadata": {
        "id": "Q-6_VqRAw7BK",
        "colab_type": "code",
        "outputId": "32857466-fe2b-41a8-9cf8-fe809891b91f",
        "colab": {
          "base_uri": "https://localhost:8080/",
          "height": 221
        }
      },
      "source": [
        "str1='a'\n",
        "str2='b'\n",
        "str3 = str1+str2\n",
        "print(str3)\n",
        "\n",
        "list2=[1,2,3]\n",
        "list2.append(1) # add 1 in the end\n",
        "print(list2)\n",
        "list2.extend(list2) #extend another list\n",
        "print('extended', list2)\n",
        "list2.clear()\n",
        "print('cleared', list2)\n",
        "\n",
        "#tup1[1] = 2 # makes error\n",
        "print('str1:', str1, ',str2:', str2)\n",
        "str1,str2=str2,str1 #swapped\n",
        "print('str1:', str1,',str2:',str2)\n",
        "\n",
        "print(dict1)\n",
        "print(dict1.keys()) # keys only\n",
        "print(dict1.values()) # values only\n",
        "print(dict1.items())  # key-value pairs\n",
        "print(dict1.get('data&ai', 'none')) \n",
        "print(dict1.get('Joel', 'none')) #if there's no key, "
      ],
      "execution_count": 0,
      "outputs": [
        {
          "output_type": "stream",
          "text": [
            "ab\n",
            "[1, 2, 3, 1]\n",
            "extended [1, 2, 3, 1, 1, 2, 3, 1]\n",
            "cleared []\n",
            "str1: a ,str2: b\n",
            "str1: b ,str2: a\n",
            "{'data & ai': 4, 'data&ai': 2.0, 'data \\n& ai': 3}\n",
            "dict_keys(['data & ai', 'data&ai', 'data \\n& ai'])\n",
            "dict_values([4, 2.0, 3])\n",
            "dict_items([('data & ai', 4), ('data&ai', 2.0), ('data \\n& ai', 3)])\n",
            "2.0\n",
            "none\n"
          ],
          "name": "stdout"
        }
      ]
    },
    {
      "cell_type": "code",
      "metadata": {
        "id": "mV37VngvN5p1",
        "colab_type": "code",
        "outputId": "a0e7aa6f-dabb-4b2c-ac29-518451ae6dc8",
        "colab": {
          "base_uri": "https://localhost:8080/",
          "height": 51
        }
      },
      "source": [
        "dict1={str1:1,str2:2.0,str3:3,str1:4}\n",
        "print(dict1)\n",
        "#print(dict1['abc'])\n",
        "print(dict1.get(str1, 'none'))"
      ],
      "execution_count": 0,
      "outputs": [
        {
          "output_type": "stream",
          "text": [
            "{'b': 4, 'a': 2.0, 'ab': 3}\n",
            "4\n"
          ],
          "name": "stdout"
        }
      ]
    },
    {
      "cell_type": "markdown",
      "metadata": {
        "id": "AH3Hd1yiX2NW",
        "colab_type": "text"
      },
      "source": [
        "**Sorting sequence data** "
      ]
    },
    {
      "cell_type": "code",
      "metadata": {
        "id": "lpOV_0V09N9X",
        "colab_type": "code",
        "outputId": "510748f4-7288-4d3f-a06a-dd9074c1de8f",
        "colab": {
          "base_uri": "https://localhost:8080/",
          "height": 136
        }
      },
      "source": [
        "x = [4,1,2,3]\n",
        "y = sorted(x)\n",
        "print(y)\n",
        "print(x)\n",
        "print(x.sort()) #returns none\n",
        "print(x)\n",
        "\n",
        "x.sort(reverse=True)\n",
        "print(x)\n",
        "\n",
        "print(dict1)\n",
        "#dictionary keys could not be sorted since not saved in order. \n",
        "#sorted_dict1 = dict1.sort(key=lambda each:each[1]) #'dict' object has no attribute 'sort'\n",
        "sorted_dict1 = sorted(dict1.items(), key=lambda each:each[1]) # to sort by value\n",
        "print(sorted_dict1)"
      ],
      "execution_count": 0,
      "outputs": [
        {
          "output_type": "stream",
          "text": [
            "[1, 2, 3, 4]\n",
            "[4, 1, 2, 3]\n",
            "None\n",
            "[1, 2, 3, 4]\n",
            "[4, 3, 2, 1]\n",
            "{'data & ai': 4, 'data&ai': 2.0, 'data \\n& ai': 3}\n",
            "[('data&ai', 2.0), ('data \\n& ai', 3), ('data & ai', 4)]\n"
          ],
          "name": "stdout"
        }
      ]
    },
    {
      "cell_type": "code",
      "metadata": {
        "id": "2dTh49qikTdx",
        "colab_type": "code",
        "colab": {}
      },
      "source": [
        "# To see what member functions are\n",
        "dir([1,2,3])"
      ],
      "execution_count": 0,
      "outputs": []
    },
    {
      "cell_type": "markdown",
      "metadata": {
        "id": "5uChf2vtxFme",
        "colab_type": "text"
      },
      "source": [
        "# Not so basics\n",
        "\n",
        "**List comprehension, _**"
      ]
    },
    {
      "cell_type": "code",
      "metadata": {
        "id": "-yL0VB2izmFi",
        "colab_type": "code",
        "outputId": "c4afd769-a5fe-400c-ebbd-98149a43d8b6",
        "colab": {
          "base_uri": "https://localhost:8080/",
          "height": 102
        }
      },
      "source": [
        "even_numbers = [x for x in range(10) if x%2 == 0] \n",
        "print(even_numbers)\n",
        "\n",
        "even_numbers2 = []\n",
        "for x in range(10):\n",
        "  if x % 2 == 0:\n",
        "    even_numbers2.append(x)\n",
        "print(even_numbers2)\n",
        "\n",
        "square_dict = {x:x*x for x in range(10)}\n",
        "print(square_dict)\n",
        "\n",
        "square_dict2 = {}\n",
        "for x in range(10):\n",
        "  square_dict2[x] = x*x\n",
        "print(square_dict2)\n",
        "\n",
        "#anonymous variable _\n",
        "for _ in range(10): print(_, end=',')\n"
      ],
      "execution_count": 0,
      "outputs": [
        {
          "output_type": "stream",
          "text": [
            "[0, 2, 4, 6, 8]\n",
            "[0, 2, 4, 6, 8]\n",
            "{0: 0, 1: 1, 2: 4, 3: 9, 4: 16, 5: 25, 6: 36, 7: 49, 8: 64, 9: 81}\n",
            "{0: 0, 1: 1, 2: 4, 3: 9, 4: 16, 5: 25, 6: 36, 7: 49, 8: 64, 9: 81}\n",
            "0,1,2,3,4,5,6,7,8,9,"
          ],
          "name": "stdout"
        }
      ]
    },
    {
      "cell_type": "markdown",
      "metadata": {
        "id": "B3mtzACW1Aos",
        "colab_type": "text"
      },
      "source": [
        "**OOP & class**\n",
        "\n",
        "To encapsulate data and the functions that operate them, We create a class of it."
      ]
    },
    {
      "cell_type": "code",
      "metadata": {
        "id": "7f9-V11T11PD",
        "colab_type": "code",
        "outputId": "b7d89fd9-6385-4eb4-9206-a1d492015f21",
        "colab": {
          "base_uri": "https://localhost:8080/",
          "height": 85
        }
      },
      "source": [
        "class CountingClicker:\n",
        "  def __init__(self, count=0): #constructor\n",
        "    self.count=count\n",
        "    \n",
        "  def click(self, num_times=1):\n",
        "    self.count += num_times\n",
        "    \n",
        "  def read(self):\n",
        "    return self.count\n",
        "  \n",
        "  def reset(self):\n",
        "    self.count = 0\n",
        "    \n",
        "  def nomember():# why self should be specified. \n",
        "    print('you should not see this')\n",
        "    \n",
        "a_clicker = CountingClicker()\n",
        "a_clicker.click()\n",
        "print(a_clicker.read())\n",
        "a_clicker.click(3)\n",
        "print(a_clicker.read())\n",
        "a_clicker.reset()\n",
        "print(a_clicker.read())\n",
        "print(type(a_clicker))\n",
        "#a_clicker.nomember()"
      ],
      "execution_count": 0,
      "outputs": [
        {
          "output_type": "stream",
          "text": [
            "1\n",
            "4\n",
            "0\n",
            "<class '__main__.CountingClicker'>\n"
          ],
          "name": "stdout"
        }
      ]
    },
    {
      "cell_type": "markdown",
      "metadata": {
        "id": "x_fbPZMF5ZDl",
        "colab_type": "text"
      },
      "source": [
        "**Class inheritance**\n",
        "\n",
        "Reuse the existing class and Redefine only different parts. \n"
      ]
    },
    {
      "cell_type": "code",
      "metadata": {
        "id": "NI60pFuq3yzM",
        "colab_type": "code",
        "outputId": "d7c76582-26ba-412d-fd6d-c1849da3b73c",
        "colab": {
          "base_uri": "https://localhost:8080/",
          "height": 85
        }
      },
      "source": [
        "class NoResetClicker(CountingClicker):\n",
        "  def reset(self): # redefined not to reset \n",
        "    pass\n",
        "\n",
        "a_clicker2 = NoResetClicker()\n",
        "print(a_clicker2.read())\n",
        "a_clicker2.click()\n",
        "a_clicker2.click(2)\n",
        "print(a_clicker2.read())\n",
        "a_clicker2.reset() # Not changed\n",
        "print(a_clicker2.read()) \n",
        "print(type(a_clicker2))"
      ],
      "execution_count": 0,
      "outputs": [
        {
          "output_type": "stream",
          "text": [
            "0\n",
            "3\n",
            "3\n",
            "<class '__main__.NoResetClicker'>\n"
          ],
          "name": "stdout"
        }
      ]
    },
    {
      "cell_type": "markdown",
      "metadata": {
        "id": "AEwlkru_6mHy",
        "colab_type": "text"
      },
      "source": [
        "**Randomness**\n",
        "\n",
        "With random.random(): generates float numbers in range [0,1]\n",
        "\n",
        "random.shuffle(list): reorders list\n",
        "\n",
        "random.choice(list): chooses one"
      ]
    },
    {
      "cell_type": "code",
      "metadata": {
        "id": "HdS-iZaX6pPq",
        "colab_type": "code",
        "outputId": "29c72e28-2441-4d10-c649-143ec1110ff5",
        "colab": {
          "base_uri": "https://localhost:8080/",
          "height": 107
        }
      },
      "source": [
        "import random\n",
        "print(random.random())\n",
        "random_list = [random.random() for _ in range(5)]\n",
        "print(random_list)\n",
        "\n",
        "#randomly reorders the elements of a list\n",
        "up_to_10 = [i for i in range(10)]\n",
        "print(up_to_10)\n",
        "random.shuffle(up_to_10)\n",
        "print(up_to_10)\n",
        "print(random.choice(range(10)))"
      ],
      "execution_count": 0,
      "outputs": [
        {
          "output_type": "stream",
          "text": [
            "0.1860646224114929\n",
            "[0.1235012871720449, 0.3510945464203161, 0.3403524581173184, 0.8375440180160592, 0.6342141028866375]\n",
            "[0, 1, 2, 3, 4, 5, 6, 7, 8, 9]\n",
            "[3, 2, 5, 8, 7, 1, 0, 6, 9, 4]\n",
            "0\n"
          ],
          "name": "stdout"
        }
      ]
    },
    {
      "cell_type": "code",
      "metadata": {
        "id": "lfhugXphyE-d",
        "colab_type": "code",
        "outputId": "361e9f28-33a9-4b9f-86aa-dc2d5a3617a8",
        "colab": {
          "base_uri": "https://localhost:8080/",
          "height": 34
        }
      },
      "source": [
        "import datetime\n",
        "print('starting time:', datetime.datetime.utcnow())"
      ],
      "execution_count": 0,
      "outputs": [
        {
          "output_type": "stream",
          "text": [
            "starting time: 2020-03-26 11:30:15.389816\n"
          ],
          "name": "stdout"
        }
      ]
    },
    {
      "cell_type": "code",
      "metadata": {
        "id": "48t6Rojl7G7w",
        "colab_type": "code",
        "outputId": "8b10651b-3582-4bef-8939-bcf12673eb77",
        "colab": {
          "base_uri": "https://localhost:8080/",
          "height": 125
        }
      },
      "source": [
        "#If you want to generate the same number every time \n",
        "random.seed()\n",
        "print(random.random())\n",
        "random_list = [random.random() for _ in range(5)]\n",
        "print(random_list)\n",
        "\n",
        "#randomly reorders the elements of a list\n",
        "up_to_10 = [i for i in range(10)]\n",
        "print(up_to_10)\n",
        "random.shuffle(up_to_10)\n",
        "print(up_to_10)\n",
        "print(random.choice(range(10)))\n",
        "import datetime\n",
        "print(datetime.datetime.now())"
      ],
      "execution_count": 0,
      "outputs": [
        {
          "output_type": "stream",
          "text": [
            "0.2142785162667944\n",
            "[0.12327586686763148, 0.44882065077280564, 0.9909725079093222, 0.4098673712592352, 0.35513634655720894]\n",
            "[0, 1, 2, 3, 4, 5, 6, 7, 8, 9]\n",
            "[3, 8, 7, 1, 5, 2, 4, 9, 0, 6]\n",
            "8\n",
            "2020-04-01 08:12:37.412191\n"
          ],
          "name": "stdout"
        }
      ]
    },
    {
      "cell_type": "markdown",
      "metadata": {
        "id": "iCmtTk7O2Cle",
        "colab_type": "text"
      },
      "source": [
        "**Generators, Iterables: zip, enumerate**"
      ]
    },
    {
      "cell_type": "markdown",
      "metadata": {
        "id": "Ln_mzVWA166o",
        "colab_type": "text"
      },
      "source": [
        "**Regular expressions**\n",
        " \n",
        " provide  a way of searching text. Incredibly useful, but fairly complicated to use correctly."
      ]
    },
    {
      "cell_type": "code",
      "metadata": {
        "id": "9zVzaTVo2EMl",
        "colab_type": "code",
        "outputId": "b8ab8321-8bc0-4661-afc2-058d949fb0d9",
        "colab": {
          "base_uri": "https://localhost:8080/",
          "height": 125
        }
      },
      "source": [
        "import re\n",
        "\n",
        "print(re.match(\"c\", \"cat\"))  #if matched, returns a valid object address which is true\n",
        "print(re.match(\"a\", \"cat\"))  # None is untrue\n",
        "print(re.search(\"a\", \"cat\")) \n",
        "print(re.search(\"c\", \"dog\")) \n",
        "print(re.split('[ab]', 'carbs'))\n",
        "print(re.sub('[0-9]', '-', 'R2D2') )              "
      ],
      "execution_count": 0,
      "outputs": [
        {
          "output_type": "stream",
          "text": [
            "<_sre.SRE_Match object; span=(0, 1), match='c'>\n",
            "None\n",
            "<_sre.SRE_Match object; span=(1, 2), match='a'>\n",
            "None\n",
            "['c', 'r', 's']\n",
            "R-D-\n"
          ],
          "name": "stdout"
        }
      ]
    },
    {
      "cell_type": "code",
      "metadata": {
        "id": "_DCbV-7MwOvN",
        "colab_type": "code",
        "outputId": "3905a66a-5823-433b-8793-2b23cf13028f",
        "colab": {
          "base_uri": "https://localhost:8080/",
          "height": 35
        }
      },
      "source": [
        "type((re.match(\"c\", \"cat\")) )\n",
        "#dir(re.match(\"c\", \"cat\"))"
      ],
      "execution_count": 0,
      "outputs": [
        {
          "output_type": "execute_result",
          "data": {
            "text/plain": [
              "_sre.SRE_Match"
            ]
          },
          "metadata": {
            "tags": []
          },
          "execution_count": 110
        }
      ]
    },
    {
      "cell_type": "code",
      "metadata": {
        "id": "8v3NbROK5dw5",
        "colab_type": "code",
        "outputId": "c46f397d-786b-426e-d84b-8eda4fcd9123",
        "colab": {
          "base_uri": "https://localhost:8080/",
          "height": 188
        }
      },
      "source": [
        "assert True\n",
        "assert False"
      ],
      "execution_count": 0,
      "outputs": [
        {
          "output_type": "error",
          "ename": "AssertionError",
          "evalue": "ignored",
          "traceback": [
            "\u001b[0;31m---------------------------------------------------------------------------\u001b[0m",
            "\u001b[0;31mAssertionError\u001b[0m                            Traceback (most recent call last)",
            "\u001b[0;32m<ipython-input-74-55c3d009781a>\u001b[0m in \u001b[0;36m<module>\u001b[0;34m()\u001b[0m\n\u001b[1;32m      1\u001b[0m \u001b[0;32massert\u001b[0m \u001b[0;32mTrue\u001b[0m\u001b[0;34m\u001b[0m\u001b[0;34m\u001b[0m\u001b[0m\n\u001b[0;32m----> 2\u001b[0;31m \u001b[0;32massert\u001b[0m \u001b[0;32mFalse\u001b[0m\u001b[0;34m\u001b[0m\u001b[0;34m\u001b[0m\u001b[0m\n\u001b[0m",
            "\u001b[0;31mAssertionError\u001b[0m: "
          ]
        }
      ]
    },
    {
      "cell_type": "code",
      "metadata": {
        "id": "SRUZtoUJ7I7g",
        "colab_type": "code",
        "colab": {}
      },
      "source": [
        "assert not False"
      ],
      "execution_count": 0,
      "outputs": []
    },
    {
      "cell_type": "code",
      "metadata": {
        "id": "6X5MLq6C40oX",
        "colab_type": "code",
        "outputId": "1871f8ab-d7b8-4c20-e402-d66f25e62e18",
        "colab": {
          "base_uri": "https://localhost:8080/",
          "height": 53
        }
      },
      "source": [
        "print(all([True, True, True]))  # all() takes a list type parameter\n",
        "print(all([True, False, True])) # if all are true, it returns true. "
      ],
      "execution_count": 0,
      "outputs": [
        {
          "output_type": "stream",
          "text": [
            "True\n",
            "False\n"
          ],
          "name": "stdout"
        }
      ]
    },
    {
      "cell_type": "code",
      "metadata": {
        "id": "fLN-nFGG4QBm",
        "colab_type": "code",
        "colab": {}
      },
      "source": [
        "re_examples = [ re.match(\"c\", \"cat\"), \n",
        "               not re.match(\"a\", \"cat\"), \n",
        "               re.search(\"a\", \"cat\"),\n",
        "               not re.search(\"c\", \"dog\"),\n",
        "               len(re.split('[ab]', 'carbs')) == 3,\n",
        "               re.sub('[0-9]', '-', 'R2D2')  == \"R-D-\"\n",
        "               ]\n",
        "assert all(re_examples)"
      ],
      "execution_count": 0,
      "outputs": []
    },
    {
      "cell_type": "markdown",
      "metadata": {
        "id": "fX9gvxSK_4OP",
        "colab_type": "text"
      },
      "source": [
        "**args and kwargs**\n",
        "\n",
        "Suppose we want to create a higher-order function that \n",
        "\n",
        "> takes some function f as input \n",
        "\n",
        "> and returns a new function that returns twice the value of f for any input. \n"
      ]
    },
    {
      "cell_type": "code",
      "metadata": {
        "id": "Gt8NMjXl_8gF",
        "colab_type": "code",
        "colab": {}
      },
      "source": [
        "def f1(x):\n",
        "  return x + 1\n",
        "\n",
        "def doubler(f):\n",
        "  def g(x):\n",
        "    return 2*f(x)\n",
        "  return g\n",
        "\n",
        "g = doubler(f1)  #g refers to the higher-oder function, doubler\n",
        "assert g(3) == 8,   \"(3+1) * 2 must be equal to 8\"\n",
        "assert g(-1) == 0, \"(-1+1) * 2 is 0\""
      ],
      "execution_count": 0,
      "outputs": []
    },
    {
      "cell_type": "markdown",
      "metadata": {
        "id": "qgbxEd-1C8fp",
        "colab_type": "text"
      },
      "source": [
        "However, this(higher-oder function doesn't work with functions taking 2 more arguments"
      ]
    },
    {
      "cell_type": "code",
      "metadata": {
        "id": "3BbMtyCF3nbG",
        "colab_type": "code",
        "outputId": "7c9ad6ee-2a0e-4872-8a8e-3b42d4bacd74",
        "colab": {
          "base_uri": "https://localhost:8080/",
          "height": 224
        }
      },
      "source": [
        "def f2(x, y):\n",
        "  return x + y\n",
        "\n",
        "g = doubler(f2)  #g refers to the higher-oder function, doubler\n",
        "assert g(2,1) == 6,   \"(2+1) * 2 must be equal to 6\"\n",
        "assert g(0,0) == 0, \"(0+0) * 2 is 0\""
      ],
      "execution_count": 0,
      "outputs": [
        {
          "output_type": "error",
          "ename": "TypeError",
          "evalue": "ignored",
          "traceback": [
            "\u001b[0;31m---------------------------------------------------------------------------\u001b[0m",
            "\u001b[0;31mTypeError\u001b[0m                                 Traceback (most recent call last)",
            "\u001b[0;32m<ipython-input-83-45f338620947>\u001b[0m in \u001b[0;36m<module>\u001b[0;34m()\u001b[0m\n\u001b[1;32m      3\u001b[0m \u001b[0;34m\u001b[0m\u001b[0m\n\u001b[1;32m      4\u001b[0m \u001b[0mg\u001b[0m \u001b[0;34m=\u001b[0m \u001b[0mdoubler\u001b[0m\u001b[0;34m(\u001b[0m\u001b[0mf2\u001b[0m\u001b[0;34m)\u001b[0m  \u001b[0;31m#g refers to the higher-oder function, doubler\u001b[0m\u001b[0;34m\u001b[0m\u001b[0;34m\u001b[0m\u001b[0m\n\u001b[0;32m----> 5\u001b[0;31m \u001b[0;32massert\u001b[0m \u001b[0mg\u001b[0m\u001b[0;34m(\u001b[0m\u001b[0;36m2\u001b[0m\u001b[0;34m,\u001b[0m\u001b[0;36m1\u001b[0m\u001b[0;34m)\u001b[0m \u001b[0;34m==\u001b[0m \u001b[0;36m6\u001b[0m\u001b[0;34m,\u001b[0m   \u001b[0;34m\"(2+1) * 2 must be equal to 6\"\u001b[0m\u001b[0;34m\u001b[0m\u001b[0;34m\u001b[0m\u001b[0m\n\u001b[0m\u001b[1;32m      6\u001b[0m \u001b[0;32massert\u001b[0m \u001b[0mg\u001b[0m\u001b[0;34m(\u001b[0m\u001b[0;36m0\u001b[0m\u001b[0;34m,\u001b[0m\u001b[0;36m0\u001b[0m\u001b[0;34m)\u001b[0m \u001b[0;34m==\u001b[0m \u001b[0;36m0\u001b[0m\u001b[0;34m,\u001b[0m \u001b[0;34m\"(0+0) * 2 is 0\"\u001b[0m\u001b[0;34m\u001b[0m\u001b[0;34m\u001b[0m\u001b[0m\n",
            "\u001b[0;31mTypeError\u001b[0m: g() takes 1 positional argument but 2 were given"
          ]
        }
      ]
    },
    {
      "cell_type": "code",
      "metadata": {
        "id": "wfVhph8WDp9k",
        "colab_type": "code",
        "outputId": "9e99bab2-6213-4613-8a7b-e32f829bd1e2",
        "colab": {
          "base_uri": "https://localhost:8080/",
          "height": 35
        }
      },
      "source": [
        "def f2(x, y):\n",
        "  return x + y\n",
        "\n",
        "g = doubler(f2)  #g refers to the higher-oder function, doubler\n",
        "try: \n",
        "  assert g(2,1) == 6,   \"(2+1) * 2 must be equal to 6\"\n",
        "  assert g(0,0) == 0, \"(0+0) * 2 is 0\"\n",
        "except Exception as e:\n",
        "  print(e)\n"
      ],
      "execution_count": 0,
      "outputs": [
        {
          "output_type": "stream",
          "text": [
            "g() takes 1 positional argument but 2 were given\n"
          ],
          "name": "stdout"
        }
      ]
    },
    {
      "cell_type": "markdown",
      "metadata": {
        "id": "B0Qveej9EB3Y",
        "colab_type": "text"
      },
      "source": [
        "What if a function that takes **arbitrary number of arguments**\n",
        "\n",
        "'**args**' is a tuple of its unnamed arguments. \n",
        "\n",
        "'**kwargs**' is a dict of its named arguments. "
      ]
    },
    {
      "cell_type": "code",
      "metadata": {
        "id": "PYP3guwXEYiP",
        "colab_type": "code",
        "outputId": "127cb0af-99ad-4003-c31b-a9e24c3ebfa3",
        "colab": {
          "base_uri": "https://localhost:8080/",
          "height": 89
        }
      },
      "source": [
        "def magic(*args, **kwargs):\n",
        "  print(\"unnamed args:\", args)\n",
        "  print(\"keyword args:\", kwargs)\n",
        "\n",
        "magic(1, 2, key='word', key1='word1')\n",
        "magic(1,3,5, par='key0', par1='key1', par2='key2')"
      ],
      "execution_count": 0,
      "outputs": [
        {
          "output_type": "stream",
          "text": [
            "unnamed args: (1, 2)\n",
            "keyword args: {'key': 'word', 'key1': 'word1'}\n",
            "unnamed args: (1, 3, 5)\n",
            "keyword args: {'par': 'key0', 'par1': 'key1', 'par2': 'key2'}\n"
          ],
          "name": "stdout"
        }
      ]
    },
    {
      "cell_type": "code",
      "metadata": {
        "id": "O1O03MTxFjXW",
        "colab_type": "code",
        "colab": {}
      },
      "source": [
        "# a higher-order function taking arbirary arguments\n",
        "def doubler2(f):\n",
        "  def g(*args,  **kwargs):\n",
        "    return 2*f(*args, **kwargs)\n",
        "  return g\n",
        "\n",
        "g = doubler2(f2)  #g refers to the higher-oder function, doubler\n",
        "assert g(2,1) == 6,   \"(2+1) * 2 must be equal to 6\"\n",
        "assert g(0,0) == 0, \"(0+0) * 2 is 0\""
      ],
      "execution_count": 0,
      "outputs": []
    },
    {
      "cell_type": "code",
      "metadata": {
        "id": "8e6ykLn6IZ7I",
        "colab_type": "code",
        "outputId": "972be7e3-66b8-4b8f-aeb1-b36b2351548d",
        "colab": {
          "base_uri": "https://localhost:8080/",
          "height": 89
        }
      },
      "source": [
        "def print2(k1='key', k2='key1', k3='key2'):\n",
        "    return k1+k2 +k3\n",
        "\n",
        "g=doubler2(print2)\n",
        "print(g('I', 'Love', 'You'))\n",
        "print(g(k1='I', k2='Love', k3='Korea'))\n",
        "print(g(k3='Korea', k2='Love', k1='I'))  #dict keys could have differnt order of args\n",
        "print(g(k1='Korea', k2='Love', k3='me'))"
      ],
      "execution_count": 0,
      "outputs": [
        {
          "output_type": "stream",
          "text": [
            "ILoveYouILoveYou\n",
            "ILoveKoreaILoveKorea\n",
            "ILoveKoreaILoveKorea\n",
            "KoreaLovemeKoreaLoveme\n"
          ],
          "name": "stdout"
        }
      ]
    },
    {
      "cell_type": "code",
      "metadata": {
        "id": "HAKkDsXc6frY",
        "colab_type": "code",
        "outputId": "983f79ea-1e77-4bc6-8ee9-dc9d079a49bc",
        "colab": {
          "base_uri": "https://localhost:8080/",
          "height": 190
        }
      },
      "source": [
        "list1=[1,2,3]\n",
        "list2=['a', 'b', 'c']\n",
        "print(zip(list1,list2)) #returns zip object\n",
        "#zip is called sort of a generator which generates their values lazily on demand\n",
        "#zip doesn't generate until you iterate over it\n",
        "for a in zip(list1, list2):\n",
        "  print(a)\n",
        "  \n",
        "zipped_list = [a for a in zip(list1, list2)]\n",
        "print(zipped_list)\n",
        "\n",
        "print(enumerate(list2)) #returns enumerate object\n",
        "#enumerate is also a generator which generates their values lazily on demand\n",
        "for a, i in enumerate(list2):\n",
        "  print(a, i)\n",
        "  \n",
        "enum_list = [(a, i) for a, i in enumerate(list2)]\n",
        "print(enum_list)\n"
      ],
      "execution_count": 0,
      "outputs": [
        {
          "output_type": "stream",
          "text": [
            "<zip object at 0x7f2648f79048>\n",
            "(1, 'a')\n",
            "(2, 'b')\n",
            "(3, 'c')\n",
            "[(1, 'a'), (2, 'b'), (3, 'c')]\n",
            "<enumerate object at 0x7f2648f591b0>\n",
            "0 a\n",
            "1 b\n",
            "2 c\n",
            "[(0, 'a'), (1, 'b'), (2, 'c')]\n"
          ],
          "name": "stdout"
        }
      ]
    },
    {
      "cell_type": "markdown",
      "metadata": {
        "id": "0cUM7VSbHXCy",
        "colab_type": "text"
      },
      "source": [
        "**Assert, Type annotations**\n",
        "\n",
        "To be confident our code is correct. let something make sure it is true. "
      ]
    },
    {
      "cell_type": "code",
      "metadata": {
        "id": "txW82_BtHiSZ",
        "colab_type": "code",
        "outputId": "9586c4aa-bb75-477d-aed9-1ae18767d42d",
        "colab": {
          "base_uri": "https://localhost:8080/",
          "height": 69
        }
      },
      "source": [
        "assert True==True, \"This must not be seen\"\n",
        "#assert True==False, \"This must be seen and stops here\"\n",
        "assert len(list1)==len(list2), \"Two lists must be same length to compare\"\n",
        "for i in range(len(list1)):\n",
        "  print(list1[i], list2[i])"
      ],
      "execution_count": 0,
      "outputs": [
        {
          "output_type": "stream",
          "text": [
            "1 a\n",
            "2 b\n",
            "3 c\n"
          ],
          "name": "stdout"
        }
      ]
    },
    {
      "cell_type": "code",
      "metadata": {
        "id": "q-VtCBPeQWW1",
        "colab_type": "code",
        "outputId": "986b0f55-f31f-4fc7-adbb-7a7515159913",
        "colab": {
          "base_uri": "https://localhost:8080/",
          "height": 68
        }
      },
      "source": [
        "def add(a,b):\n",
        "  return a+b\n",
        "\n",
        "print(add('hi ', 'there'))\n",
        "print(add(20,19))\n",
        "print(add('20','19'))\n",
        "#print(add('hi', 5))"
      ],
      "execution_count": 0,
      "outputs": [
        {
          "output_type": "stream",
          "text": [
            "hi there\n",
            "39\n",
            "2019\n"
          ],
          "name": "stdout"
        }
      ]
    },
    {
      "cell_type": "code",
      "metadata": {
        "id": "qadnmAhjPGeO",
        "colab_type": "code",
        "outputId": "53a1d331-3e85-466c-901e-61f00defb9b1",
        "colab": {
          "base_uri": "https://localhost:8080/",
          "height": 419
        }
      },
      "source": [
        "def add(a:int, b:int) -> int: \n",
        "  return a+b\n",
        "\n",
        "def concat(a:str, b:str) -> str:\n",
        "  assert type(a)==str, 'make sure data type is str'\n",
        "  assert type(b)==str, 'make sure data type is str'\n",
        "  return a+b\n",
        "\n",
        "print(concat('hi ', 'there'))\n",
        "print(add(20,19))\n",
        "print(concat('20','19'))\n",
        "print(concat('hi', '5'))\n",
        "print(concat('hi', 5))"
      ],
      "execution_count": 0,
      "outputs": [
        {
          "output_type": "stream",
          "text": [
            "hi there\n",
            "39\n",
            "2019\n",
            "hi5\n"
          ],
          "name": "stdout"
        },
        {
          "output_type": "error",
          "ename": "AssertionError",
          "evalue": "ignored",
          "traceback": [
            "\u001b[0;31m---------------------------------------------------------------------------\u001b[0m",
            "\u001b[0;31mAssertionError\u001b[0m                            Traceback (most recent call last)",
            "\u001b[0;32m<ipython-input-1-1b4c532fd304>\u001b[0m in \u001b[0;36m<module>\u001b[0;34m()\u001b[0m\n\u001b[1;32m     11\u001b[0m \u001b[0mprint\u001b[0m\u001b[0;34m(\u001b[0m\u001b[0mconcat\u001b[0m\u001b[0;34m(\u001b[0m\u001b[0;34m'20'\u001b[0m\u001b[0;34m,\u001b[0m\u001b[0;34m'19'\u001b[0m\u001b[0;34m)\u001b[0m\u001b[0;34m)\u001b[0m\u001b[0;34m\u001b[0m\u001b[0;34m\u001b[0m\u001b[0m\n\u001b[1;32m     12\u001b[0m \u001b[0mprint\u001b[0m\u001b[0;34m(\u001b[0m\u001b[0mconcat\u001b[0m\u001b[0;34m(\u001b[0m\u001b[0;34m'hi'\u001b[0m\u001b[0;34m,\u001b[0m \u001b[0;34m'5'\u001b[0m\u001b[0;34m)\u001b[0m\u001b[0;34m)\u001b[0m\u001b[0;34m\u001b[0m\u001b[0;34m\u001b[0m\u001b[0m\n\u001b[0;32m---> 13\u001b[0;31m \u001b[0mprint\u001b[0m\u001b[0;34m(\u001b[0m\u001b[0mconcat\u001b[0m\u001b[0;34m(\u001b[0m\u001b[0;34m'hi'\u001b[0m\u001b[0;34m,\u001b[0m \u001b[0;36m5\u001b[0m\u001b[0;34m)\u001b[0m\u001b[0;34m)\u001b[0m\u001b[0;34m\u001b[0m\u001b[0;34m\u001b[0m\u001b[0m\n\u001b[0m\u001b[1;32m     14\u001b[0m \u001b[0;34m\u001b[0m\u001b[0m\n\u001b[1;32m     15\u001b[0m \u001b[0;32mfrom\u001b[0m \u001b[0mtyping\u001b[0m \u001b[0;32mimport\u001b[0m \u001b[0mList\u001b[0m\u001b[0;34m\u001b[0m\u001b[0;34m\u001b[0m\u001b[0m\n",
            "\u001b[0;32m<ipython-input-1-1b4c532fd304>\u001b[0m in \u001b[0;36mconcat\u001b[0;34m(a, b)\u001b[0m\n\u001b[1;32m      4\u001b[0m \u001b[0;32mdef\u001b[0m \u001b[0mconcat\u001b[0m\u001b[0;34m(\u001b[0m\u001b[0ma\u001b[0m\u001b[0;34m:\u001b[0m\u001b[0mstr\u001b[0m\u001b[0;34m,\u001b[0m \u001b[0mb\u001b[0m\u001b[0;34m:\u001b[0m\u001b[0mstr\u001b[0m\u001b[0;34m)\u001b[0m \u001b[0;34m->\u001b[0m \u001b[0mstr\u001b[0m\u001b[0;34m:\u001b[0m\u001b[0;34m\u001b[0m\u001b[0;34m\u001b[0m\u001b[0m\n\u001b[1;32m      5\u001b[0m   \u001b[0;32massert\u001b[0m \u001b[0mtype\u001b[0m\u001b[0;34m(\u001b[0m\u001b[0ma\u001b[0m\u001b[0;34m)\u001b[0m\u001b[0;34m==\u001b[0m\u001b[0mstr\u001b[0m\u001b[0;34m,\u001b[0m \u001b[0;34m'make sure data type is str'\u001b[0m\u001b[0;34m\u001b[0m\u001b[0;34m\u001b[0m\u001b[0m\n\u001b[0;32m----> 6\u001b[0;31m   \u001b[0;32massert\u001b[0m \u001b[0mtype\u001b[0m\u001b[0;34m(\u001b[0m\u001b[0mb\u001b[0m\u001b[0;34m)\u001b[0m\u001b[0;34m==\u001b[0m\u001b[0mstr\u001b[0m\u001b[0;34m,\u001b[0m \u001b[0;34m'make sure data type is str'\u001b[0m\u001b[0;34m\u001b[0m\u001b[0;34m\u001b[0m\u001b[0m\n\u001b[0m\u001b[1;32m      7\u001b[0m   \u001b[0;32mreturn\u001b[0m \u001b[0ma\u001b[0m\u001b[0;34m+\u001b[0m\u001b[0mb\u001b[0m\u001b[0;34m\u001b[0m\u001b[0;34m\u001b[0m\u001b[0m\n\u001b[1;32m      8\u001b[0m \u001b[0;34m\u001b[0m\u001b[0m\n",
            "\u001b[0;31mAssertionError\u001b[0m: make sure data type is str"
          ]
        }
      ]
    },
    {
      "cell_type": "markdown",
      "metadata": {
        "id": "R_vl-qNDNRzd",
        "colab_type": "text"
      },
      "source": [
        "**Exceptions**\n",
        "\n",
        "To avoid a stop, try to do... "
      ]
    },
    {
      "cell_type": "code",
      "metadata": {
        "colab_type": "code",
        "outputId": "64586fde-b440-4876-c0e7-947c729faaf7",
        "id": "xsCs29QVMccC",
        "colab": {
          "base_uri": "https://localhost:8080/",
          "height": 86
        }
      },
      "source": [
        "def add(a:int, b:int) -> int: \n",
        "  return a+b\n",
        "\n",
        "def concat(a:str, b:str) -> str:\n",
        "  assert type(a)==str, 'make sure data type is str'\n",
        "  assert type(b)==str, 'make sure data type is str'\n",
        "  return a+b\n",
        "\n",
        "try:\n",
        "  print(concat('hi ', 'there'))\n",
        "  print(add(20,19))\n",
        "  print(concat('20','19'))\n",
        "  print(concat('hi', 5))\n",
        "except Exception as e:\n",
        "  print('error:', e)"
      ],
      "execution_count": 0,
      "outputs": [
        {
          "output_type": "stream",
          "text": [
            "hi there\n",
            "39\n",
            "2019\n",
            "error: make sure data type is str\n"
          ],
          "name": "stdout"
        }
      ]
    },
    {
      "cell_type": "markdown",
      "metadata": {
        "id": "8Z0iVuYB2Mcx",
        "colab_type": "text"
      },
      "source": [
        "# Sorting out files with linux commands\n",
        "\n",
        "* Colab is basically a programming editor with interactive mode in the cloud system. \n",
        "* Google colab is linux system. it gets linux commands. \n",
        "* To give system commands, every command starts with ! . \n",
        "> ex) !ls,      !ls-al,      !pwd,  ....\n",
        "\n",
        "ls : list up all files (in the current directory)\n",
        "\n",
        "ls -al : list up all files directory and files with full and hidden information\n",
        "\n",
        "pwd: print out the current working directory\n",
        "\n"
      ]
    },
    {
      "cell_type": "code",
      "metadata": {
        "id": "j_59eyxY2LWZ",
        "colab_type": "code",
        "outputId": "53d924c0-8c9f-4558-a772-405de7db2edf",
        "colab": {
          "base_uri": "https://localhost:8080/",
          "height": 35
        }
      },
      "source": [
        "!ls"
      ],
      "execution_count": 0,
      "outputs": [
        {
          "output_type": "stream",
          "text": [
            "sample_data\n"
          ],
          "name": "stdout"
        }
      ]
    },
    {
      "cell_type": "code",
      "metadata": {
        "id": "eQVOWneY4j1C",
        "colab_type": "code",
        "outputId": "2c234616-82f7-4bdc-8059-2159476ad16b",
        "colab": {
          "base_uri": "https://localhost:8080/",
          "height": 107
        }
      },
      "source": [
        "!ls -al"
      ],
      "execution_count": 0,
      "outputs": [
        {
          "output_type": "stream",
          "text": [
            "total 16\n",
            "drwxr-xr-x 1 root root 4096 Mar 18 16:23 .\n",
            "drwxr-xr-x 1 root root 4096 Apr  1 03:49 ..\n",
            "drwxr-xr-x 1 root root 4096 Mar 30 16:11 .config\n",
            "drwxr-xr-x 1 root root 4096 Mar 18 16:23 sample_data\n"
          ],
          "name": "stdout"
        }
      ]
    },
    {
      "cell_type": "code",
      "metadata": {
        "id": "xOndoTM54naZ",
        "colab_type": "code",
        "outputId": "6f0b03af-4998-46c5-a330-58f1aead1181",
        "colab": {
          "base_uri": "https://localhost:8080/",
          "height": 35
        }
      },
      "source": [
        "!pwd"
      ],
      "execution_count": 0,
      "outputs": [
        {
          "output_type": "stream",
          "text": [
            "/content\n"
          ],
          "name": "stdout"
        }
      ]
    },
    {
      "cell_type": "markdown",
      "metadata": {
        "id": "RQ6PZ6z28SwS",
        "colab_type": "text"
      },
      "source": [
        " **Colab requires to be mounted**  to see your account structure of files and directories. \n",
        "\n",
        " Give below codes and allow google cloud system to access your account file system.  \n",
        " - Click the url which google gives and copy the security code, and paste it in the popup window"
      ]
    },
    {
      "cell_type": "code",
      "metadata": {
        "id": "H_H0z5Lt87eT",
        "colab_type": "code",
        "outputId": "8b27c554-2ef0-4240-e3f8-178d1ae433f4",
        "colab": {
          "base_uri": "https://localhost:8080/",
          "height": 127
        }
      },
      "source": [
        "from google.colab import drive\n",
        "drive.mount('/content/drive')"
      ],
      "execution_count": 0,
      "outputs": [
        {
          "output_type": "stream",
          "text": [
            "Go to this URL in a browser: https://accounts.google.com/o/oauth2/auth?client_id=947318989803-6bn6qk8qdgf4n4g3pfee6491hc0brc4i.apps.googleusercontent.com&redirect_uri=urn%3aietf%3awg%3aoauth%3a2.0%3aoob&response_type=code&scope=email%20https%3a%2f%2fwww.googleapis.com%2fauth%2fdocs.test%20https%3a%2f%2fwww.googleapis.com%2fauth%2fdrive%20https%3a%2f%2fwww.googleapis.com%2fauth%2fdrive.photos.readonly%20https%3a%2f%2fwww.googleapis.com%2fauth%2fpeopleapi.readonly\n",
            "\n",
            "Enter your authorization code:\n",
            "··········\n",
            "Mounted at /content/drive\n"
          ],
          "name": "stdout"
        }
      ]
    },
    {
      "cell_type": "markdown",
      "metadata": {
        "id": "mv6__vmG7kSu",
        "colab_type": "text"
      },
      "source": [
        "\n",
        "**Keep going: Explore your directories and files**\n",
        "\n",
        "cd : change the current directory. it means 'move to another directory'\n"
      ]
    },
    {
      "cell_type": "code",
      "metadata": {
        "id": "zwUQC2yOCMro",
        "colab_type": "code",
        "outputId": "993c9afa-6c70-4c6f-e973-072dfa996291",
        "colab": {
          "base_uri": "https://localhost:8080/",
          "height": 143
        }
      },
      "source": [
        "!pwd\n",
        "!ls -al"
      ],
      "execution_count": 0,
      "outputs": [
        {
          "output_type": "stream",
          "text": [
            "/content\n",
            "total 20\n",
            "drwxr-xr-x 1 root root 4096 Apr  1 04:22 .\n",
            "drwxr-xr-x 1 root root 4096 Apr  1 03:49 ..\n",
            "drwxr-xr-x 1 root root 4096 Mar 30 16:11 .config\n",
            "drwx------ 4 root root 4096 Apr  1 04:22 drive\n",
            "drwxr-xr-x 1 root root 4096 Mar 18 16:23 sample_data\n"
          ],
          "name": "stdout"
        }
      ]
    },
    {
      "cell_type": "code",
      "metadata": {
        "id": "g1IvnB7_ColM",
        "colab_type": "code",
        "outputId": "41622cc0-e50d-4867-ecf0-d0dd7221e0f7",
        "colab": {
          "base_uri": "https://localhost:8080/",
          "height": 89
        }
      },
      "source": [
        "!ls -al drive"
      ],
      "execution_count": 0,
      "outputs": [
        {
          "output_type": "stream",
          "text": [
            "total 12\n",
            "drwx------ 12 root root 4096 Apr  1 04:22 'My Drive'\n",
            "dr-x------  2 root root 4096 Apr  1 04:22  .shortcut-targets-by-id\n",
            "drwx------  2 root root 4096 Apr  1 04:22  .Trash\n"
          ],
          "name": "stdout"
        }
      ]
    },
    {
      "cell_type": "code",
      "metadata": {
        "id": "jgQDqCJ34qxM",
        "colab_type": "code",
        "colab": {}
      },
      "source": [
        "!ls -al '/content/drive/My Drive'"
      ],
      "execution_count": 0,
      "outputs": []
    },
    {
      "cell_type": "markdown",
      "metadata": {
        "id": "kT_DWl7pBbCm",
        "colab_type": "text"
      },
      "source": [
        "**Let's make a directory for this course**\n",
        "\n",
        "mkdir : make  a directory.  \n",
        "\n",
        "mkdir -p : make a directory if it doesn't exist (option)\n",
        "\n",
        "mv: move a file(directory or a file)"
      ]
    },
    {
      "cell_type": "code",
      "metadata": {
        "id": "DFF4-cQMBT4t",
        "colab_type": "code",
        "colab": {}
      },
      "source": [
        "!mkdir -p '/content/drive/My Drive/KS_DS-2020'\n",
        "!ls -al '/content/drive/My Drive/'\n",
        "!mv '/content/drive/My Drive/crash_course-2020.ipynb'  '/content/drive/My Drive/KS_DS-2020/'\n",
        "!ls -al '/content/drive/My Drive/KS_DS-2020/'"
      ],
      "execution_count": 0,
      "outputs": []
    },
    {
      "cell_type": "code",
      "metadata": {
        "id": "JIJhcjvYNksH",
        "colab_type": "code",
        "outputId": "a9d09c3d-d3ff-4a80-dae0-0a8a86daf3ed",
        "colab": {
          "base_uri": "https://localhost:8080/",
          "height": 71
        }
      },
      "source": [
        "!mv '/content/drive/My Drive/model_wrodler_style.ipynb' '/content/drive/My Drive/KS_DS-2020/'\n",
        "!mv  '/content/drive/My Drive/find_mask_stores.ipynb' '/content/drive/My Drive/KS_DS-2020/'\n",
        "!mv '/content/drive/My Drive/cash_course.ipynb' '/content/drive/My Drive/KS_DS-2020/'\n",
        "!ls -al '/content/drive/My Drive/KS_DS-2020/'  # the above files are here\n",
        "!ls -al '/content/drive/My Drive/'                       # Not here"
      ],
      "execution_count": 0,
      "outputs": [
        {
          "output_type": "stream",
          "text": [
            "mv: cannot stat '/content/drive/My Drive/model_wrodler_style.ipynb': No such file or directory\n",
            "mv: cannot stat '/content/drive/My Drive/find_mask_stores.ipynb': No such file or directory\n",
            "mv: cannot stat '/content/drive/My Drive/cash_course.ipynb': No such file or directory\n"
          ],
          "name": "stdout"
        }
      ]
    },
    {
      "cell_type": "markdown",
      "metadata": {
        "id": "2rpI-Jk9kn9J",
        "colab_type": "text"
      },
      "source": [
        "Et cetra"
      ]
    },
    {
      "cell_type": "code",
      "metadata": {
        "id": "ygtVlVArljQm",
        "colab_type": "code",
        "outputId": "907ddaa4-3e08-435d-b541-8ea1bd81d213",
        "colab": {
          "base_uri": "https://localhost:8080/",
          "height": 102
        }
      },
      "source": [
        "import random  \n",
        "random.seed(1) \n",
        "for i in range(5): \n",
        "  \n",
        "    # Any number can be used in place of '0'. \n",
        "   \n",
        "  \n",
        "    # Generated random number will be between 1 to 1000. \n",
        "    print(random.randint(1, 1000))"
      ],
      "execution_count": 0,
      "outputs": [
        {
          "output_type": "stream",
          "text": [
            "138\n",
            "583\n",
            "868\n",
            "822\n",
            "783\n"
          ],
          "name": "stdout"
        }
      ]
    },
    {
      "cell_type": "code",
      "metadata": {
        "id": "JZ1nTHQ6E0Te",
        "colab_type": "code",
        "colab": {}
      },
      "source": [
        "def total(xs:List[float]) -> float:\n",
        "  return sum(total)\n",
        "\n",
        "def my_total(numbers):\n",
        "  return sum(numbers)\n",
        "\n",
        "print(my_total([1,2,3]))\n",
        "print(total([0.1, 0.9, 0.5]))\n"
      ],
      "execution_count": 0,
      "outputs": []
    }
  ]
}