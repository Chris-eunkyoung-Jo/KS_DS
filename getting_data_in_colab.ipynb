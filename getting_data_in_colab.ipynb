{
  "nbformat": 4,
  "nbformat_minor": 0,
  "metadata": {
    "colab": {
      "name": "getting_data_in_colab.ipynb",
      "provenance": [],
      "authorship_tag": "ABX9TyP5GS4PT04pUbh9aLZflJs7",
      "include_colab_link": true
    },
    "kernelspec": {
      "name": "python3",
      "display_name": "Python 3"
    }
  },
  "cells": [
    {
      "cell_type": "markdown",
      "metadata": {
        "id": "view-in-github",
        "colab_type": "text"
      },
      "source": [
        "<a href=\"https://colab.research.google.com/github/Chris-eunkyoung-Jo/KS_DS/blob/master/getting_data_in_colab.ipynb\" target=\"_parent\"><img src=\"https://colab.research.google.com/assets/colab-badge.svg\" alt=\"Open In Colab\"/></a>"
      ]
    },
    {
      "cell_type": "markdown",
      "metadata": {
        "id": "QM9Oh-dSq5oX",
        "colab_type": "text"
      },
      "source": [
        "date: 2020.04.14\n",
        "\n",
        "writer: Jo, Eunkyoung\n",
        "# 9. Getting data in Data Science from scratch"
      ]
    },
    {
      "cell_type": "code",
      "metadata": {
        "id": "WN-qTUnxqJHj",
        "colab_type": "code",
        "outputId": "3bee80ad-1f67-4292-e973-919e200dc035",
        "colab": {
          "base_uri": "https://localhost:8080/",
          "height": 73
        }
      },
      "source": [
        "import sys\n",
        "print(sys.platform)\n",
        "print(dir(sys))"
      ],
      "execution_count": 0,
      "outputs": [
        {
          "output_type": "stream",
          "text": [
            "linux\n",
            "['__displayhook__', '__doc__', '__excepthook__', '__interactivehook__', '__loader__', '__name__', '__package__', '__spec__', '__stderr__', '__stdin__', '__stdout__', '_clear_type_cache', '_current_frames', '_debugmallocstats', '_getframe', '_git', '_home', '_xoptions', 'abiflags', 'api_version', 'argv', 'base_exec_prefix', 'base_prefix', 'builtin_module_names', 'byteorder', 'call_tracing', 'callstats', 'copyright', 'displayhook', 'dont_write_bytecode', 'exc_info', 'excepthook', 'exec_prefix', 'executable', 'exit', 'flags', 'float_info', 'float_repr_style', 'get_asyncgen_hooks', 'get_coroutine_wrapper', 'getallocatedblocks', 'getcheckinterval', 'getdefaultencoding', 'getdlopenflags', 'getfilesystemencodeerrors', 'getfilesystemencoding', 'getprofile', 'getrecursionlimit', 'getrefcount', 'getsizeof', 'getswitchinterval', 'gettrace', 'hash_info', 'hexversion', 'implementation', 'int_info', 'intern', 'is_finalizing', 'maxsize', 'maxunicode', 'meta_path', 'modules', 'path', 'path_hooks', 'path_importer_cache', 'platform', 'prefix', 'ps1', 'ps2', 'ps3', 'set_asyncgen_hooks', 'set_coroutine_wrapper', 'setcheckinterval', 'setdlopenflags', 'setprofile', 'setrecursionlimit', 'setswitchinterval', 'settrace', 'stderr', 'stdin', 'stdout', 'thread_info', 'version', 'version_info', 'warnoptions']\n"
          ],
          "name": "stdout"
        }
      ]
    },
    {
      "cell_type": "code",
      "metadata": {
        "id": "OvBqm9oxqq3G",
        "colab_type": "code",
        "outputId": "e88d7696-e191-4bae-a7ff-a3bc13ffaace",
        "colab": {
          "base_uri": "https://localhost:8080/",
          "height": 125
        }
      },
      "source": [
        "!ls -alrt"
      ],
      "execution_count": 0,
      "outputs": [
        {
          "output_type": "stream",
          "text": [
            "total 20\n",
            "drwxr-xr-x 1 root root 4096 Apr  3 16:24 sample_data\n",
            "drwxr-xr-x 1 root root 4096 Apr  9 16:10 .config\n",
            "drwxr-xr-x 1 root root 4096 Apr 13 13:08 ..\n",
            "drwx------ 4 root root 4096 Apr 13 13:11 drive\n",
            "drwxr-xr-x 1 root root 4096 Apr 13 13:11 .\n"
          ],
          "name": "stdout"
        }
      ]
    },
    {
      "cell_type": "code",
      "metadata": {
        "id": "HBCNEqretQFZ",
        "colab_type": "code",
        "outputId": "f5f6ab76-6a2b-4ef8-d05f-26a657ea7d72",
        "colab": {
          "base_uri": "https://localhost:8080/",
          "height": 125
        }
      },
      "source": [
        "!pwd\n",
        "!ls -al"
      ],
      "execution_count": 0,
      "outputs": [
        {
          "output_type": "stream",
          "text": [
            "/content\n",
            "total 16\n",
            "drwxr-xr-x 1 root root 4096 Apr  3 16:24 .\n",
            "drwxr-xr-x 1 root root 4096 Apr 16 00:51 ..\n",
            "drwxr-xr-x 1 root root 4096 Apr  9 16:10 .config\n",
            "drwxr-xr-x 1 root root 4096 Apr  3 16:24 sample_data\n"
          ],
          "name": "stdout"
        }
      ]
    },
    {
      "cell_type": "code",
      "metadata": {
        "id": "K7roTiSBqSWl",
        "colab_type": "code",
        "outputId": "6c44bea3-1539-4c4e-a0b6-ba9e4fbce293",
        "colab": {
          "base_uri": "https://localhost:8080/",
          "height": 127
        }
      },
      "source": [
        "from google.colab import drive\n",
        "drive.mount('/content/drive')"
      ],
      "execution_count": 0,
      "outputs": [
        {
          "output_type": "stream",
          "text": [
            "Go to this URL in a browser: https://accounts.google.com/o/oauth2/auth?client_id=947318989803-6bn6qk8qdgf4n4g3pfee6491hc0brc4i.apps.googleusercontent.com&redirect_uri=urn%3aietf%3awg%3aoauth%3a2.0%3aoob&response_type=code&scope=email%20https%3a%2f%2fwww.googleapis.com%2fauth%2fdocs.test%20https%3a%2f%2fwww.googleapis.com%2fauth%2fdrive%20https%3a%2f%2fwww.googleapis.com%2fauth%2fdrive.photos.readonly%20https%3a%2f%2fwww.googleapis.com%2fauth%2fpeopleapi.readonly\n",
            "\n",
            "Enter your authorization code:\n",
            "··········\n",
            "Mounted at /content/drive\n"
          ],
          "name": "stdout"
        }
      ]
    },
    {
      "cell_type": "code",
      "metadata": {
        "id": "qS4gjlIItF8Q",
        "colab_type": "code",
        "outputId": "5dee701f-0b13-4241-b599-f52639d055c3",
        "colab": {
          "base_uri": "https://localhost:8080/",
          "height": 127
        }
      },
      "source": [
        "import google.colab.drive\n",
        "google.colab.drive.mount('/content/drive')"
      ],
      "execution_count": 0,
      "outputs": [
        {
          "output_type": "stream",
          "text": [
            "Go to this URL in a browser: https://accounts.google.com/o/oauth2/auth?client_id=947318989803-6bn6qk8qdgf4n4g3pfee6491hc0brc4i.apps.googleusercontent.com&redirect_uri=urn%3aietf%3awg%3aoauth%3a2.0%3aoob&response_type=code&scope=email%20https%3a%2f%2fwww.googleapis.com%2fauth%2fdocs.test%20https%3a%2f%2fwww.googleapis.com%2fauth%2fdrive%20https%3a%2f%2fwww.googleapis.com%2fauth%2fdrive.photos.readonly%20https%3a%2f%2fwww.googleapis.com%2fauth%2fpeopleapi.readonly\n",
            "\n",
            "Enter your authorization code:\n",
            "··········\n",
            "Mounted at /content/drive\n"
          ],
          "name": "stdout"
        }
      ]
    },
    {
      "cell_type": "code",
      "metadata": {
        "id": "uPMgRhMAe_PR",
        "colab_type": "code",
        "outputId": "9cac774b-1090-44fe-9e2b-b7a0bc5910fd",
        "colab": {
          "base_uri": "https://localhost:8080/",
          "height": 125
        }
      },
      "source": [
        "!ls -al"
      ],
      "execution_count": 0,
      "outputs": [
        {
          "output_type": "stream",
          "text": [
            "total 20\n",
            "drwxr-xr-x 1 root root 4096 Apr 16 00:56 .\n",
            "drwxr-xr-x 1 root root 4096 Apr 16 00:51 ..\n",
            "drwxr-xr-x 1 root root 4096 Apr  9 16:10 .config\n",
            "drwx------ 4 root root 4096 Apr 16 00:56 drive\n",
            "drwxr-xr-x 1 root root 4096 Apr  3 16:24 sample_data\n"
          ],
          "name": "stdout"
        }
      ]
    },
    {
      "cell_type": "code",
      "metadata": {
        "id": "bQkByBXsgH7T",
        "colab_type": "code",
        "outputId": "aaacf949-a392-4f0b-c847-6aff5c12d007",
        "colab": {
          "base_uri": "https://localhost:8080/",
          "height": 89
        }
      },
      "source": [
        "!ls -al '/content/drive'"
      ],
      "execution_count": 0,
      "outputs": [
        {
          "output_type": "stream",
          "text": [
            "total 12\n",
            "drwx------ 12 root root 4096 Apr 16 00:56 'My Drive'\n",
            "dr-x------  2 root root 4096 Apr 16 00:56  .shortcut-targets-by-id\n",
            "drwx------  2 root root 4096 Apr 16 00:56  .Trash\n"
          ],
          "name": "stdout"
        }
      ]
    },
    {
      "cell_type": "markdown",
      "metadata": {
        "id": "LonYrUAucTjT",
        "colab_type": "text"
      },
      "source": [
        "**Feed text files**\n",
        "\n",
        "upload 'tab_delimited_stock_prices.txt', 'comma_delimited_stock_prices.txt', 'colon_delimited_stock_prices.txt' under KS_DS-2020 in google drive."
      ]
    },
    {
      "cell_type": "code",
      "metadata": {
        "id": "oAF0R7Qbs3CS",
        "colab_type": "code",
        "colab": {}
      },
      "source": [
        "!ls -alt '/content/drive/My Drive/KS_DS-2020/'"
      ],
      "execution_count": 0,
      "outputs": []
    },
    {
      "cell_type": "code",
      "metadata": {
        "id": "ddyoWKrUxdJn",
        "colab_type": "code",
        "outputId": "311bb532-0923-4de9-fd97-9fe66fdc8676",
        "colab": {
          "base_uri": "https://localhost:8080/",
          "height": 55
        }
      },
      "source": [
        "import csv\n",
        "\n",
        "def process(d, s, p):\n",
        "    print(d, s, p)\n",
        "\n",
        "def read_delimiter_file(fn, delim='\\t'):\n",
        "  with open(fn) as f:  \n",
        "    tab_reader = csv.reader(f, delimiter=delim)\n",
        "    for row in tab_reader:\n",
        "      date = row[0]\n",
        "      symbol = row[1]\n",
        "      closing_price = float(row[2])\n",
        "      process(date, symbol, closing_price)\n",
        "\n",
        "'''with open('/content/drive/My Drive/KS_DS-2020/tab_delimited_stock_prices.txt') as f:\n",
        "    tab_reader = csv.reader(f, delimiter='\\t')\n",
        "    for row in tab_reader:\n",
        "        date = row[0]\n",
        "        symbol = row[1]\n",
        "        closing_price = float(row[2])\n",
        "        process(date, symbol, closing_price)\n",
        "        '''"
      ],
      "execution_count": 0,
      "outputs": [
        {
          "output_type": "execute_result",
          "data": {
            "text/plain": [
              "\"with open('/content/drive/My Drive/KS_DS-2020/tab_delimited_stock_prices.txt') as f:\\n    tab_reader = csv.reader(f, delimiter='\\t')\\n    for row in tab_reader:\\n        date = row[0]\\n        symbol = row[1]\\n        closing_price = float(row[2])\\n        process(date, symbol, closing_price)\\n        \""
            ]
          },
          "metadata": {
            "tags": []
          },
          "execution_count": 36
        }
      ]
    },
    {
      "cell_type": "code",
      "metadata": {
        "id": "yhik-1wdNLVr",
        "colab_type": "code",
        "outputId": "cfda9e25-c525-4d91-fea7-acae383859a9",
        "colab": {
          "base_uri": "https://localhost:8080/",
          "height": 341
        }
      },
      "source": [
        "read_delimiter_file('/content/drive/My Drive/KS_DS-2020/tab_delimited_stock_prices.txt', '\\t')\n",
        "read_delimiter_file('/content/drive/My Drive/KS_DS-2020/comma_delimited_stock_prices.txt', ',')\n",
        "read_delimiter_file('/content/drive/My Drive/KS_DS-2020/colon_delimited_stock_prices.txt', ':')"
      ],
      "execution_count": 0,
      "outputs": [
        {
          "output_type": "stream",
          "text": [
            "6/20/2014 AAPL 90.91\n",
            "6/20/2014 MSFT 41.68\n",
            "6/20/2014 FB 64.5\n",
            "6/19/2014 AAPL 91.86\n",
            "6/19/2014 MSFT 41.51\n",
            "6/19/2014 FB 64.34\n",
            "6/20/2016 AAPL 90.91\n",
            "6/20/2016 MSFT 41.68\n",
            "6/20/2016 FB 64.5\n",
            "6/19/2016 AAPL 91.86\n",
            "6/19/2016 MSFT 41.51\n",
            "6/19/2016 FB 64.34\n",
            "6/20/2018 AAPL 90.91\n",
            "6/20/2018 MSFT 41.68\n",
            "6/20/2018 FB 64.5\n",
            "6/19/2018 AAPL 91.86\n",
            "6/19/2018 MSFT 41.51\n",
            "6/19/2018 FB 64.34\n"
          ],
          "name": "stdout"
        }
      ]
    },
    {
      "cell_type": "code",
      "metadata": {
        "id": "ZhFEqeycTC_-",
        "colab_type": "code",
        "outputId": "c8ffec01-a906-42c2-94de-4fb0c79338dc",
        "colab": {
          "base_uri": "https://localhost:8080/",
          "height": 71
        }
      },
      "source": [
        "a=[1,2,3]\n",
        "b=[1,2,3,4]\n",
        "for c in zip(a, b): print(c)"
      ],
      "execution_count": 0,
      "outputs": [
        {
          "output_type": "stream",
          "text": [
            "(1, 1)\n",
            "(2, 2)\n",
            "(3, 3)\n"
          ],
          "name": "stdout"
        }
      ]
    },
    {
      "cell_type": "code",
      "metadata": {
        "id": "49EPCwZHRjxp",
        "colab_type": "code",
        "outputId": "8ad9d4f1-3c08-4485-a873-232546a5d78e",
        "colab": {
          "base_uri": "https://localhost:8080/",
          "height": 341
        }
      },
      "source": [
        "fns = ['tab_delimited_stock_prices.txt', 'comma_delimited_stock_prices.txt', 'colon_delimited_stock_prices.txt']\n",
        "delims = ['\\t', ',', ':']\n",
        "\n",
        "for fn, delim in zip(fns, delims):\n",
        "  read_delimiter_file('/content/drive/My Drive/KS_DS-2020/'+fn , delim)"
      ],
      "execution_count": 0,
      "outputs": [
        {
          "output_type": "stream",
          "text": [
            "6/20/2014 AAPL 90.91\n",
            "6/20/2014 MSFT 41.68\n",
            "6/20/2014 FB 64.5\n",
            "6/19/2014 AAPL 91.86\n",
            "6/19/2014 MSFT 41.51\n",
            "6/19/2014 FB 64.34\n",
            "6/20/2016 AAPL 90.91\n",
            "6/20/2016 MSFT 41.68\n",
            "6/20/2016 FB 64.5\n",
            "6/19/2016 AAPL 91.86\n",
            "6/19/2016 MSFT 41.51\n",
            "6/19/2016 FB 64.34\n",
            "6/20/2018 AAPL 90.91\n",
            "6/20/2018 MSFT 41.68\n",
            "6/20/2018 FB 64.5\n",
            "6/19/2018 AAPL 91.86\n",
            "6/19/2018 MSFT 41.51\n",
            "6/19/2018 FB 64.34\n"
          ],
          "name": "stdout"
        }
      ]
    },
    {
      "cell_type": "code",
      "metadata": {
        "id": "tTw_eRchFnfo",
        "colab_type": "code",
        "outputId": "995a560d-d951-4845-c359-482c8a44b949",
        "colab": {
          "base_uri": "https://localhost:8080/",
          "height": 125
        }
      },
      "source": [
        "'''with open('/content/drive/My Drive/KS_DS-2020/comma_delimited_stock_prices.txt') as f:\n",
        "    tab_reader = csv.reader(f, delimiter=',')\n",
        "    for row in tab_reader:\n",
        "        date = row[0]\n",
        "        symbol = row[1]\n",
        "        closing_price = float(row[2])\n",
        "        process(date, symbol, closing_price)'''"
      ],
      "execution_count": 0,
      "outputs": [
        {
          "output_type": "stream",
          "text": [
            "6/20/2016 AAPL 90.91\n",
            "6/20/2016 MSFT 41.68\n",
            "6/20/2016 FB 64.5\n",
            "6/19/2016 AAPL 91.86\n",
            "6/19/2016 MSFT 41.51\n",
            "6/19/2016 FB 64.34\n"
          ],
          "name": "stdout"
        }
      ]
    },
    {
      "cell_type": "code",
      "metadata": {
        "id": "tk4i4JVWFxtD",
        "colab_type": "code",
        "outputId": "56ee3f52-4e6f-44a1-e36f-f20efd82c2ff",
        "colab": {
          "base_uri": "https://localhost:8080/",
          "height": 125
        }
      },
      "source": [
        "'''with open('/content/drive/My Drive/KS_DS-2020/colon_delimited_stock_prices.txt') as f:\n",
        "    tab_reader = csv.reader(f, delimiter=':')\n",
        "    for row in tab_reader:\n",
        "        date = row[0]\n",
        "        symbol = row[1]\n",
        "        closing_price = float(row[2])\n",
        "        process(date, symbol, closing_price)'''"
      ],
      "execution_count": 0,
      "outputs": [
        {
          "output_type": "stream",
          "text": [
            "6/20/2018 AAPL 90.91\n",
            "6/20/2018 MSFT 41.68\n",
            "6/20/2018 FB 64.5\n",
            "6/19/2018 AAPL 91.86\n",
            "6/19/2018 MSFT 41.51\n",
            "6/19/2018 FB 64.34\n"
          ],
          "name": "stdout"
        }
      ]
    },
    {
      "cell_type": "markdown",
      "metadata": {
        "id": "TDia2q6uhPkP",
        "colab_type": "text"
      },
      "source": [
        "**Urban Regeneration**"
      ]
    },
    {
      "cell_type": "code",
      "metadata": {
        "id": "w4EsXG4VhTQH",
        "colab_type": "code",
        "outputId": "53773184-5ad1-4a45-d299-009248b5caf2",
        "colab": {
          "base_uri": "https://localhost:8080/",
          "height": 338
        }
      },
      "source": [
        "read_delimiter_file('/content/drive/My Drive/KS_DS-2020/국토연구원 도시재생실증연구 세미나 정보(2018년)', ',')"
      ],
      "execution_count": 0,
      "outputs": [
        {
          "output_type": "error",
          "ename": "UnicodeDecodeError",
          "evalue": "ignored",
          "traceback": [
            "\u001b[0;31m---------------------------------------------------------------------------\u001b[0m",
            "\u001b[0;31mUnicodeDecodeError\u001b[0m                        Traceback (most recent call last)",
            "\u001b[0;32m<ipython-input-51-2aa1af0fb15d>\u001b[0m in \u001b[0;36m<module>\u001b[0;34m()\u001b[0m\n\u001b[1;32m      1\u001b[0m \u001b[0;34m\u001b[0m\u001b[0m\n\u001b[0;32m----> 2\u001b[0;31m \u001b[0mread_delimiter_file\u001b[0m\u001b[0;34m(\u001b[0m\u001b[0;34m'/content/drive/My Drive/KS_DS-2020/국토연구원 도시재생실증연구 세미나 정보(2018년).csv'\u001b[0m\u001b[0;34m,\u001b[0m \u001b[0;34m','\u001b[0m\u001b[0;34m)\u001b[0m\u001b[0;34m\u001b[0m\u001b[0;34m\u001b[0m\u001b[0m\n\u001b[0m",
            "\u001b[0;32m<ipython-input-36-5a0fd338f51f>\u001b[0m in \u001b[0;36mread_delimiter_file\u001b[0;34m(fn, delim)\u001b[0m\n\u001b[1;32m      7\u001b[0m   \u001b[0;32mwith\u001b[0m \u001b[0mopen\u001b[0m\u001b[0;34m(\u001b[0m\u001b[0mfn\u001b[0m\u001b[0;34m)\u001b[0m \u001b[0;32mas\u001b[0m \u001b[0mf\u001b[0m\u001b[0;34m:\u001b[0m\u001b[0;34m\u001b[0m\u001b[0;34m\u001b[0m\u001b[0m\n\u001b[1;32m      8\u001b[0m     \u001b[0mtab_reader\u001b[0m \u001b[0;34m=\u001b[0m \u001b[0mcsv\u001b[0m\u001b[0;34m.\u001b[0m\u001b[0mreader\u001b[0m\u001b[0;34m(\u001b[0m\u001b[0mf\u001b[0m\u001b[0;34m,\u001b[0m \u001b[0mdelimiter\u001b[0m\u001b[0;34m=\u001b[0m\u001b[0mdelim\u001b[0m\u001b[0;34m)\u001b[0m\u001b[0;34m\u001b[0m\u001b[0;34m\u001b[0m\u001b[0m\n\u001b[0;32m----> 9\u001b[0;31m     \u001b[0;32mfor\u001b[0m \u001b[0mrow\u001b[0m \u001b[0;32min\u001b[0m \u001b[0mtab_reader\u001b[0m\u001b[0;34m:\u001b[0m\u001b[0;34m\u001b[0m\u001b[0;34m\u001b[0m\u001b[0m\n\u001b[0m\u001b[1;32m     10\u001b[0m       \u001b[0mdate\u001b[0m \u001b[0;34m=\u001b[0m \u001b[0mrow\u001b[0m\u001b[0;34m[\u001b[0m\u001b[0;36m0\u001b[0m\u001b[0;34m]\u001b[0m\u001b[0;34m\u001b[0m\u001b[0;34m\u001b[0m\u001b[0m\n\u001b[1;32m     11\u001b[0m       \u001b[0msymbol\u001b[0m \u001b[0;34m=\u001b[0m \u001b[0mrow\u001b[0m\u001b[0;34m[\u001b[0m\u001b[0;36m1\u001b[0m\u001b[0;34m]\u001b[0m\u001b[0;34m\u001b[0m\u001b[0;34m\u001b[0m\u001b[0m\n",
            "\u001b[0;32m/usr/lib/python3.6/codecs.py\u001b[0m in \u001b[0;36mdecode\u001b[0;34m(self, input, final)\u001b[0m\n\u001b[1;32m    319\u001b[0m         \u001b[0;31m# decode input (taking the buffer into account)\u001b[0m\u001b[0;34m\u001b[0m\u001b[0;34m\u001b[0m\u001b[0;34m\u001b[0m\u001b[0m\n\u001b[1;32m    320\u001b[0m         \u001b[0mdata\u001b[0m \u001b[0;34m=\u001b[0m \u001b[0mself\u001b[0m\u001b[0;34m.\u001b[0m\u001b[0mbuffer\u001b[0m \u001b[0;34m+\u001b[0m \u001b[0minput\u001b[0m\u001b[0;34m\u001b[0m\u001b[0;34m\u001b[0m\u001b[0m\n\u001b[0;32m--> 321\u001b[0;31m         \u001b[0;34m(\u001b[0m\u001b[0mresult\u001b[0m\u001b[0;34m,\u001b[0m \u001b[0mconsumed\u001b[0m\u001b[0;34m)\u001b[0m \u001b[0;34m=\u001b[0m \u001b[0mself\u001b[0m\u001b[0;34m.\u001b[0m\u001b[0m_buffer_decode\u001b[0m\u001b[0;34m(\u001b[0m\u001b[0mdata\u001b[0m\u001b[0;34m,\u001b[0m \u001b[0mself\u001b[0m\u001b[0;34m.\u001b[0m\u001b[0merrors\u001b[0m\u001b[0;34m,\u001b[0m \u001b[0mfinal\u001b[0m\u001b[0;34m)\u001b[0m\u001b[0;34m\u001b[0m\u001b[0;34m\u001b[0m\u001b[0m\n\u001b[0m\u001b[1;32m    322\u001b[0m         \u001b[0;31m# keep undecoded input until the next call\u001b[0m\u001b[0;34m\u001b[0m\u001b[0;34m\u001b[0m\u001b[0;34m\u001b[0m\u001b[0m\n\u001b[1;32m    323\u001b[0m         \u001b[0mself\u001b[0m\u001b[0;34m.\u001b[0m\u001b[0mbuffer\u001b[0m \u001b[0;34m=\u001b[0m \u001b[0mdata\u001b[0m\u001b[0;34m[\u001b[0m\u001b[0mconsumed\u001b[0m\u001b[0;34m:\u001b[0m\u001b[0;34m]\u001b[0m\u001b[0;34m\u001b[0m\u001b[0;34m\u001b[0m\u001b[0m\n",
            "\u001b[0;31mUnicodeDecodeError\u001b[0m: 'utf-8' codec can't decode byte 0xbc in position 0: invalid start byte"
          ]
        }
      ]
    },
    {
      "cell_type": "code",
      "metadata": {
        "id": "kpHj_l4lkcyz",
        "colab_type": "code",
        "outputId": "da0691f0-66f1-4cfe-ee54-e4e664a55614",
        "colab": {
          "base_uri": "https://localhost:8080/",
          "height": 557
        }
      },
      "source": [
        "def read_delimiter_file_enc(fn, delim='\\t'):\n",
        "  with open(fn, encoding='euc-kr') as f:  \n",
        "    tab_reader = csv.reader(f, delimiter=delim)\n",
        "    for i, row in enumerate(tab_reader):\n",
        "      print(i,row)\n",
        "      #process(date, symbol, closing_price)'''\n",
        "read_delimiter_file_enc('/content/drive/My Drive/KS_DS-2020/국토연구원 도시재생실증연구 세미나 정보(2018년).csv', ',')"
      ],
      "execution_count": 0,
      "outputs": [
        {
          "output_type": "stream",
          "text": [
            "0 ['세미나명', '개최일시', '접수기간', '상세페이지 링크']\n",
            "1 ['도시재생과 사회적 가치', '2018.09.04', '08.16~09.03', 'http://kourc.krihs.re.kr/kourc/notice/seminar_view.php?idx=34']\n",
            "2 ['도시재생과 연계한 사회적경제의 경험과 교훈', '2017.10.27', '10.16~10.26', 'http://kourc.krihs.re.kr/kourc/notice/seminar_view.php?idx=32']\n",
            "3 ['중심시가지도시재생사업 적용가능긱법모색(3차:중심시가지활성화 개발사례)', '2017.10.25', '10.19~10.24', 'http://kourc.krihs.re.kr/kourc/notice/seminar_view.php?idx=33']\n",
            "4 ['중심시가지 도시재생사업 적용가능 기법 모색(1차 : 중심시가지와 청년창업)', '2017.10.18', '10.12~10.17', 'http://kourc.krihs.re.kr/kourc/notice/seminar_view.php?idx=30']\n",
            "5 ['중심시가지 도시재생사업 적용가능 기법 모색 (2차 : 중심시가지 지역역량 및 지역가치체계)', '2017.10.18', '10.12~10.17', 'http://kourc.krihs.re.kr/kourc/notice/seminar_view.php?idx=31']\n",
            "6 ['도시재생 뉴딜정책과 중심시가지 활성화 전략', '2017.07.05', '06.28~07.03', 'http://kourc.krihs.re.kr/kourc/notice/seminar_view.php?idx=29']\n",
            "7 ['2016 근린재생 국제컨퍼런스 (사전등록없이 참석가능)', '2016.12.14', '11.25~12.14', 'http://kourc.krihs.re.kr/kourc/notice/seminar_view.php?idx=27']\n",
            "8 ['근린재생형 도시재생사업 우수사례 세미나 (3차)', '2016.11.29', '10.07~11.28', 'http://kourc.krihs.re.kr/kourc/notice/seminar_view.php?idx=26']\n",
            "9 ['근린재생형 도시재생사업 우수사례 세미나(2차)', '2016.11.08', '10.07~11.07', 'http://kourc.krihs.re.kr/kourc/notice/seminar_view.php?idx=25']\n",
            "10 ['근린재생형 도시재생사업 우수사례 세미나 (1차)', '2016.10.25', '10.07~10.24', 'http://kourc.krihs.re.kr/kourc/notice/seminar_view.php?idx=24']\n",
            "11 ['[ 근린재생형 도시재생사업 국제 컨퍼런스 4차 ] 지속가능한 도시재생 전략', '2015.12.16', '10.07~12.16', 'http://kourc.krihs.re.kr/kourc/notice/seminar_view.php?idx=18']\n",
            "12 ['[ 근린재생형 도시재생사업 컨퍼런스 3차 ] 근린재생형 도시재생사업의 추진전략 상권활성화와 청년창업', '2015.11.18', '10.07~11.18', 'http://kourc.krihs.re.kr/kourc/notice/seminar_view.php?idx=17']\n",
            "13 ['도시재생을 위한 핵심 컨텐츠 및 상인과 지역 역량강화 방안 세미나(5차)', '2015.11.17', '10.05~11.16', 'http://kourc.krihs.re.kr/kourc/notice/seminar_view.php?idx=11']\n",
            "14 ['도시재생사업의 활성화를 위한 현장밀착형 세미나 시리즈 ?도시재생 관련 법·제도 개선을 중심으로- (4차)', '2015.11.13', '11.02~11.12', 'http://kourc.krihs.re.kr/kourc/notice/seminar_view.php?idx=23']\n",
            "15 ['도시재생을 위한 핵심 컨텐츠 및 상인과 지역 역량강화 방안 세미나(4차)', '2015.11.10', '10.05~11.09', 'http://kourc.krihs.re.kr/kourc/notice/seminar_view.php?idx=10']\n",
            "16 ['도시재생을 위한 핵심 컨텐츠 및 상인과 지역 역량강화 방안 세미나(3차)', '2015.11.03', '10.05~11.02', 'http://kourc.krihs.re.kr/kourc/notice/seminar_view.php?idx=9']\n",
            "17 ['도시재생사업의 활성화를 위한 현장밀착형 세미나 시리즈 ?도시재생 관련 법·제도 개선을 중심으로- (3차)', '2015.10.31', '10.26~10.31', 'http://kourc.krihs.re.kr/kourc/notice/seminar_view.php?idx=21']\n",
            "18 ['[ 근린재생형 도시재생사업 컨퍼런스 2차 ] 근린재생형 도시재생사업의 추진전략 문화예술과 관광', '2015.10.28', '10.07~10.28', 'http://kourc.krihs.re.kr/kourc/notice/seminar_view.php?idx=16']\n",
            "19 ['도시재생을 위한 핵심 컨텐츠 및 상인과 지역 역량강화 방안 세미나(2차)', '2015.10.27', '10.05~10.26', 'http://kourc.krihs.re.kr/kourc/notice/seminar_view.php?idx=8']\n",
            "20 ['[ 근린재생형 도시재생사업 컨퍼런스 1차 ] 선도지역 및 해외사례로 본 지자체의 도시재생사업 추진방안', '2015.10.22', '10.07~10.22', 'http://kourc.krihs.re.kr/kourc/notice/seminar_view.php?idx=15']\n",
            "21 ['도시재생사업의 활성화를 위한 현장밀착형 세미나 시리즈 ?도시재생 관련 법·제도 개선을 중심으로- (2차)', '2015.10.21', '10.16~10.21', 'http://kourc.krihs.re.kr/kourc/notice/seminar_view.php?idx=20']\n",
            "22 ['도시재생을 위한 핵심 컨텐츠 및 상인과 지역 역량강화 방안 세미나(1차)', '2015.10.20', '10.05~10.19', 'http://kourc.krihs.re.kr/kourc/notice/seminar_view.php?idx=7']\n",
            "23 ['근린재생형 도시재생사업 전문가 세미나(6차)', '2015.10.13', '08.25~10.12', 'http://kourc.krihs.re.kr/kourc/notice/seminar_view.php?idx=1']\n",
            "24 ['도시재생사업의 활성화를 위한 현장밀착형 세미나 시리즈 ?도시재생 관련 법·제도 개선을 중심으로- (1차)', '2015.10.07', '10.01~10.07', 'http://kourc.krihs.re.kr/kourc/notice/seminar_view.php?idx=14']\n",
            "25 ['근린재생형 도시재생사업 전문가 세미나(5차)', '2015.10.06', '08.25~10.05', 'http://kourc.krihs.re.kr/kourc/notice/seminar_view.php?idx=2']\n",
            "26 ['근린재생형 도시재생사업 전문가 세미나(4차)', '2015.09.22', '08.25~09.21', 'http://kourc.krihs.re.kr/kourc/notice/seminar_view.php?idx=3']\n",
            "27 ['근린재생형 도시재생사업 전문가 세미나(3차)', '2015.09.15', '08.25~09.14', 'http://kourc.krihs.re.kr/kourc/notice/seminar_view.php?idx=4']\n",
            "28 ['근린재생형 도시재생사업 전문가 세미나(2차)', '2015.09.08', '08.25~09.03', 'http://kourc.krihs.re.kr/kourc/notice/seminar_view.php?idx=5']\n",
            "29 ['근린재생형 도시재생사업 전문가 세미나(1차)', '2015.09.01', '08.25~08.30', 'http://kourc.krihs.re.kr/kourc/notice/seminar_view.php?idx=6']\n"
          ],
          "name": "stdout"
        }
      ]
    },
    {
      "cell_type": "code",
      "metadata": {
        "id": "UxE4iwukohoQ",
        "colab_type": "code",
        "outputId": "8b9c5b52-4cad-42a6-f2b0-79ed9b183437",
        "colab": {
          "base_uri": "https://localhost:8080/",
          "height": 1000
        }
      },
      "source": [
        "read_delimiter_file_enc('/content/drive/My Drive/KS_DS-2020/국토연구원 도시재생실증연구 보도자료(2019년).csv', ',')"
      ],
      "execution_count": 0,
      "outputs": [
        {
          "output_type": "stream",
          "text": [
            "0 ['보도자료', '게시일자', '보도자료링크']\n",
            "1 ['\"본질 흐려질까 우려\"...목포 도시재생사업 차질 없나?', '2019-01-30', 'https://www.ytn.co.kr/_ln/0115_$201901231804427715']\n",
            "2 ['구도심 활성화..도시재생에서 답을 찾다', '2019-01-30', 'https://news.v.daum.net/v/$20190124101043034?f=o']\n",
            "3 ['‘공익 vs 사익’ 넘어 손혜원 논란 이후의 도시재생은?', '2019-01-30', 'http://news.kbs.co.kr/news/view.do?ncd=4124599&ref=D']\n",
            "4 ['세운재정비와 도시재생 2.0', '2019-01-30', 'http://news.kmib.co.kr/article/view.asp?arcid=0924059015&code=11171222&cp=du']\n",
            "5 ['[한필원의 골목길 통신] 도시재생의 실마리, 문화유산', '2019-01-30', 'http://www.seoul.co.kr/news/newsView.php?id=$20190128030002&wlog_tag3=daum']\n",
            "6 ['마을도서관·보건소 가까운 거리에…도시재생 인프라 최소기준 개정', '2019-01-30', 'http://www.dt.co.kr/contents.html?article_no=$2019012902109932036002&ref=daum']\n",
            "7 ['여전히 바뀌지 않는 도시재생의 잣대', '2019-01-30', 'http://www.jejuilbo.net/news/articleView.html?idxno=113763']\n",
            "8 ['[도시재생 스타트업] 사람중심 도시재생 답 찾아 나선 ‘어반플레이’', '2018-12-11', 'http://www.startup4.co.kr/news/articleView.html?idxno=11250']\n",
            "9 ['[도시재생과 스타트업] 도시재생, 청년 스타트업과 함께 다시 시작하자', '2018-12-11', 'http://www.startup4.co.kr/news/articleView.html?idxno=11214']\n",
            "10 ['근대건축물 면(面) 단위 보존, 도시재생 견인차 될까', '2018-12-05', 'https://www.yna.co.kr/view/AKR$20181203156400005?input=1179m']\n",
            "11 [\"700억 규모 김해 도시재생 '흔들'\", '2018-12-05', 'http://www.gimhaenews.co.kr/news/articleView.html?idxno=25283']\n",
            "12 ['\"도시재생사업 총괄권, 공기업에 줘야\"', '2018-12-05', 'http://www.incheonilbo.com/news/articleView.html?idxno=916396']\n",
            "13 ['도시재생 희망지사업 대상지 15곳 선정', '2018-12-05', 'http://www.latimes.kr/news/articleView.html?idxno=31571']\n",
            "14 ['市, 원도심균형발전 도시재생정책協 구성', '2018-12-03', 'http://www.kgnews.co.kr/news/articleView.html?idxno=533769']\n",
            "15 ['세종시 도시재생 뉴딜사업 ‘청신호’', '2018-12-03', 'http://www.cctoday.co.kr/?mod=news&act=articleView&idxno=1177105']\n",
            "16 ['“오래되고 낡은 것 되살려내는 게 진정한 도시재생”', '2018-12-03', 'http://news.khan.co.kr/kh_news/khan_art_view.html?artid=$201812022102015&code=100100']\n",
            "17 ['독일·네덜란드 도시재생을 구미에 접목시키다', '2018-12-03', 'http://www.dmilbo.com/news/articleView.html?idxno=244272']\n",
            "18 ['서울시 도시재생기업(CRC) 관련 첫 공개 논의', '2018-12-03', 'http://sbscnbc.sbs.co.kr/readp?pmArticleId=10000923285']\n",
            "19 ['“도시재생과 일자리 연계”...도시재생 혁신지구로 뒷받침해야', '2018-11-26', 'http://sbscnbc.sbs.co.kr/readp?pmArticleId=10000922147']\n",
            "20 ['5년 50조 ‘소리만 요란한’ 도시재생', '2018-11-22', 'http://news.heraldcorp.com/view.php?ud=$20181121000385']\n",
            "21 ['벽화만 그리던 도시재생…`규제프리존` 도입', '2018-11-22', 'http://news.mk.co.kr/newsRead.php?year=$2018&no=730426']\n",
            "22 ['“인천형 도시재생사업 통해 원도심 주민의 ‘삶의 질’ 높이겠다”', '2018-11-22', 'http://news.donga.com/3/all/$20181122/92972878/1']\n",
            "23 [\"[도시재생 현주소①] 묵2동?제기동 주민들이 보는 도시재생뉴딜은?...'동상이몽'\", '2018-11-22', 'http://www.dailian.co.kr/news/view/753052']\n",
            "24 ['도시재생 뉴딜사업지 13곳, 문화영향평가', '2018-11-21', 'http://kourc.krihs.re.kr/kourc/notice/press.php']\n",
            "25 ['\"도시재생 현장서 젠트리피케이션 막는다\"…국회서 토론회', '2018-11-21', 'https://www.yna.co.kr/view/AKR$20181120058200003?input=1179m']\n",
            "26 [\"도시재생이 정답이다....변신 중인 옥봉동 '새뜰마을'\", '2018-11-21', 'http://biz.khan.co.kr/khan_art_view.html?artid=$201811$201708001&code=920202']\n",
            "27 ['전문가가 제안하는 도시재생 \"국토를 한 몸 생명으로 보자\"', '2018-11-19', 'http://www.idomin.com/?mod=news&act=articleView&idxno=581706']\n",
            "28 ['주택정비사업 AI가 맡는다… 경기 도시재생에 기술 도입', '2018-11-19', 'http://www.dt.co.kr/contents.html?article_no=$2018111902101731041001&ref=daum']\n",
            "29 ['[기고/강헌수]골목상권 살리기, 도시재생사업과 연계해야', '2018-11-15', 'http://news.donga.com/3/all/$20181114/92877163/1']\n",
            "30 ['도시재생뉴딜 14곳 국가지원 확정...포항 특별재생지역 2257억 지원', '2018-11-15', 'http://www.edaily.co.kr/news/read?newsId=06704326619405720&mediaCodeNo=257&OutLnkChk=Y']\n",
            "31 ['도시재생 사업지역 주민 10명 중 6명만 \"도시재생 안다\"', '2018-11-12', 'http://www.edaily.co.kr/news/read?newsId=01633446619402112&mediaCodeNo=257&OutLnkChk=Y']\n",
            "32 [\"물량 투입' 주춤했던 서울시 도시재생사업 본격화..예산 2배↑\", '2018-11-12', 'http://www.newspim.com/news/view/$20181109000596']\n",
            "33 ['도시재생 새싹기업 키운다…예비 사회적기업 24곳 추가', '2018-11-12', 'http://www.korea.kr/policy/economyView.do?newsId=148855427&call_from=media_daum']\n",
            "34 ['\"짓고 부수는 도시재생 오래가지 못해\"', '2018-11-12', 'http://www.idomin.com/?mod=news&act=articleView&idxno=581014']\n",
            "35 ['전문성·소통 부재 … 속 터지는 도시재생', '2018-11-12', 'http://www.incheonilbo.com/news/articleView.html?idxno=911785']\n",
            "36 ['\"도시 재생 사업 활용해 창업공간 조성해야\"', '2018-11-12', 'http://www.fnnews.com/news/$201811111225050658']\n",
            "37 ['국토부-LH, 도시재생 분야 임팩트 투자펀드 최초 시행', '2018-11-12', 'http://www.dailian.co.kr/news/view/750994']\n",
            "38 ['마을회관·도서관 지으면 도시재생?', '2018-10-29', 'http://news.mk.co.kr/newsRead.php?year=$2018&no=658565']\n",
            "39 ['빈집을 `핫 플레이스로`…일자리 만드는 도시재생', '2018-10-29', 'http://news.mk.co.kr/newsRead.php?year=$2018&no=667408']\n",
            "40 ['‘2018 도시재생뉴딜대상’ 개최…지자체·주민 협업 성과 공유', '2018-10-29', 'http://news1.kr/articles/?3461115']\n",
            "41 ['[도시재생뉴딜대상] \"쇠퇴한 도시에 활기…지자체 노력 돋보여\"', '2018-10-29', 'http://news1.kr/articles/?3460054']\n",
            "42 ['정읍시-LH ‘도시재생 뉴딜사업 성공 추진’ MOU', '2018-10-29', 'http://www.jeonmin.co.kr/news/articleView.html?idxno=191550']\n",
            "43 [\"[도시재생이 미래다]③'팩토리 베를린·말뫼의 부활'…해외 성공사례는?\", '2018-10-22', 'http://news1.kr/articles/?3455443']\n",
            "44 ['[도시재생이 미래다]②\"2300개 읍면동 쇠퇴일로…도시재생 뉴딜이 해법\"', '2018-10-22', 'http://news1.kr/articles/?3455258']\n",
            "45 ['[도시재생이 미래다]①2년만에 사업 본궤도에…“지역 살릴 유일한 대안”', '2018-10-22', 'http://news1.kr/articles/?3454374']\n",
            "46 ['서울시 빈집 활용 도시재생 본격화', '2018-10-15', 'http://www.newsis.com/view/?id=NISX$20181010_0000439196&cID=10801&pID=14000']\n",
            "47 ['인천의 옛 중심지, 도시재생으로 살아날까', '2018-10-15', 'http://www.rcast.co.kr/sub02.php?BRD_ID=1539334702467']\n",
            "48 ['[기고] 생태문명 여는 생태적 도시재생을', '2018-10-15', 'http://www.sedaily.com/NewsView/1S5VUQDFZF']\n",
            "49 [\"국토부, 천안역세권 도시재생 착수 준비 완료···LH·코레일·천안시 '맞손'\", '2018-10-05', 'http://www.ikld.kr/news/articleView.html?idxno=99655']\n",
            "50 ['청주 옛 연초제조창 도시재생사업 복합비즈니스센터·호텔 건립 보류', '2018-10-05', 'http://www.cctimes.kr/news/articleView.html?idxno=545915']\n",
            "51 ['정부 뉴딜정책 1호 통영도시재생, 통영을 위한 것인가? LH를 위한 것인가?', '2018-10-05', 'http://www.hansannews.com/news/articleView.html?idxno=58743']\n",
            "52 ['첫삽 뜬 서울형 도시재생 순항할까', '2018-10-05', 'http://www.sedaily.com/NewsView/1S5R9K2OMY']\n",
            "53 [\"원도심 산복도로에 '테라스형 주택'… 부산형 도시재생 추진\", '2018-10-05', 'http://news20.busan.com/controller/newsControllerp?newsId=$20181004000375']\n",
            "54 ['순천시 도시재생사업 일자리ㆍ소득 ‘성과’', '2018-10-05', 'http://www.hankookilbo.com/News/Read/$201810041599335272?did=da']\n",
            "55 ['인천 원도심과 신도심의 불균형 심각, 인천도시재생사업 속도 낸다', '2018-09-28', 'http://www.hankookilbo.com/News/Read/$201809180384021717?did=da']\n",
            "56 [\"[서울시 도시재생 확대]뉴딜 이어 서울형 사업…단서는 '시장 과열 없어야'\", '2018-09-27', 'http://www.asiae.co.kr/news/view.htm?idxno=$2018092415270054197']\n",
            "57 ['[서울시 도시재생 확대]종합형 재생 속도… 전국 단위로 추진', '2018-09-27', 'http://www.asiae.co.kr/news/view.htm?idxno=$2018092112330188499']\n",
            "58 ['[통영 도시재생]②지역경제 활성화 될까?…일자리·인구증가 기대감 ↑', '2018-09-27', 'http://news1.kr/articles/?3435114']\n",
            "59 [\"[통영 도시재생]①흉물 '골리앗 크레인', 도시의 미래가 되다\", '2018-09-27', 'http://news1.kr/articles/?3435088']\n",
            "60 ['서울시 공공발주 도시재생사업, 지역 업체에 우선권', '2018-09-27', 'http://news.kmib.co.kr/article/view.asp?arcid=0924011837&code=11131400&cp=du']\n",
            "61 ['복지부·행안부·국토부, 도시재생 협력 협약 체결', '2018-09-17', 'https://kizmom.hankyung.com/news/view.html?aid=$201809125324o']\n",
            "62 ['서울 ‘도시재생뉴딜사업’, 치솟는 집값에 기름 부을까', '2018-09-17', 'http://moneys.mt.co.kr/news/mwView.php?no=$2018091117098074771&outlink=1']\n",
            "63 [\"도시재생 시급한데...'부동산 과열' 딜레마\", '2018-09-04', 'http://news.mt.co.kr/mtview.php?no=$2018083114545758223&outlink=1&ref=http%3A%2F%2Fsearch.daum.net']\n",
            "64 ['주택규제에 도시재생까지 소외…오간데 없는 뉴스테이 연계형 사업', '2018-09-04', 'http://www.dailian.co.kr/news/view/736970']\n",
            "65 ['올해 도시재생 99곳 선정…“시장 과열되면 선정 즉시 취소”', '2018-09-04', 'http://sbscnbc.sbs.co.kr/readp?pmArticleId=10000913655']\n",
            "66 ['정부, 도시재생 등 10대 생활형 SOC에 내년 8.7조 투입', '2018-08-27', 'http://news.einfomax.co.kr/news/articleView.html?idxno=3464880']\n",
            "67 ['흥해 도시재생 ‘큰그림’ 주민들과 함께 그린다', '2018-08-27', 'http://www.hidomin.com/news/articleView.html?idxno=366643']\n",
            "68 ['‘문어발식’ 도시재생 전문가 불신의 벽 높아진다', '2018-08-27', 'http://www.kihoilbo.co.kr/?mod=news&act=articleView&idxno=765881']\n",
            "69 [\"침체된 전주 구도심에 '생기'…창의적 도시재생 결실\", '2018-08-21', 'http://news1.kr/articles/?3402094']\n",
            "70 [\"문체부·국토부, '문화적 도시재생' 본격화…MOU 체결\", '2018-08-14', 'http://www.yonhapnews.co.kr/bulletin/$2018/08/13/0200000000AKR$20180813122951005.HTML?input=1179m']\n",
            "71 ['도시재생 복합개발사업 최대 절반까지 융자…금리도 인하', '2018-08-14', 'http://www.edaily.co.kr/news/news_detail.asp?newsId=01197206619307320&mediaCodeNo=257&OutLnkChk=Y']\n",
            "72 ['도시재생 뉴딜 민간참여 ‘난항’…리츠 활성화 어떻게?', '2018-08-13', 'http://www.dailian.co.kr/news/view/731055']\n",
            "73 ['도시재생리츠 융자한도 총사업비 50#37까지 확대…\"최장 35년 상환\"', '2018-08-13', 'http://news1.kr/articles/?3395075']\n",
            "74 ['국내 도시재생사업 활성화를 위한 제언', '2018-08-07', 'http://www.housingherald.co.kr/news/articleView.html?idxno=31797']\n",
            "75 ['[경제와삶] 도시재생뉴딜과 혁신성장', '2018-08-07', 'http://www.joongboo.com/?mod=news&act=articleView&idxno=1273506']\n",
            "76 ['도시재생 뉴딜 시범사업 51곳 본격 시작', '2018-08-06', 'http://www.ecomedia.co.kr/news/newsview.php?ncode=1065579536577659']\n",
            "77 ['부평 원도심 도시재생 본격 시동', '2018-08-02', 'http://www.kihoilbo.co.kr/?mod=news&act=articleView&idxno=762692']\n",
            "78 ['[세운상가의 불편한 재생] ‘돈바람’ 몰아치는 도시재생의 상징', '2018-08-02', 'http://www.thescoop.co.kr/news/articleView.html?idxno=31301']\n",
            "79 ['익산시, ‘역사가 문화로’ 도시재생 뉴딜 사업 본격 추진', '2018-08-02', 'http://news1.kr/articles/?3386640']\n",
            "80 ['LH-지자체, 1조 규모 통영 폐조선소 도시재생사업 본격화', '2018-08-02', 'http://www.dt.co.kr/contents.html?article_no=$2018073002109932036004&ref=daum']\n",
            "81 ['부익부빈익빈 도시재생 뉴딜사업', '2018-08-02', 'http://www.ggilbo.com/news/articleView.html?idxno=531976']\n",
            "82 ['양귀호 HUG 도시재생기획처 도시금융기획팀장 \"구도심에 생명 넣는 도시재생 지원합니다\"', '2018-08-02', 'http://www.fnnews.com/news/$201807231715073844']\n",
            "83 ['\"용산을 첨단공방으로…걷는 사람, 도시재생의 척도\"', '2018-07-23', 'http://news.mt.co.kr/mtview.php?no=$2018071617121954212&outlink=1&ref=http%3A%2F%2Fsearch.daum.net']\n",
            "84 ['도시재생, 네덜란드에 배우다', '2018-07-23', 'http://pub.chosun.com/client/news/viw.asp?cate=C01&mcate=M1003&nNewsNumb=$20180729487&nidx=29488']\n",
            "85 [\"시민행복 담는 도시재생' 전주서 전문가들 머리 맞대\", '2018-07-19', 'http://www.fnnews.com/news/$201807190202589040']\n",
            "86 ['도시재생뉴딜 조기성과 낼 곳만 뽑을까 우려', '2018-07-19', 'http://www.sedaily.com/NewsView/1S24T4018R']\n",
            "87 ['첨단·미래산단 조성 자족기능 확충해 도시경쟁력 향상', '2018-07-16', 'http://www.jbnews.com/news/articleView.html?idxno=1211133']\n",
            "88 [\"박원순의 '도시계획위 혁명' 선언…상임기획단 강화에 방점\", '2018-07-16', 'http://www.yonhapnews.co.kr/bulletin/$2018/07/14/0200000000AKR$20180714038300004.HTML?input=1179m']\n",
            "89 ['LH, 도시재생 뉴딜사업 총력', '2018-07-16', 'http://www.fnnews.com/news/$201807151720029051']\n",
            "90 ['안전 외면한 도시 재생 사업은 ‘시한폭탄’', '2018-07-13', 'http://magazine.hankyung.com/business/apps/news?popup=0&nid=01&c1=1002&nkey=$2018070201179000291&mode=sub_view']\n",
            "91 ['[기자수첩]도시재생 뉴딜, 동네마다 ‘돋보기’를 대라', '2018-07-13', 'http://www.edaily.co.kr/news/news_detail.asp?newsId=01115206619274192&mediaCodeNo=257&OutLnkChk=Y']\n",
            "92 ['“달동네라도 부촌 옆은 안돼”…이상한 ‘도시재생 뉴딜’ 신청 기준', '2018-07-13', 'http://www.edaily.co.kr/news/news_detail.asp?newsId=01279206619273864&mediaCodeNo=257&OutLnkChk=Y']\n",
            "93 ['장안평 도시재생 사업 급물살…미래형 차산업 메카로 탈바꿈', '2018-07-13', 'http://www.dt.co.kr/contents.html?article_no=$2018071202109932036002&ref=daum']\n",
            "94 [\"서울시 '창신·숭인 채석장' 도시재생 암초…토지 미확보로 사업지연\", '2018-07-13', 'http://news1.kr/articles/?3368121']\n",
            "95 ['주민의 행복한 삶을 위한 도시재생뉴딜사업을 위해', '2018-07-13', 'http://www.kado.net/?mod=news&act=articleView&idxno=920928']\n",
            "96 ['도시재생 뉴딜사업 100곳 뽑는데 264곳 신청', '2018-07-13', 'http://www.yonhapnews.co.kr/bulletin/$2018/07/12/0200000000AKR$20180712105700003.HTML?input=1179m']\n",
            "97 ['광주역 청년 역전 스타트업 밸리로 도시재생 추진', '2018-07-11', 'http://www.hani.co.kr/arti/society/area/852692.html']\n",
            "98 ['“1330억 예산 중 집행은 1억”…주택도시기금 도시재생지원 실효성 논란', '2018-07-11', 'http://www.etoday.co.kr/news/section/newsview.php?idxno=1640226']\n",
            "99 ['전주 첫마중길역세권 도시재생뉴딜사업 통과 주목', '2018-07-11', 'http://www.newsis.com/view/?id=NISX$20180710_0000359545&cID=10808&pID=10800']\n",
            "100 ['전남 고흥군, 소규모 도시재생사업 선정', '2018-07-11', 'http://moneys.mt.co.kr/news/mwView.php?no=$2018071016388035073&outlink=1']\n",
            "101 ['서울시-KT, 난곡·난향동 도시재생 공동 추진', '2018-07-11', 'http://news1.kr/articles/?3368622']\n",
            "102 ['박원순 \"시민참여형 도시재생, 되돌릴 수 없는 시대 흐름\"(종합)', '2018-07-10', 'http://www.yonhapnews.co.kr/bulletin/$2018/07/09/0200000000AKR$20180709106151004.HTML?input=1179m']\n",
            "103 ['유네스코 \"전주는 무형문화유산과 도시재생 모범도시\"', '2018-07-10', 'http://news1.kr/articles/?3366882']\n",
            "104 ['세운상가·청량리시장 등 정부 ‘도시재생 뉴딜’ 후보지 신청', '2018-07-10', 'http://www.edaily.co.kr/news/news_detail.asp?newsId=04100006619272880&mediaCodeNo=257&OutLnkChk=Y']\n",
            "105 ['투기꾼 판치는 도시재생사업', '2018-07-09', 'http://biz.khan.co.kr/khan_art_view.html?artid=$201807071327011&code=920202']\n",
            "106 ['대전시 도시재생 뉴딜사업 본격 추진', '2018-07-09', 'http://www.gukjenews.com/news/articleView.html?idxno=954262']\n",
            "107 ['박원순식 부동산 정책, 서울 ‘도시재생사업’ 성적표', '2018-07-05', 'http://www.kukinews.com/news/article.html?no=563228']\n",
            "108 ['[리츠가 만드는 도시재생] 도시재생, 리츠가 핵심인 이유', '2018-07-05', 'http://www.econovill.com/news/articleView.html?idxno=340549']\n",
            "109 ['집값 상승률 낮은 `노·도·강` 서울 도시재생 뉴딜 사업 후보지 선정', '2018-07-05', 'http://www.dt.co.kr/contents.html?article_no=$2018070502109932036001&ref=daum']\n",
            "110 ['세종시, 올해 도시재생뉴딜사업 3곳 제안', '2018-07-05', 'http://www.fnnews.com/news/$201807050859251837']\n",
            "111 ['금천구 ‘독산동 우시장 일대 도시재생 행정협의회’ 본격 출범', '2018-07-02', 'http://www.asiae.co.kr/news/view.htm?idxno=$2018070206301186739']\n",
            "112 ['서울형 도시재생 체제 구축… 정부 협력 본격화', '2018-06-29', 'http://www.asiae.co.kr/news/view.htm?idxno=$2018062908311874750']\n",
            "113 ['도시재생 뉴딜, 도시와 건축물 안전의 흑기사/손병석 국토교통부 제1차관', '2018-06-28', 'http://www.seoul.co.kr/news/newsView.php?id=$20180626030005&wlog_tag3=daum']\n",
            "114 ['울산 중·남구 ‘도시재생 활성화 사업’ 본격 추진', '2018-06-28', 'http://www.iusm.co.kr/news/articleView.html?idxno=805792']\n",
            "115 [\"서울 포함된 도시재생 뉴딜, 신청 '초읽기'\", '2018-06-28', 'http://www.tbs.seoul.kr/news/bunya.do?method=daum_html2&typ_800=R&seq_800=10287536']\n",
            "116 ['낙후지역 도시재생 현장 목소리 들어보니…\"선거 끝나면 도루묵\"', '2018-06-25', 'http://www.asiae.co.kr/news/view.htm?idxno=$2018062109203743380']\n",
            "117 ['서울시, \"도시재생은 긴 호흡… 평가 성급\"', '2018-06-25', 'http://www.asiae.co.kr/news/view.htm?idxno=$2018062013403269758']\n",
            "118 ['국토부, 도시재생 뉴딜에 메자닌 투자기법 도입…개발 이익 공공환수', '2018-06-25', 'http://www.dt.co.kr/contents.html?article_no=$2018062402109932036005&ref=daum']\n",
            "119 ['창원도시재생센터, 충무지구 도시재생현장지원센터 개소', '2018-06-21', 'http://www.nocutnews.co.kr/news/4988449']\n",
            "120 ['보령시, 도시재생 뉴딜사업 실현 가능성 높인다', '2018-06-21', 'http://www.jeonmae.co.kr/news/view.html?section=103&category=164&no=228182']\n",
            "121 ['공주시, 청년들의 도전으로 도시재생 이루다', '2018-06-21', 'http://www.expressnews.co.kr/news/articleView.html?idxno=100866']\n",
            "122 ['\"도시재생 속도 높인다\"..실무위원회 7월초 출범', '2018-06-21', 'http://www.newspim.com/news/view/$20180620000340']\n",
            "123 ['경기도, 행궁동 일원 도시재생 활성화계획 승인', '2018-06-18', 'http://news1.kr/articles/?3348022']\n",
            "124 ['국토부, ‘도시재생 특별법’ 개정안 국회 통과', '2017-12-11', 'http://www.ohmycon.co.kr/news/articleView.html?idxno=21555']\n",
            "125 ['택지지구 아파트 사업이 도시재생 뉴딜?', '2017-12-11', 'http://land.hankyung.com/news/app/newsview.php?aid=$2017121077781']\n",
            "126 ['“경기도 도시재생뉴딜사업 성공위해 이면도로 개선사업.소규모 정비사업 추진해야”', '2017-11-27', 'http://kbfocus.com/read.htm?&vtype=pc&ns_id=29980']\n",
            "127 ['‘도시재생 뉴딜’ 지자체 6곳 도전장 지방정부 주도 정비사업 추진 원해', '2017-11-27', 'http://www.kihoilbo.co.kr/?mod=news&act=articleView&idxno=725691']\n",
            "128 ['재래시장 살리고 사랑방 열고… 도시재생, 스타트업들이 뛴다', '2017-11-10', 'http://news.donga.com/3/all/$20171109/87196216/1']\n",
            "129 ['주민 떠나는 썰렁한 구도심…경기도 도시재생뉴딜사업 추진', '2017-11-10', 'http://news.joins.com/article/22098704']\n",
            "130 ['경기도 ‘도시재생 뉴딜사업’ 통해 2026년까지 45곳에 778억 투입', '2017-11-10', 'http://www.fnnews.com/news/$201711091911044506']\n",
            "131 ['중랑구 묵2동 장미마을에 도시재생 컨드롤타워 세워', '2017-11-06', 'http://www.asiae.co.kr/news/view.htm?idxno=$2017110308460513501']\n",
            "132 [\"서울 천호 2·3동 도시재생 첫발…'희망지 사업' 선정\", '2017-11-01', 'http://www.yonhapnews.co.kr/bulletin/$2017/11/01/0200000000AKR$20171101029100004.HTML?input=1179m']\n",
            "133 ['방치됐던 건물 문화공간으로 탈바꿈 ‘서울형 도시재생 사업’ 활발', '2017-11-01', 'http://news.kmib.co.kr/article/view.asp?arcid=0923841063&code=11131400&cp=du']\n",
            "134 ['HUG, 수요자 중심형 도시재생 지원자금 보증 출시', '2017-11-01', 'http://www.edaily.co.kr/news/news_detail.asp?newsId=03237366616098496&mediaCodeNo=257&OutLnkChk=Y']\n",
            "135 ['김현미 \"서울시와 도시재생 뉴딜 협력 방안 논의 중\"', '2017-11-01', 'http://www.yonhapnews.co.kr/bulletin/$2017/10/31/0200000000AKR$20171031179300003.HTML?input=1179m']\n",
            "136 ['옛 충남도청·대전역·중앙로 일대 도시재생사업 본격화… 원도심에 활력 불어넣는다', '2017-10-31', 'http://news.chosun.com/site/data/html_dir/$2017/10/30/$2017103002014.html']\n",
            "137 ['靑의 \\'스마트시티\\' 추진전략 윤곽...\"신규 조성 #43 스마트 도시재생 뉴딜\"', '2017-10-31', 'http://biz.chosun.com/site/data/html_dir/$2017/10/30/$2017103002735.html']\n",
            "138 ['\"도시재생 뉴딜사업 참여주체별 협업 필요\"', '2017-10-25', 'http://www.nocutnews.co.kr/news/4865830']\n",
            "139 [\"도시재생이 달랑 40가구 짓는 '동네 집장사'?\", '2017-10-25', 'http://biz.chosun.com/site/data/html_dir/$2017/10/23/$2017102302857.html']\n",
            "140 ['네오밸류 대표 “도시재생 핵심은 복합개발…한국의 롯폰기힐스 만들 것”', '2017-10-23', 'http://biz.chosun.com/site/data/html_dir/$2017/10/23/$2017102300712.html']\n",
            "141 ['강원도, 도시재생 뉴딜사업 본격 추진', '2017-10-23', 'http://www.m-i.kr/news/articleView.html?idxno=352010']\n",
            "142 ['도시재생뉴딜지역 과열땐 사업비 지급 늦춘다', '2017-10-23', 'http://www.fnnews.com/news/$201710221656290633']\n",
            "143 ['도시재생 뉴딜사업을 재도약의 기회로… \"도시재생 전문기관으로 육성할 것\"', '2017-10-19', 'http://news.chosun.com/site/data/html_dir/$2017/10/17/$2017101702574.html']\n",
            "144 ['도시재생사업 기대감 때문?…‘단독주택’ 재조명', '2017-10-19', 'http://sbscnbc.sbs.co.kr/readp?pmArticleId=10000878323']\n",
            "145 ['‘폐광의 부활’은 도시재생 가능성의 잣대', '2017-10-19', 'http://www.hani.co.kr/arti/society/area/815025.html']\n",
            "146 ['천안시 역세권·남산공원 주변 도시재생 추진', '2017-10-19', 'http://www.newsis.com/view/?id=NISX$20171018_0000121086&cID=10807&pID=10800']\n",
            "147 ['\"도시재생이 집값 끌어올리지 않는다…젠트리피케이션 고민해야\"', '2017-10-19', 'http://www.edaily.co.kr/news/news_detail.asp?newsId=03489926616094232&mediaCodeNo=257&OutLnkChk=Y']\n",
            "148 ['도시재생사업도 사회적경제 기업에 가점', '2017-10-19', 'http://news.mt.co.kr/mtview.php?no=$2017101815004120036&outlink=1&ref=http%3A%2F%2Fsearch.daum.net']\n",
            "149 ['30년 시간 멈춘 대구 구도심 … 도시재생이냐? 재개발이냐?', '2017-10-17', 'http://news.joins.com/article/2$2018019']\n",
            "150 ['창원 도시재생 뉴딜사업 예비대상지 4곳 상생협약 완료', '2017-10-17', 'http://www.nocutnews.co.kr/news/4861190']\n",
            "151 ['도시재생 뉴딜사업… 세종시 위한 디딤돌 될까', '2017-10-17', 'http://www.cctoday.co.kr/?mod=news&act=articleView&idxno=1091507']\n",
            "152 ['새정부 도시재생 뉴딜, LH 재무건전성 악화 우려', '2017-10-16', 'http://www.jbnews.com/news/articleView.html?idxno=813896']\n",
            "153 [\"서울 '미니 도시재생' 첫선...상도동 노후 주거지 대변신한다\", '2017-10-16', 'http://www.sedaily.com/NewsView/1OMBBHI1HV']\n",
            "154 ['[세계타워] 온고지신의 도시재생', '2017-10-16', 'http://www.segye.com/newsView/$20171015002432']\n",
            "155 ['광주 청년들, 직접 도시재생 신모델 발굴 나서', '2017-10-11', 'http://www.nocutnews.co.kr/news/4857874']\n",
            "156 ['대구시-감정원, 도시재생 뉴딜사업 활성화 협약 체결', '2017-10-11', 'http://news.mk.co.kr/newsRead.php?year=$2017&no=668319']\n",
            "157 [\"도시재생 '본격화'…중소건설사·건자재업체 기대감 고조\", '2017-09-18', 'http://www.newstomato.com/ReadNews.aspx?no=777899']\n",
            "158 ['“단순히 건물만 뜯어고쳐선 안돼… 도시재생의 원동력은 문화재생”', '2017-09-18', 'http://news.donga.com/3/all/$20170918/86372365/1']\n",
            "159 [\"도시재생 지역 집주인 '임대료 유지' 약정서 만든다\", '2017-09-18', 'http://news1.kr/articles/?3100516']\n",
            "160 ['도시재생 재원 자체조달 늘린다…국토부 연구용역 발주', '2017-09-18', 'http://news.mk.co.kr/newsRead.php?year=$2017&no=624097']\n",
            "161 ['도시재생 뉴딜, ‘50조원의 기회’', '2017-09-15', 'http://www.sedaily.com/NewsView/1OL1BZRHB0']\n",
            "162 ['\"도시재생, 주민들 정신적 변화·연속성이 핵심\"', '2017-09-15', 'http://news.mt.co.kr/mtview.php?no=$2017091313292045234&outlink=1&ref=http%3A%2F%2Fsearch.daum.net']\n",
            "163 ['도시재생 뉴딜, 올해 시범사업 70곳 선정', '2017-09-15', 'http://www.newsis.com/view/?id=NISX$20170914_0015063557&cID=10405&pID=13000']\n",
            "164 ['서울시·자치구, ‘도시재생사업 재개’ 정부에 건의키로', '2017-09-15', 'http://www.newstomato.com/ReadNews.aspx?no=777631']\n",
            "165 ['\"도시재생 화두는 커뮤니티 재생... 민간 자본 중요\"', '2017-09-12', 'http://www.econovill.com/news/articleView.html?idxno=322261']\n",
            "166 ['\"정부 도시재생 뉴딜사업, 지역특성 반영 맞춤형으로\"', '2017-09-12', 'http://news1.kr/articles/?3098076']\n",
            "167 ['[서울 젠트리 보고서] \"상생협약 없는 도시재생, 건물주만 좋은 일\"', '2017-09-12', 'http://news.kmib.co.kr/article/view.asp?arcid=0923812894&code=11131400&cp=du']\n",
            "168 ['韓 상계동·美 보스턴·日 롯폰기 ‘닮은 듯 다른 도시재생’', '2017-09-12', 'http://www.seoul.co.kr/news/newsView.php?id=$20170909011023&wlog_tag3=daum']\n",
            "169 ['“지속가능한 재생 위해 도시재생-스타트업 동행해야”', '2017-09-12', 'http://news1.kr/articles/?3095118']\n",
            "170 ['제주도시재생포럼기획\\' 김현아 의원\"도시재생, 청년 일자리 창출 촉매제 될 것\"', '2017-09-12', 'http://www.sedaily.com/NewsView/1OKXOGJUE0']\n",
            "171 ['HUG, 올 도시재생사업에 380억 지원', '2017-09-12', 'http://www.sedaily.com/NewsView/1OKXOPV1KY']\n",
            "172 ['국토부, 도시재생 국제콘퍼런스 개최', '2017-09-12', 'http://www.dailian.co.kr/news/view/658869']\n",
            "173 ['김현미 국토부 장관 \"도시재생이 바로 도시의 경쟁력\"', '2017-09-04', 'http://www.asiae.co.kr/news/view.htm?idxno=$2017090411133933384']\n",
            "174 [\"부천시-경기도시공사 '도시재생 활성화' 업무협약\", '2017-09-04', 'http://www.newsis.com/view/?id=NISX$20170904_0000085392&cID=10802&pID=10800']\n",
            "175 ['\"창동에 50층 주상복합\"…동북권 ‘도시재생’ 본격화', '2017-09-04', 'http://news.mt.co.kr/mtview.php?no=$2017090217251274103&outlink=1&ref=https%3A%2F%2Fsearch.daum.net']\n",
            "176 [\"방어진항 도시재생사업 국토부 특위 심의 연기로 '난항'\", '2017-09-04', 'http://www.newsis.com/view/?id=NISX$20170901_0000083828&cID=10814&pID=10800']\n",
            "177 [\"도시재생 효율화 위해 '전문 디벨로퍼' 참여 필요\", '2017-08-28', 'http://news.mt.co.kr/mtview.php?no=$2017082621591259166&outlink=1&ref=http%3A%2F%2Fsearch.daum.net']\n",
            "178 ['정부와 엇박자, 서울시 도시재생 사업 어떻게 되나?', '2017-08-28', 'http://www.ytn.co.kr/_ln/0115_$201708262317354561']\n",
            "179 ['군산시, 도시재생 성공적인 롤 모델을 제시!', '2017-08-28', 'http://www.kukinews.com/news/article.html?no=479415']\n",
            "180 [\"부작용 대책 찾을 수 없는 '도시재생 뉴딜'\", '2017-08-21', 'http://www.sedaily.com/NewsView/1OJU5EJTNH']\n",
            "181 [\"서울시, 도시재생 컨트롤타워 '도시재생지원센터' 만든다\", '2017-08-21', 'http://www.asiae.co.kr/news/view.htm?idxno=$2017081813561681536']\n",
            "182 ['서울역·영등포역 도시재생 본격 추진', '2017-08-18', 'http://www.newsis.com/view/?id=NISX$20170818_0000070909&cID=13001&pID=13000']\n",
            "183 ['수도권 3개 도시공사, 도시재생 위한 공공의 역할 논의', '2017-08-18', 'http://news1.kr/articles/?3077064']\n",
            "184 [\"경기도, 50조 도시재생 뉴딜사업 유치 '전담 네트워크 설치'\", '2017-08-18', 'http://www.fnnews.com/news/$201708171014082916']\n",
            "185 ['\"도시재생 지원 확대\"..국토부, 도시계정 재원마련 다각화', '2017-08-18', 'http://www.asiae.co.kr/news/view.htm?idxno=$2017081610240837969']\n",
            "186 ['힘 빠지는 도시재생… 투기과열지구 묶인 서울시 제외', '2017-08-16', 'http://www.seoul.co.kr/news/newsView.php?id=$20170814014025&wlog_tag3=daum']\n",
            "187 [\"도시재생 뉴딜' 배제된 서울시, 자체 도시재생 사업 지속한다\", '2017-08-08', 'http://www.kukinews.com/news/article.html?no=475107']\n",
            "188 ['경남도, 도시재생뉴딜사업 정부공모 준비 박차', '2017-08-08', 'http://news1.kr/articles/?3068059']\n",
            "189 [\"與·서울市도 몰랐다…'도시재생 서울 보류' 부동산 대책에 들어간 이유는?\", '2017-08-07', 'http://biz.chosun.com/site/data/html_dir/$2017/08/06/$2017080600495.html']\n",
            "190 ['도시재생지역 70#37 지자체가 뽑는다', '2017-08-02', 'http://www.asiae.co.kr/news/view.htm?idxno=$2017073110055430187']\n",
            "191 ['“부산 지역 특성 반영한 도시재생 개발 필요”', '2017-08-02', 'http://www.sedaily.com/NewsView/1OIOTPINIM']\n",
            "192 ['정동영 \"투기 만드는 도시재생 뉴딜 사업 위험성 알려야\"...정책 토론회 개최', '2017-08-02', 'http://www.kukinews.com/news/article.html?no=473430']\n",
            "193 ['도시재생사업지, 지자체가 선정', '2017-08-02', 'http://news.kmib.co.kr/article/view.asp?arcid=0923791060&code=11131100&cp=du']\n",
            "194 [\"정부, 총 110곳에 '도시재생 뉴딜사업' 본격 추진\", '2017-07-31', 'http://mbn.mk.co.kr/pages/news/newsView.php?category=mbn00006&news_seq_no=3298046']\n",
            "195 ['도시재생사업지, 지자체가 선정', '2017-07-31', 'http://news.kmib.co.kr/article/view.asp?arcid=0923791060&code=11131100&cp=du']\n",
            "196 ['도시재생, 인천 등 전국 확산', '2017-07-31', 'http://www.fnnews.com/news/$201707271815441485']\n",
            "197 ['“도시재생 뉴딜정책 통해 양질의 주거복지 확보”', '2017-07-24', 'http://www.munhwa.com/news/view.html?no=$2017072401031903008001']\n",
            "198 ['50조 도시재생 시동...\"투기 수요 막아야\"', '2017-07-24', 'http://www.ytn.co.kr/_ln/0102_$201707240506113597']\n",
            "199 ['50조 도시재생사업 본격화…서울 뉴타운 해제지역 뜬다', '2017-07-24', 'http://www.seoul.co.kr/news/newsView.php?id=$20170724021008&wlog_tag3=daum']\n",
            "200 ['디벨로퍼들, 복합개발·도시재생 용지 대거 확보', '2017-07-24', 'http://land.hankyung.com/news/app/newsview.php?aid=$2017072359391']\n",
            "201 ['\"전문인력 어디 없나요…\" 난제 부닥친 도시재생 뉴딜', '2017-07-24', 'http://news.mk.co.kr/newsRead.php?year=$2017&no=491401']\n",
            "202 [\"[주목! 50조원의 기회] 도시재생 뉴딜 동참 '사활 건다'\", '2017-07-20', 'http://www.yonhapnews.co.kr/bulletin/$2017/07/18/0200000000AKR$20170718122400055.HTML?input=1179m']\n",
            "203 ['[국정운영과제]도시재생 뉴딜 연계 공공임대 본격 공급', '2017-07-20', 'http://www.dailian.co.kr/news/view/647913']\n",
            "204 ['부산 도시재생 뉴딜사업 협업체계 구축', '2017-07-20', 'http://www.yonhapnews.co.kr/bulletin/$2017/07/19/0200000000AKR$20170719032000051.HTML?input=1179m']\n",
            "205 ['\"도시재생 뉴딜, 지자체 중심 추진해야\"…수원서 세미나', '2017-07-20', 'http://www.yonhapnews.co.kr/bulletin/$2017/07/19/0200000000AKR$20170719157500061.HTML?input=1179m']\n",
            "206 ['50兆 도시재생 시작된다, 노후 주거지 들썩', '2017-07-18', 'http://biz.chosun.com/site/data/html_dir/$2017/07/17/$2017071702987.html']\n",
            "207 [\"도시재생사업 5일만 교육받으면 총괄 '코디'\", '2017-07-18', 'http://www.fnnews.com/news/$201707171953507597']\n",
            "208 ['수원시, 도시재생사업추진단 구성', '2017-07-17', 'http://news1.kr/articles/?3049378']\n",
            "209 [\"상생' 정비… 본 궤도 오른 서울시 도시재생\", '2017-07-17', 'http://www.asiae.co.kr/news/view.htm?idxno=$2017071613323911937']\n",
            "210 ['서울 상도동, 장위동 도시재생 선도모델 된다', '2017-07-17', 'http://news.heraldcorp.com/view.php?ud=$20170714000149']\n",
            "211 ['국토장관 “도시재생 뉴딜 공모계획 초안 이달 공개”', '2017-07-14', 'http://news.kbs.co.kr/news/view.do?ncd=3515311&ref=D']\n",
            "212 [\"세종시, 도시재생 '청춘조치원사업'과 연계 추진\", '2017-07-14', 'http://www.newsis.com/view/?id=NISX$20170713_0000040486&cID=10818&pID=10800']\n",
            "213 ['[MT시평]도시재생뉴딜 지원법', '2017-07-13', 'http://news.mt.co.kr/mtview.php?no=$2017071213494360838&outlink=1&ref=http%3A%2F%2Fsearch.daum.net']\n",
            "214 ['천안 문성동 ‘성황마을’ 도시재생 본격 추진', '2017-07-12', 'http://www.segye.com/newsView/$20170711002306']\n",
            "215 ['\"도시재생 뉴딜 사업, 재원조달 방안 구체화해야\"', '2017-07-12', 'http://www.yonhapnews.co.kr/bulletin/$2017/07/11/0200000000AKR$20170711088000003.HTML?input=1179m']\n",
            "216 [\"부산시, 12일 벡스코서 '도시재생일자리포럼'\", '2017-07-11', 'http://news1.kr/articles/?3044598']\n",
            "217 ['경기도청 주변 100억 투입돼 도시재생사업 추진', '2017-07-11', 'http://www.asiae.co.kr/news/view.htm?idxno=$2017071107121580114']\n",
            "218 ['\"도시재생은 제주 전체의 변화…천천히 가겠다\"', '2017-07-10', 'http://news1.kr/articles/?3042802']\n",
            "219 ['50조 도시재생 뉴딜', '2017-07-10', 'http://news.mk.co.kr/newsRead.php?year=$2017&no=454782']\n",
            "220 ['국회 ㈔도시재생·전략포럼 출범.. 부산 도시재생현장 방문', '2017-07-10', 'http://www.edaily.co.kr/news/NewsRead.edy?SCD=JD41&newsid=01899126615991896&DCD=A00404&OutLnkChk=Y']\n",
            "221 [\"부산, 도시재생 건축·건설사 투자 '러브콜'\", '2017-07-06', 'http://www.fnnews.com/news/$201707050931597464']\n",
            "222 ['文 \\'도시재생 뉴딜\\' 박차…김현미 장관 \"따뜻한 도시재생해야\"', '2017-07-05', 'http://news.mt.co.kr/mtview.php?no=$2017070415395512313&outlink=1&ref=http%3A%2F%2Fsearch.daum.net']\n",
            "223 ['[서울형 도시재생 공공 디벨로퍼가 이끈다] 보존과 성장의 균형 ‘클라크 키’… 한국형 도시재생 ‘핵심 키’', '2017-07-05', 'http://www.seoul.co.kr/news/newsView.php?id=$20170705016004&wlog_tag3=daum']\n",
            "224 [\"SH공사, 부채 감축 '박차'…도시재생 뉴딜사업 재원 확보\", '2017-07-04', 'http://www.edaily.co.kr/news/NewsRead.edy?SCD=JD41&newsid=01164406615991240&DCD=A00404&OutLnkChk=Y']\n",
            "225 [\"비계획도시' 부산 도시재생사업 재원부족 차질 우려\", '2017-07-03', 'http://www.yonhapnews.co.kr/bulletin/$2017/06/30/0200000000AKR$20170630148900051.HTML?input=1179m']\n",
            "226 ['국토부 도시재생사업기획단 7월4일 출범···', '2017-07-03', 'http://www.newsis.com/view/?id=NISX$20170630_0000028209&cID=13001&pID=13000']\n",
            "227 ['도시재생기획단 1국5과 체제 내달 출범', '2017-06-30', 'https://www.sedaily.com/NewsVIew/1OHDZGWPOT?mobile']\n"
          ],
          "name": "stdout"
        }
      ]
    },
    {
      "cell_type": "markdown",
      "metadata": {
        "id": "y1tHruzib5f2",
        "colab_type": "text"
      },
      "source": [
        "**Bridges in Han River**\n",
        "\n",
        "https://search.naver.com/search.naver?sm=top_hty&fbm=1&ie=utf8&query=한강다리"
      ]
    },
    {
      "cell_type": "code",
      "metadata": {
        "id": "GoxohHJ0d6Ks",
        "colab_type": "code",
        "colab": {}
      },
      "source": [
        "br_names_str='''1일산대교\n",
        "2김포대교\n",
        "3신행주대교\n",
        "4방화대교\n",
        "5마곡철교\n",
        "6가양대교\n",
        "7성산대교\n",
        "8양화대교\n",
        "9당산철교\n",
        "10서강대교\n",
        "11마포대교\n",
        "12원효대교\n",
        "13한강철교\n",
        "14노량대교\n",
        "15한강대교\n",
        "16동작대교\n",
        "17반포대교\n",
        "18잠수교\n",
        "19한남대교\n",
        "20동호대교\n",
        "21성수대교\n",
        "22영동대교\n",
        "23청담대교\n",
        "24잠실대교\n",
        "25잠실철교\n",
        "26올림픽대교\n",
        "27천호대교\n",
        "28광진교\n",
        "29강동대교\n",
        "30미사대교\n",
        "31팔당대교'''"
      ],
      "execution_count": 0,
      "outputs": []
    },
    {
      "cell_type": "code",
      "metadata": {
        "id": "IcOzx7Vleu0p",
        "colab_type": "code",
        "outputId": "cccac22b-197f-4442-acc9-3fd3f0dc3e00",
        "colab": {
          "base_uri": "https://localhost:8080/",
          "height": 73
        }
      },
      "source": [
        "print(br_names_str.split())\n",
        "br_names = br_names_str.split()\n",
        "print(len(br_names))"
      ],
      "execution_count": 0,
      "outputs": [
        {
          "output_type": "stream",
          "text": [
            "['1일산대교', '2김포대교', '3신행주대교', '4방화대교', '5마곡철교', '6가양대교', '7성산대교', '8양화대교', '9당산철교', '10서강대교', '11마포대교', '12원효대교', '13한강철교', '14노량대교', '15한강대교', '16동작대교', '17반포대교', '18잠수교', '19한남대교', '20동호대교', '21성수대교', '22영동대교', '23청담대교', '24잠실대교', '25잠실철교', '26올림픽대교', '27천호대교', '28광진교', '29강동대교', '30미사대교', '31팔당대교']\n",
            "31\n"
          ],
          "name": "stdout"
        }
      ]
    },
    {
      "cell_type": "markdown",
      "metadata": {
        "id": "tG7j6cnNeUMQ",
        "colab_type": "text"
      },
      "source": [
        " http://blog.naver.com/holespace/220737780074\n"
      ]
    },
    {
      "cell_type": "code",
      "metadata": {
        "id": "tovRPEADVdrS",
        "colab_type": "code",
        "outputId": "51881d00-da43-4d2e-8eda-45fda960f605",
        "colab": {
          "base_uri": "https://localhost:8080/",
          "height": 73
        }
      },
      "source": [
        "br_names_str1='일산대교-김포대교-신행주대교-방화대교-(마곡철교)-가양대교-서강대교-양화대교-\\\n",
        "(당산철교)-서강대교-마포대교-원효대교-(한강철교)-한강대교-동작대교-반포대교-한남대교-동호대교-\\\n",
        "성수대교-영동대교-청담대교-잠실대교-(잠실철교)-올림픽대교-천호대교-광진교-강동대교-미사대교-팔당대교'\n",
        "\n",
        "br_names1 = br_names_str1.split('-')\n",
        "br_idx_names = [(i, name) for i, name in enumerate(br_names1) ]\n",
        "print(br_idx_names)\n",
        "print(len(br_idx_names))"
      ],
      "execution_count": 0,
      "outputs": [
        {
          "output_type": "stream",
          "text": [
            "[(0, '일산대교'), (1, '김포대교'), (2, '신행주대교'), (3, '방화대교'), (4, '(마곡철교)'), (5, '가양대교'), (6, '서강대교'), (7, '양화대교'), (8, '(당산철교)'), (9, '서강대교'), (10, '마포대교'), (11, '원효대교'), (12, '(한강철교)'), (13, '한강대교'), (14, '동작대교'), (15, '반포대교'), (16, '한남대교'), (17, '동호대교'), (18, '성수대교'), (19, '영동대교'), (20, '청담대교'), (21, '잠실대교'), (22, '(잠실철교)'), (23, '올림픽대교'), (24, '천호대교'), (25, '광진교'), (26, '강동대교'), (27, '미사대교'), (28, '팔당대교')]\n",
            "29\n"
          ],
          "name": "stdout"
        }
      ]
    },
    {
      "cell_type": "code",
      "metadata": {
        "id": "ym6zvzQdxqqN",
        "colab_type": "code",
        "outputId": "1bb9b139-1106-4994-fd4f-b3fc1d1e0ac0",
        "colab": {
          "base_uri": "https://localhost:8080/",
          "height": 35
        }
      },
      "source": [
        "print(len(br_names)- len(br_idx_names))"
      ],
      "execution_count": 0,
      "outputs": [
        {
          "output_type": "stream",
          "text": [
            "2\n"
          ],
          "name": "stdout"
        }
      ]
    },
    {
      "cell_type": "code",
      "metadata": {
        "id": "dEKxC22I4BSs",
        "colab_type": "code",
        "outputId": "ab564c1e-a9ae-4f2f-d9ea-fbba23c2770e",
        "colab": {
          "base_uri": "https://localhost:8080/",
          "height": 55
        }
      },
      "source": [
        "order_built='한강대교(1917년 10월)-양화대교(1961년 1월)-한남대교(1969년 12월)-마포대교(1970년 5월)-잠실대교(1972년 7월)-영동대교(1973년 11월)-천호대교(1976년 7월)-성수대교(1979년 10월)-성산대교(1980년 6월)-원효대교(1981년 10월)-반포대교(1982년 6월)-동작대교(1984년 11월)-동호대교(1985년 2월)-올림픽대교(1990년 6월)-서강대교(1999년)-청담대교(1999년 12월)-가양대교(2002년 5월)'\n",
        "print(order_built)"
      ],
      "execution_count": 0,
      "outputs": [
        {
          "output_type": "stream",
          "text": [
            "한강대교(1917년 10월)-양화대교(1961년 1월)-한남대교(1969년 12월)-마포대교(1970년 5월)-잠실대교(1972년 7월)-영동대교(1973년 11월)-천호대교(1976년 7월)-성수대교(1979년 10월)-성산대교(1980년 6월)-원효대교(1981년 10월)-반포대교(1982년 6월)-동작대교(1984년 11월)-동호대교(1985년 2월)-올림픽대교(1990년 6월)-서강대교(1999년)-청담대교(1999년 12월)-가양대교(2002년 5월)\n"
          ],
          "name": "stdout"
        }
      ]
    }
  ]
}