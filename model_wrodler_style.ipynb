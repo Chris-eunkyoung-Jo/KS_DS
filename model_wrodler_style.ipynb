{
  "nbformat": 4,
  "nbformat_minor": 0,
  "metadata": {
    "colab": {
      "name": "model_wrodler_style.ipynb",
      "provenance": [],
      "collapsed_sections": [],
      "authorship_tag": "ABX9TyMCbMC0Y5+Ks2yqPKTt8gJt",
      "include_colab_link": true
    },
    "kernelspec": {
      "name": "python3",
      "display_name": "Python 3"
    }
  },
  "cells": [
    {
      "cell_type": "markdown",
      "metadata": {
        "id": "view-in-github",
        "colab_type": "text"
      },
      "source": [
        "<a href=\"https://colab.research.google.com/github/Chris-eunkyoung-Jo/KS_DS/blob/master/model_wrodler_style.ipynb\" target=\"_parent\"><img src=\"https://colab.research.google.com/assets/colab-badge.svg\" alt=\"Open In Colab\"/></a>"
      ]
    },
    {
      "cell_type": "markdown",
      "metadata": {
        "id": "kg2efJAfegj7",
        "colab_type": "text"
      },
      "source": [
        "Date: 2020.03.24\n",
        "\n",
        "Writer: Eunkyoung Jo\n",
        "\n",
        "Theme: Generative model of wrodler's fashion styles.\n",
        "\n",
        "# Ch.1 Generative Modeling \n",
        "\n",
        "*in **Generative Deep Learning** by David Foster*"
      ]
    },
    {
      "cell_type": "code",
      "metadata": {
        "id": "uphSjt5Bjszl",
        "colab_type": "code",
        "outputId": "df61617f-853d-4839-fa6f-f87f1cf1a388",
        "colab": {
          "base_uri": "https://localhost:8080/",
          "height": 34
        }
      },
      "source": [
        "#prepare datasets\n",
        "#Sample observations of Wrodlers' fashions.\n",
        "datasets ={\n",
        "0:[\"Round White ShirtScoopNeck Red ShortHairShortFlat\"],\n",
        "1:[\"Round White Overall SilverGray ShortHairFrizzle\"],\n",
        "2:[\"Sunglasses White ShirtScoopNeck Blonde ShortHairShortFlat\"],\n",
        "3:[\"Round White ShirtScoopNeck Red LongHairStraight\"],\n",
        "4:[\"Round White Overall SilverGray NoHair\"],\n",
        "5:[\"Blank White Overall Black LongHairStraight\"],\n",
        "6:[\"Blank White Overall Black LongHairStraight\"],\n",
        "7:[\"Round White ShirtScoopNeck SilverGray ShortHairShortFlat\"],\n",
        "8:[\"Round Pink Hoodie SilverGray LongHairStraight\"],\n",
        "9:[\"Round PastelOrange ShirtScoopNeck Blonde LongHairStraight\"],\n",
        "10:[\"Blank White Overall PastelPink ShortHairFrizzle\"],\n",
        "11:[\"Sunglasses Gray01 Hoodie SilverGray NoHair\"],\n",
        "12:[\"Round White ShirtScoopNeck SilverGray NoHair\"],\n",
        "13:[\"Blank Gray01 Overall Black LongHairStraight\"],\n",
        "14:[\"Round PastelGreen Hoodie Brown LongHairStraight\"],\n",
        "15:[\"Sunglasses White ShirtScoopNeck SilverGray NoHair\"],\n",
        "16:[\"Round Gray01 ShirtScoopNeck Black LongHairStraight\"],\n",
        "17:[\"Blank Blue01 ShirtScoopNeck Brown ShortHairFrizzle\"],\n",
        "18:[\"Sunglasses White Overall Brown ShortHairShortWaved\"],\n",
        "19:[\"Round Blue01 Overall Red LongHairStraight\"],\n",
        "20:[\"Blank White ShirtVNeck SilverGray NoHair\"],\n",
        "21:[\"Round White ShirtScoopNeck Red LongHairStraight\"],\n",
        "22:[\"Round Gray01 ShirtScoopNeck SilverGray LongHairCurly\"],\n",
        "23:[\"Sunglasses PastelGreen ShirtScoopNeck SilverGray LongHairStraight\"],\n",
        "24:[\"Sunglasses Blue01 Overall SilverGray ShortHairShortFlat\"],\n",
        "25:[\"Round Pink Overall SilverGray ShortHairShortFlat\"],\n",
        "26:[\"Blank White Hoodie Black LongHairStraight\"],\n",
        "27:[\"Sunglasses White ShirtScoopNeck Black ShortHairFrizzle\"],\n",
        "28:[\"Blank White ShirtScoopNeck Black ShortHairShortFlat\"],\n",
        "29:[\"Sunglasses Red Overall SilverGray LongHairStraight\"],\n",
        "30:[\"Sunglasses PastelGreen ShirtScoopNeck PastelPink LongHairStraight\"],\n",
        "31:[\"Round White ShirtScoopNeck SilverGray ShortHairShortFlat\"],\n",
        "32:[\"Blank Gray01 ShirtScoopNeck Red LongHairStraight\"],\n",
        "33:[\"Round White Overall SilverGray LongHairStraight\"],\n",
        "34:[\"Sunglasses Blue01 ShirtVNeck SilverGray LongHairStraight\"],\n",
        "35:[\"Blank Gray01 Hoodie Red ShortHairFrizzle\"],\n",
        "36:[\"Blank PastelGreen Overall PastelPink ShortHairShortFlat\"],\n",
        "37:[\"Blank Pink Overall SilverGray NoHair\"],\n",
        "38:[\"Sunglasses Pink ShirtScoopNeck Red ShortHairShortFlat\"],\n",
        "39:[\"Round PastelOrange ShirtVNeck SilverGray LongHairStraight\"],\n",
        "40:[\"Sunglasses Gray01 ShirtScoopNeck SilverGray ShortHairFrizzle\"],\n",
        "41:[\"Sunglasses Pink ShirtVNeck SilverGray ShortHairShortFlat\"],\n",
        "42:[\"Round Pink Hoodie SilverGray LongHairStraight\"],\n",
        "43:[\"Round White Overall Black LongHairStraight\"],\n",
        "44:[\"Round White Hoodie SilverGray LongHairStraight\"],\n",
        "45:[\"Sunglasses White ShirtVNeck SilverGray LongHairStraight\"],\n",
        "46:[\"Sunglasses Blue01 Overall SilverGray ShortHairFrizzle\"],\n",
        "47:[\"Round PastelGreen Overall SilverGray NoHair\"],\n",
        "48:[\"Sunglasses Gray01 ShirtVNeck SilverGray LongHairStraight\"],\n",
        "49:[\"Round White Overall Red ShortHairShortFlat\"]\n",
        "}\n",
        "print(len(datasets))"
      ],
      "execution_count": 0,
      "outputs": [
        {
          "output_type": "stream",
          "text": [
            "50\n"
          ],
          "name": "stdout"
        }
      ]
    },
    {
      "cell_type": "markdown",
      "metadata": {
        "id": "lB-pi64R57Mh",
        "colab_type": "text"
      },
      "source": [
        "**Explore data**\n",
        "\n",
        "*   How many features are in a data item? \n",
        "*   How valid features are like? i.e., How unvalid features are like? \n",
        "*   How many valid data are possible with valid features?\n",
        "\n",
        "\n"
      ]
    },
    {
      "cell_type": "code",
      "metadata": {
        "id": "Q_gugdnXeSil",
        "colab_type": "code",
        "outputId": "3d6fc9e4-caa1-4cc2-c4fd-34f144acecc0",
        "colab": {
          "base_uri": "https://localhost:8080/",
          "height": 119
        }
      },
      "source": [
        "#copy these strings from the book and make them lists\n",
        "#5 features to describe fashion styles\n",
        "accessariesType = \"Blank, Round, Sunglasses\".split(', ')\n",
        "clothingColor = \"Black, Blue01, Gray01, PastelGreen, PastelOrange, \\\n",
        "Pink, Red, White\".split(', ')\n",
        "clothingType = \"Hoodie, Overall, ShirtScoopNeck, ShirtVNeck\".split(', ')\n",
        "hairColor = \"Black, Blonde, Brown, PastelPink, Red, SilverGray\".split(', ')\n",
        "topType = \"NoHair, LongHairBun, LongHairCurly, LongHairStraight, \\\n",
        "ShortHairShortWaved, ShortHairShortFlat, ShortHairFrizzle\".split(', ')\n",
        "\n",
        "print(accessariesType)\n",
        "print(clothingColor)\n",
        "print(clothingType)\n",
        "print(hairColor)\n",
        "print(topType)\n",
        "\n",
        "#The number of the possible outcomes of fashion style is\n",
        "print(len(accessariesType)*len(clothingColor)*len(clothingType)*\n",
        "      len(hairColor)*len(topType))"
      ],
      "execution_count": 0,
      "outputs": [
        {
          "output_type": "stream",
          "text": [
            "['Blank', 'Round', 'Sunglasses']\n",
            "['Black', 'Blue01', 'Gray01', 'PastelGreen', 'PastelOrange', 'Pink', 'Red', 'White']\n",
            "['Hoodie', 'Overall', 'ShirtScoopNeck', 'ShirtVNeck']\n",
            "['Black', 'Blonde', 'Brown', 'PastelPink', 'Red', 'SilverGray']\n",
            "['NoHair', 'LongHairBun', 'LongHairCurly', 'LongHairStraight', 'ShortHairShortWaved', 'ShortHairShortFlat', 'ShortHairFrizzle']\n",
            "4032\n"
          ],
          "name": "stdout"
        }
      ]
    },
    {
      "cell_type": "markdown",
      "metadata": {
        "id": "jaRlkXnAufZH",
        "colab_type": "text"
      },
      "source": [
        "We can imagine that our dataset has been generated by some distribution $P_{data}$ that favors some feature values over others. \n",
        "\n",
        "The problem is that we don't know $P_{data}$ explicitly - all we have to work with is the sample of observations X generated by $P_{data}$. \n",
        "\n",
        "**The goal of generative modeling** is to use these obsevations to build a $P_{model}$ that can accuratley mimic the observations produced by $P_{data}$\n"
      ]
    },
    {
      "cell_type": "markdown",
      "metadata": {
        "id": "eWlocGYlteNH",
        "colab_type": "text"
      },
      "source": [
        "**Check feature value validation**\n",
        "\n",
        "feature values tend not to match in valid values. for example (in 지안's work), \n",
        "\n",
        "15:[\"Sunglasses White ShirtScoopNeck Silvergray NoHair\"]\n",
        "\n",
        "There is not 'Silvergray' in clothingColor. it must be changed into a valid value, 'SilverGray'. \n"
      ]
    },
    {
      "cell_type": "code",
      "metadata": {
        "id": "5qULcfgYxB-p",
        "colab_type": "code",
        "colab": {}
      },
      "source": [
        "# feature validation check\n",
        "# If it's an error, it is printed. \n",
        "feature_values = [accessariesType, clothingColor, clothingType, hairColor, topType]\n",
        "for id, val in datasets.items(): \n",
        "  #print(id, val)\n",
        "  features = val[0] # all have 1 element lists of features.\n",
        "  for i, feat in enumerate(features.split()): \n",
        "    #if i == 0: print(id, i, feat)\n",
        "    for j, valid_feats in enumerate(feature_values): \n",
        "      if i == j and (feat not in valid_feats): print(id, i, feat)"
      ],
      "execution_count": 0,
      "outputs": []
    },
    {
      "cell_type": "markdown",
      "metadata": {
        "id": "IpyLyynF1CRu",
        "colab_type": "text"
      },
      "source": [
        "**Make the parameter table with Naive Bayes assumption**\n",
        "\n",
        "$\\hat\\theta_{kl} = \\frac {x_{kl}} {N}$\n",
        "\n",
        "To make a prob. table, \n",
        "  - count feature values and \n",
        "  - get the prob. for each."
      ]
    },
    {
      "cell_type": "code",
      "metadata": {
        "id": "NgTQAZA_1Bd5",
        "colab_type": "code",
        "outputId": "3d654139-166d-4f31-d5f5-2d52f4facaf1",
        "colab": {
          "base_uri": "https://localhost:8080/",
          "height": 102
        }
      },
      "source": [
        "from collections import Counter\n",
        "\n",
        "counts = Counter(['a', 'a', 'a', 'b', 'b', 'c'])\n",
        "print(counts)\n",
        "\n",
        "tot = sum(counts.values())\n",
        "print(tot)\n",
        "probs = { k:(val/tot) for k, val in counts.items() }\n",
        "#prob = \n",
        "print(probs)\n",
        "print(sum(probs.values()))\n",
        "print(round(sum(probs.values()), 7)) #indefinite floating number"
      ],
      "execution_count": 0,
      "outputs": [
        {
          "output_type": "stream",
          "text": [
            "Counter({'a': 3, 'b': 2, 'c': 1})\n",
            "6\n",
            "{'a': 0.5, 'b': 0.3333333333333333, 'c': 0.16666666666666666}\n",
            "0.9999999999999999\n",
            "1.0\n"
          ],
          "name": "stdout"
        }
      ]
    },
    {
      "cell_type": "code",
      "metadata": {
        "id": "CMdyf-Ol2hRT",
        "colab_type": "code",
        "outputId": "b4ab44cc-ac49-4145-dbe1-06feae06b29f",
        "colab": {
          "base_uri": "https://localhost:8080/",
          "height": 241
        }
      },
      "source": [
        "# make prob. of MLE for each feature \n",
        "# Now, it's your turn.\n",
        "'''\n",
        "vertical_features = [feat_accessariesType, feat_clothingColor, feat_clothingType, \n",
        "                feat_hairColor, feat_topType]'''\n",
        "vertical_features = [[], [], [], [], []]\n",
        "'''\n",
        "cnt_features = [cnt_accessariesType, cnt_clothingColor, cnt_clothingType, \n",
        "                 cnt_hairColor, cnt_topType]'''\n",
        "cnt_features = [{}, {}, {}, {}, {}]\n",
        "\n",
        "for id, val in datasets.items():\n",
        "  features = val[0]\n",
        "  for i, feat in enumerate(features.split()): \n",
        "    #if i == 0: print(id, i, feat)\n",
        "    for j, v_feature in enumerate(vertical_features): \n",
        "      if i == j : v_feature.append(feat)\n",
        "\n",
        "from collections import Counter\n",
        "print('**veritcal list of features**')\n",
        "for i, features in enumerate(vertical_features): \n",
        "  print(features)\n",
        "  cnt_features[i] = Counter(features)\n",
        "print('**counts of features**')\n",
        "for cnt_feat in cnt_features: print(cnt_feat)"
      ],
      "execution_count": 0,
      "outputs": [
        {
          "output_type": "stream",
          "text": [
            "**veritcal list of features**\n",
            "['Round', 'Round', 'Sunglasses', 'Round', 'Round', 'Blank', 'Blank', 'Round', 'Round', 'Round', 'Blank', 'Sunglasses', 'Round', 'Blank', 'Round', 'Sunglasses', 'Round', 'Blank', 'Sunglasses', 'Round', 'Blank', 'Round', 'Round', 'Sunglasses', 'Sunglasses', 'Round', 'Blank', 'Sunglasses', 'Blank', 'Sunglasses', 'Sunglasses', 'Round', 'Blank', 'Round', 'Sunglasses', 'Blank', 'Blank', 'Blank', 'Sunglasses', 'Round', 'Sunglasses', 'Sunglasses', 'Round', 'Round', 'Round', 'Sunglasses', 'Sunglasses', 'Round', 'Sunglasses', 'Round']\n",
            "['White', 'White', 'White', 'White', 'White', 'White', 'White', 'White', 'Pink', 'PastelOrange', 'White', 'Gray01', 'White', 'Gray01', 'PastelGreen', 'White', 'Gray01', 'Blue01', 'White', 'Blue01', 'White', 'White', 'Gray01', 'PastelGreen', 'Blue01', 'Pink', 'White', 'White', 'White', 'Red', 'PastelGreen', 'White', 'Gray01', 'White', 'Blue01', 'Gray01', 'PastelGreen', 'Pink', 'Pink', 'PastelOrange', 'Gray01', 'Pink', 'Pink', 'White', 'White', 'White', 'Blue01', 'PastelGreen', 'Gray01', 'White']\n",
            "['ShirtScoopNeck', 'Overall', 'ShirtScoopNeck', 'ShirtScoopNeck', 'Overall', 'Overall', 'Overall', 'ShirtScoopNeck', 'Hoodie', 'ShirtScoopNeck', 'Overall', 'Hoodie', 'ShirtScoopNeck', 'Overall', 'Hoodie', 'ShirtScoopNeck', 'ShirtScoopNeck', 'ShirtScoopNeck', 'Overall', 'Overall', 'ShirtVNeck', 'ShirtScoopNeck', 'ShirtScoopNeck', 'ShirtScoopNeck', 'Overall', 'Overall', 'Hoodie', 'ShirtScoopNeck', 'ShirtScoopNeck', 'Overall', 'ShirtScoopNeck', 'ShirtScoopNeck', 'ShirtScoopNeck', 'Overall', 'ShirtVNeck', 'Hoodie', 'Overall', 'Overall', 'ShirtScoopNeck', 'ShirtVNeck', 'ShirtScoopNeck', 'ShirtVNeck', 'Hoodie', 'Overall', 'Hoodie', 'ShirtVNeck', 'Overall', 'Overall', 'ShirtVNeck', 'Overall']\n",
            "['Red', 'SilverGray', 'Blonde', 'Red', 'SilverGray', 'Black', 'Black', 'SilverGray', 'SilverGray', 'Blonde', 'PastelPink', 'SilverGray', 'SilverGray', 'Black', 'Brown', 'SilverGray', 'Black', 'Brown', 'Brown', 'Red', 'SilverGray', 'Red', 'SilverGray', 'SilverGray', 'SilverGray', 'SilverGray', 'Black', 'Black', 'Black', 'SilverGray', 'PastelPink', 'SilverGray', 'Red', 'SilverGray', 'SilverGray', 'Red', 'PastelPink', 'SilverGray', 'Red', 'SilverGray', 'SilverGray', 'SilverGray', 'SilverGray', 'Black', 'SilverGray', 'SilverGray', 'SilverGray', 'SilverGray', 'SilverGray', 'Red']\n",
            "['ShortHairShortFlat', 'ShortHairFrizzle', 'ShortHairShortFlat', 'LongHairStraight', 'NoHair', 'LongHairStraight', 'LongHairStraight', 'ShortHairShortFlat', 'LongHairStraight', 'LongHairStraight', 'ShortHairFrizzle', 'NoHair', 'NoHair', 'LongHairStraight', 'LongHairStraight', 'NoHair', 'LongHairStraight', 'ShortHairFrizzle', 'ShortHairShortWaved', 'LongHairStraight', 'NoHair', 'LongHairStraight', 'LongHairCurly', 'LongHairStraight', 'ShortHairShortFlat', 'ShortHairShortFlat', 'LongHairStraight', 'ShortHairFrizzle', 'ShortHairShortFlat', 'LongHairStraight', 'LongHairStraight', 'ShortHairShortFlat', 'LongHairStraight', 'LongHairStraight', 'LongHairStraight', 'ShortHairFrizzle', 'ShortHairShortFlat', 'NoHair', 'ShortHairShortFlat', 'LongHairStraight', 'ShortHairFrizzle', 'ShortHairShortFlat', 'LongHairStraight', 'LongHairStraight', 'LongHairStraight', 'LongHairStraight', 'ShortHairFrizzle', 'NoHair', 'LongHairStraight', 'ShortHairShortFlat']\n",
            "**counts of features**\n",
            "Counter({'Round': 22, 'Sunglasses': 16, 'Blank': 12})\n",
            "Counter({'White': 23, 'Gray01': 8, 'Pink': 6, 'PastelGreen': 5, 'Blue01': 5, 'PastelOrange': 2, 'Red': 1})\n",
            "Counter({'ShirtScoopNeck': 19, 'Overall': 18, 'Hoodie': 7, 'ShirtVNeck': 6})\n",
            "Counter({'SilverGray': 26, 'Red': 8, 'Black': 8, 'PastelPink': 3, 'Brown': 3, 'Blonde': 2})\n",
            "Counter({'LongHairStraight': 23, 'ShortHairShortFlat': 11, 'ShortHairFrizzle': 7, 'NoHair': 7, 'ShortHairShortWaved': 1, 'LongHairCurly': 1})\n"
          ],
          "name": "stdout"
        }
      ]
    },
    {
      "cell_type": "code",
      "metadata": {
        "id": "b5KNjlBFGHHL",
        "colab_type": "code",
        "outputId": "580c22d4-3279-4269-e55d-fc6d45829492",
        "colab": {
          "base_uri": "https://localhost:8080/",
          "height": 119
        }
      },
      "source": [
        "#prob_features = [prob_accessariesType, prob_clothingColor, prob_clothingType, \n",
        "#                 prob_hairColor, prob_topType]\n",
        "prob_features = [{}, {}, {}, {}, {}]\n",
        "for i, cnt_feat in enumerate(cnt_features):\n",
        "  tot = sum(cnt_feat.values())\n",
        "  #print(tot, i)\n",
        "  prob_features[i] = { k:v/tot for k, v in cnt_feat.items() }\n",
        "\n",
        "print(\"**prob. of features**\")\n",
        "for i, prob_feat in enumerate(prob_features): print(i, prob_feat)"
      ],
      "execution_count": 0,
      "outputs": [
        {
          "output_type": "stream",
          "text": [
            "**prob. of features**\n",
            "0 {'Round': 0.44, 'Sunglasses': 0.32, 'Blank': 0.24}\n",
            "1 {'White': 0.46, 'Pink': 0.12, 'PastelOrange': 0.04, 'Gray01': 0.16, 'PastelGreen': 0.1, 'Blue01': 0.1, 'Red': 0.02}\n",
            "2 {'ShirtScoopNeck': 0.38, 'Overall': 0.36, 'Hoodie': 0.14, 'ShirtVNeck': 0.12}\n",
            "3 {'Red': 0.16, 'SilverGray': 0.52, 'Blonde': 0.04, 'Black': 0.16, 'PastelPink': 0.06, 'Brown': 0.06}\n",
            "4 {'ShortHairShortFlat': 0.22, 'ShortHairFrizzle': 0.14, 'LongHairStraight': 0.46, 'NoHair': 0.14, 'ShortHairShortWaved': 0.02, 'LongHairCurly': 0.02}\n"
          ],
          "name": "stdout"
        }
      ]
    },
    {
      "cell_type": "code",
      "metadata": {
        "id": "81Z0u9nguPxW",
        "colab_type": "code",
        "outputId": "7081a536-286e-410e-b2b3-998e603b03a6",
        "colab": {
          "base_uri": "https://localhost:8080/",
          "height": 68
        }
      },
      "source": [
        "p_g1=0.44 *0.44 * 0.38 * 0.48 * 0.46 \n",
        "print('from book table 1-2, new_1:', p_g1)\n",
        "\n",
        "new_1 = \"Round White ShirtScoopNeck SilverGray LongHairStraight\"\n",
        "new_2 = \"Blank Blue01 Hoodie Brown ShortHairShortFlat\"\n",
        "\n",
        "def prob_new(new):\n",
        "  probs = 1\n",
        "  for i, feat in enumerate(new.split()):\n",
        "    probs *= prob_features[i][feat]\n",
        "    #print(i, feat, prob_features[i][feat])\n",
        "  return probs\n",
        "\n",
        "print('from our table, new_1 :', prob_new(new_1))\n",
        "print('from our table, new_2 :',prob_new(new_2))"
      ],
      "execution_count": 0,
      "outputs": [
        {
          "output_type": "stream",
          "text": [
            "from book table 1-2, new_1: 0.0162438144\n",
            "from our table, new_1 : 0.0183973504\n",
            "from our table, new_2 : 4.4352000000000005e-05\n"
          ],
          "name": "stdout"
        }
      ]
    }
  ]
}