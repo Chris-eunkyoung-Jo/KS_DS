{
  "nbformat": 4,
  "nbformat_minor": 0,
  "metadata": {
    "colab": {
      "name": "statistics.ipynb",
      "provenance": [],
      "collapsed_sections": [],
      "include_colab_link": true
    },
    "kernelspec": {
      "name": "python3",
      "display_name": "Python 3"
    }
  },
  "cells": [
    {
      "cell_type": "markdown",
      "metadata": {
        "id": "view-in-github",
        "colab_type": "text"
      },
      "source": [
        "<a href=\"https://colab.research.google.com/github/Chris-eunkyoung-Jo/KS_DS/blob/master/statistics.ipynb\" target=\"_parent\"><img src=\"https://colab.research.google.com/assets/colab-badge.svg\" alt=\"Open In Colab\"/></a>"
      ]
    },
    {
      "cell_type": "markdown",
      "metadata": {
        "id": "4-zJNRI6YH4w",
        "colab_type": "text"
      },
      "source": [
        "Date: 2020.05.05\n",
        "\n",
        "Writer: Jo eunkyoung"
      ]
    },
    {
      "cell_type": "markdown",
      "metadata": {
        "id": "i5CYHY1ULyqF",
        "colab_type": "text"
      },
      "source": [
        "# Ch.5 Statistics\n",
        "\n",
        "Statistics refers to the mathematics and techniques with which we understand data. \n",
        "\n",
        "Statistical measures ( count/frequency, mean, median, variance, standard deviation, ...) \n",
        "\n",
        "are used to represent data. "
      ]
    },
    {
      "cell_type": "code",
      "metadata": {
        "id": "Aifk9J4TyO-B",
        "colab_type": "code",
        "colab": {}
      },
      "source": [
        "#student_name = [ exam1, exam2, exam3, e4, e5, e6, e7, e8]\n",
        "chunfung = [92, 80, 69.4, 68, 90.5, 80.2, 75, 62]\n",
        "jian = [90.5, 80.2, 75, 62, 85, 81, 70, 72]\n",
        "marlen = [85, 81, 70, 72, 92, 80, 69.4, 68]"
      ],
      "execution_count": 0,
      "outputs": []
    },
    {
      "cell_type": "code",
      "metadata": {
        "id": "QY8Bypf8-1BM",
        "colab_type": "code",
        "outputId": "6703d7e3-4ddf-42b0-e638-e5b6095ff2fd",
        "colab": {
          "base_uri": "https://localhost:8080/",
          "height": 72
        }
      },
      "source": [
        "#How many times a student took exams\n",
        "def howmany(dataset, name=''):\n",
        "  return name, len(dataset)\n",
        "print(howmany(chunfung, 'chun'))\n",
        "print(howmany(jian, 'jian'))\n",
        "print(howmany(marlen, 'marl'))"
      ],
      "execution_count": 0,
      "outputs": [
        {
          "output_type": "stream",
          "text": [
            "('chun', 8)\n",
            "('jian', 8)\n",
            "('marl', 8)\n"
          ],
          "name": "stdout"
        }
      ]
    },
    {
      "cell_type": "code",
      "metadata": {
        "id": "cEYN5lta_YOD",
        "colab_type": "code",
        "outputId": "a487b639-75ca-4d63-ad1a-bb1a88a89805",
        "colab": {
          "base_uri": "https://localhost:8080/",
          "height": 72
        }
      },
      "source": [
        "#What is the highest and lowest score among scores\n",
        "def max_min(dataset, name=''):\n",
        "  return name, max(dataset), min(dataset)\n",
        "\n",
        "print(max_min(chunfung, 'chun'))\n",
        "print(max_min(jian, 'jian'))\n",
        "print(max_min(marlen, 'marl'))"
      ],
      "execution_count": 0,
      "outputs": [
        {
          "output_type": "stream",
          "text": [
            "('chun', 92, 62)\n",
            "('jian', 90.5, 62)\n",
            "('marl', 92, 68)\n"
          ],
          "name": "stdout"
        }
      ]
    },
    {
      "cell_type": "code",
      "metadata": {
        "id": "PE3pNYr4FSOs",
        "colab_type": "code",
        "outputId": "369849c4-e77d-4e7a-cda5-09e7c9d3d2c3",
        "colab": {
          "base_uri": "https://localhost:8080/",
          "height": 145
        }
      },
      "source": [
        "# sort out score ascending/descending\n",
        "def order_of(dataset, reverse=False, label=''):\n",
        "  return label, sorted(dataset, reverse= reverse)\n",
        "\n",
        "#ascending order is set as reverse = False\n",
        "print(order_of(chunfung)) #, False, 'ch')). #left most default params must be set. \n",
        "print(order_of(jian, False)) #,'ji'))\n",
        "print(order_of(marlen, False, 'ma'))\n",
        "\n",
        "#descending order is set reverse = True\n",
        "print()\n",
        "print(order_of(chunfung, True, 'ch'))\n",
        "print(order_of(jian, True,'ji'))\n",
        "print(order_of(marlen, True, 'ma'))"
      ],
      "execution_count": 0,
      "outputs": [
        {
          "output_type": "stream",
          "text": [
            "('', [62, 68, 69.4, 75, 80, 80.2, 90.5, 92])\n",
            "('', [62, 70, 72, 75, 80.2, 81, 85, 90.5])\n",
            "('ma', [68, 69.4, 70, 72, 80, 81, 85, 92])\n",
            "\n",
            "('ch', [92, 90.5, 80.2, 80, 75, 69.4, 68, 62])\n",
            "('ji', [90.5, 85, 81, 80.2, 75, 72, 70, 62])\n",
            "('ma', [92, 85, 81, 80, 72, 70, 69.4, 68])\n"
          ],
          "name": "stdout"
        }
      ]
    },
    {
      "cell_type": "markdown",
      "metadata": {
        "id": "sZM7CvqzSTG0",
        "colab_type": "text"
      },
      "source": [
        "**Central Tendencies**\n",
        "\n",
        "> Mean: average which is the sum of the data divided by the number of members in the data. \n",
        "\n",
        "> Median: the middle-most value or the average of the two middle-most values(even median, odd median)\n",
        "  >> median_odd, median_even \n",
        "\n",
        "> Quantile: a generalisation of the median. It represents the data portion under a certain percentile of the data. \n",
        "\n",
        ">> median represents the value under 50% of data. The word “quantile” comes from the word quantity. In simple terms, a quantile is where a sample is divided into equal-sized subgroups. \n"
      ]
    },
    {
      "cell_type": "code",
      "metadata": {
        "id": "kdvyiMFbDTga",
        "colab_type": "code",
        "outputId": "515c083f-d8fc-44f4-93c5-0f588a532d3e",
        "colab": {
          "base_uri": "https://localhost:8080/",
          "height": 72
        }
      },
      "source": [
        "def total_score(data, label=''):\n",
        "  return label, sum(data)\n",
        "\n",
        "print(total_score(chunfung, 'c'))\n",
        "print(total_score(jian, 'j'))\n",
        "print(total_score(marlen, 'm'))"
      ],
      "execution_count": 0,
      "outputs": [
        {
          "output_type": "stream",
          "text": [
            "('c', 617.0999999999999)\n",
            "('j', 615.7)\n",
            "('m', 617.4)\n"
          ],
          "name": "stdout"
        }
      ]
    },
    {
      "cell_type": "code",
      "metadata": {
        "id": "6_inPkaYIyNV",
        "colab_type": "code",
        "outputId": "33351bab-3390-4167-baa6-52beda45ac76",
        "colab": {
          "base_uri": "https://localhost:8080/",
          "height": 72
        }
      },
      "source": [
        "def mean(xs) :\n",
        "  return sum(xs)/len(xs)\n",
        "\n",
        "print('c', mean(chunfung))\n",
        "print('j', mean(jian))\n",
        "print('m', mean(marlen))"
      ],
      "execution_count": 0,
      "outputs": [
        {
          "output_type": "stream",
          "text": [
            "c 77.13749999999999\n",
            "j 76.9625\n",
            "m 77.175\n"
          ],
          "name": "stdout"
        }
      ]
    },
    {
      "cell_type": "code",
      "metadata": {
        "id": "CKY7O4yuJ0KQ",
        "colab_type": "code",
        "colab": {}
      },
      "source": [
        "def _median_even(xs) :\n",
        "  return (sorted(xs)[len(xs)//2 -1] + sorted(xs)[len(xs)//2])/2\n",
        "\n",
        "def _median_odd(xs) :\n",
        "  return sorted(xs)[len(xs)//2]\n",
        "\n",
        "def median(v):\n",
        "  if len(v) % 2 == 0 :\n",
        "    return _median_even(v)\n",
        "  else:\n",
        "    return _median_odd(v)"
      ],
      "execution_count": 0,
      "outputs": []
    },
    {
      "cell_type": "code",
      "metadata": {
        "id": "YVMIyJw8KPg6",
        "colab_type": "code",
        "outputId": "2af81e47-a05c-4af6-eff5-ea1a0955e073",
        "colab": {
          "base_uri": "https://localhost:8080/",
          "height": 72
        }
      },
      "source": [
        "print('c', median(chunfung))\n",
        "print('j', median(jian))\n",
        "print('m', median(marlen))"
      ],
      "execution_count": 0,
      "outputs": [
        {
          "output_type": "stream",
          "text": [
            "c 77.5\n",
            "j 77.6\n",
            "m 76.0\n"
          ],
          "name": "stdout"
        }
      ]
    },
    {
      "cell_type": "code",
      "metadata": {
        "id": "eaERdO7eMOxq",
        "colab_type": "code",
        "colab": {}
      },
      "source": [
        "def quantile(xs, percentile) :\n",
        "  p_index = int(percentile*len(xs))\n",
        "  return sorted(xs)[p_index] # "
      ],
      "execution_count": 0,
      "outputs": []
    },
    {
      "cell_type": "code",
      "metadata": {
        "id": "AtnJ8hF6Nu1e",
        "colab_type": "code",
        "outputId": "0f6f3f2f-508d-4639-bcfb-6e7366afa731",
        "colab": {
          "base_uri": "https://localhost:8080/",
          "height": 35
        }
      },
      "source": [
        "print(quantile(chunfung, 0.3)) # his low 30% score ratio"
      ],
      "execution_count": 0,
      "outputs": [
        {
          "output_type": "stream",
          "text": [
            "69.4\n"
          ],
          "name": "stdout"
        }
      ]
    },
    {
      "cell_type": "code",
      "metadata": {
        "id": "suvS7YqKQjyu",
        "colab_type": "code",
        "colab": {}
      },
      "source": [
        "score_data =  [100, 49, 41, 40, 25, 25,30,23,25,25]"
      ],
      "execution_count": 0,
      "outputs": []
    },
    {
      "cell_type": "code",
      "metadata": {
        "id": "cE-rFMvmNVFG",
        "colab_type": "code",
        "outputId": "cf466b4b-c195-4e8b-afe4-5636f09aa113",
        "colab": {
          "base_uri": "https://localhost:8080/",
          "height": 54
        }
      },
      "source": [
        "print(quantile(score_data, 0.1))\n",
        "print(quantile(score_data, 0.9))"
      ],
      "execution_count": 0,
      "outputs": [
        {
          "output_type": "stream",
          "text": [
            "25\n",
            "100\n"
          ],
          "name": "stdout"
        }
      ]
    },
    {
      "cell_type": "code",
      "metadata": {
        "id": "wWcp35tOXoxT",
        "colab_type": "code",
        "outputId": "58d5dd2a-893a-4492-fafc-247ed95dd06a",
        "colab": {
          "base_uri": "https://localhost:8080/",
          "height": 35
        }
      },
      "source": [
        "print(mean(score_data))"
      ],
      "execution_count": 0,
      "outputs": [
        {
          "output_type": "stream",
          "text": [
            "38.3\n"
          ],
          "name": "stdout"
        }
      ]
    },
    {
      "cell_type": "code",
      "metadata": {
        "id": "Mbw4uQCtPjlp",
        "colab_type": "code",
        "outputId": "98eb705d-be66-4610-ce73-daac8a5994bd",
        "colab": {
          "base_uri": "https://localhost:8080/",
          "height": 72
        }
      },
      "source": [
        "import random\n",
        "random.shuffle(score_data) # \n",
        "print(score_data)\n",
        "print(quantile(score_data, 0.1))\n",
        "print(quantile(score_data, 0.9))"
      ],
      "execution_count": 0,
      "outputs": [
        {
          "output_type": "stream",
          "text": [
            "[25, 40, 25, 30, 23, 49, 41, 100, 25, 25]\n",
            "25\n",
            "100\n"
          ],
          "name": "stdout"
        }
      ]
    },
    {
      "cell_type": "markdown",
      "metadata": {
        "id": "pwYEuD9Ac_oR",
        "colab_type": "text"
      },
      "source": [
        "**Dispersion**  measures how spread out data is. \n",
        "* Variance: how every element($x_{i}$) is far from the mean ($\\overline {x}$). \n",
        "\n",
        "  * $s^{2}={\\frac {1}{N-1}}\\sum _{i=1}^{N}(x_{i}-{\\overline {x}})^{2}$\n",
        "\n",
        "  $s^{2}={\\frac {n_j}{N}}$\n",
        "  \n",
        "  > depends on mean; the average squared deviation from the mean ; ***sum of squares of*** deviation from mean. \n",
        "  >> deviation from the mean --> square it\n",
        "\n",
        "* Standard deviation: the squared root of the variance. \n",
        "  * ${s={\\sqrt {{\\frac {1}{N-1}}\\sum _{i=1}^{N}(x_{i}-{\\bar {x}})^{2}}}}$\n",
        "  \n",
        "  > depends on variance\n",
        "  \n",
        "https://en.wikipedia.org/wiki/Variance,  https://en.wikipedia.org/wiki/Standard_deviation\n",
        "\n"
      ]
    },
    {
      "cell_type": "code",
      "metadata": {
        "id": "t4_QkC_2ZjQk",
        "colab_type": "code",
        "colab": {}
      },
      "source": [
        "def de_mean(xs) : #deviation\n",
        "  x_bar = mean(xs)\n",
        "  return [x-x_bar for x in xs]"
      ],
      "execution_count": 0,
      "outputs": []
    },
    {
      "cell_type": "code",
      "metadata": {
        "id": "BxAz2uL2g1Ni",
        "colab_type": "code",
        "outputId": "bf0e92de-60ad-4e44-ecfe-30226dead309",
        "colab": {
          "base_uri": "https://localhost:8080/",
          "height": 55
        }
      },
      "source": [
        "print(de_mean(score_data))"
      ],
      "execution_count": 0,
      "outputs": [
        {
          "output_type": "stream",
          "text": [
            "[-13.299999999999997, 1.7000000000000028, -13.299999999999997, -8.299999999999997, -15.299999999999997, 10.700000000000003, 2.700000000000003, 61.7, -13.299999999999997, -13.299999999999997]\n"
          ],
          "name": "stdout"
        }
      ]
    },
    {
      "cell_type": "code",
      "metadata": {
        "id": "rnpJHeWrhWNR",
        "colab_type": "code",
        "colab": {}
      },
      "source": [
        "def variance(xs) :\n",
        "  assert len(xs) >= 2, \"variance requires at least two elements\"\n",
        "  n = len(xs)\n",
        "  deviation = de_mean(xs)\n",
        "  return sum_of_squares(deviation)/(n-1)\n",
        "\n",
        "import math\n",
        "def standard_deviation(xs) :\n",
        "  return math.sqrt(variance(xs))"
      ],
      "execution_count": 0,
      "outputs": []
    },
    {
      "cell_type": "markdown",
      "metadata": {
        "id": "NOL4JK1_ZeKQ",
        "colab_type": "text"
      },
      "source": [
        "\n",
        "**To use the previous code as an external module**\n",
        "\n",
        "1. download xxx.ipynb as xxx.py \n",
        "2. upload xxx.py to 2020-KS_DS in google drive\n",
        "3. mount my drive for google colab engine to be able to access to my drive. \n",
        "  goole asks you to allow. then allow and copy secure code and paste it your page. \n",
        "4. append the directory name to the mount\n",
        "5. from xxx import some_functions "
      ]
    },
    {
      "cell_type": "code",
      "metadata": {
        "id": "xkXLtP88zXz5",
        "colab_type": "code",
        "outputId": "1520a9a9-64be-432e-8e22-f85528575361",
        "colab": {
          "base_uri": "https://localhost:8080/",
          "height": 34
        }
      },
      "source": [
        "from google.colab import drive\n",
        "drive.mount('/content/drive')\n",
        "import sys\n",
        "sys.path.append('drive/My Drive/2020-KS_DS/')"
      ],
      "execution_count": 0,
      "outputs": [
        {
          "output_type": "stream",
          "text": [
            "Drive already mounted at /content/drive; to attempt to forcibly remount, call drive.mount(\"/content/drive\", force_remount=True).\n"
          ],
          "name": "stdout"
        }
      ]
    },
    {
      "cell_type": "code",
      "metadata": {
        "id": "0qLJ_7pWocvo",
        "colab_type": "code",
        "outputId": "bb159af5-dfbe-4b02-ef25-3d7b861cdc7f",
        "colab": {
          "base_uri": "https://localhost:8080/",
          "height": 35
        }
      },
      "source": [
        "!ls -al 'drive/My Drive/2020-KS_DS/linear_algebra.py'"
      ],
      "execution_count": 0,
      "outputs": [
        {
          "output_type": "stream",
          "text": [
            "-rw------- 1 root root 3819 May  1 09:39 'drive/My Drive/2020-KS_DS/linear_algebra.py'\n"
          ],
          "name": "stdout"
        }
      ]
    },
    {
      "cell_type": "code",
      "metadata": {
        "id": "mfEdgXoFyntL",
        "colab_type": "code",
        "colab": {}
      },
      "source": [
        "from linear_algebra import Vector, sum_of_squares\n",
        "\n",
        "#def variance(xs:Vector) -> float: #same with below\n",
        "def variance(xs) : \n",
        "  assert len(xs) >= 2, \"variance requires at least two elements\"\n",
        "  n = len(xs)\n",
        "  deviation = de_mean(xs)\n",
        "  return sum_of_squares(deviation)/(n-1)\n",
        "\n",
        "import math\n",
        "def standard_deviation(xs):  #same with below\n",
        "#def standard_deviation(xs:Vector) -> float:\n",
        "  return math.sqrt(variance(xs))"
      ],
      "execution_count": 0,
      "outputs": []
    },
    {
      "cell_type": "code",
      "metadata": {
        "id": "RCWs-GPCrck8",
        "colab_type": "code",
        "outputId": "7e76a8d8-efcf-4ca7-c01e-c4bf22eca4f6",
        "colab": {
          "base_uri": "https://localhost:8080/",
          "height": 110
        }
      },
      "source": [
        "score_data = [100, 49, 41, 40, 25, 25,30,23,25,25]\n",
        "print('mean of xs:', mean(score_data))\n",
        "print('deviation', de_mean(score_data))\n",
        "print('variation:', variance(score_data))\n",
        "print('std deviation:', standard_deviation(score_data))"
      ],
      "execution_count": 0,
      "outputs": [
        {
          "output_type": "stream",
          "text": [
            "mean of xs: 38.3\n",
            "deviation [61.7, 10.700000000000003, 2.700000000000003, 1.7000000000000028, -13.299999999999997, -13.299999999999997, -8.299999999999997, -15.299999999999997, -13.299999999999997, -13.299999999999997]\n",
            "variation: 549.1222222222225\n",
            "std deviation: 23.43335704123979\n"
          ],
          "name": "stdout"
        }
      ]
    },
    {
      "cell_type": "code",
      "metadata": {
        "id": "KAEk-uUK_vRL",
        "colab_type": "code",
        "colab": {}
      },
      "source": [
        "#visualize\n",
        "import matplotlib.pyplot as plt\n",
        "xaxis = score_data\n",
        "yaxis = deviation\n"
      ],
      "execution_count": 0,
      "outputs": []
    },
    {
      "cell_type": "markdown",
      "metadata": {
        "id": "wQnZw1JxYFS6",
        "colab_type": "text"
      },
      "source": [
        " **Covariance and Correlation**\n",
        "\n",
        "*   Co-Variance \n",
        "> measures how *two variables from their vectors* deviate from their means respectively. \n",
        "\n",
        "  >>  ${cov} (X,Y)=\\frac{1}{n}\\sum_{i=1}^n (x_i-\\overline{x})(y_i-\\overline {y})$\n",
        "\n",
        "\n",
        "*   Co-rRelation \n",
        "> is the *covariance divided by* the two datasets’ standard deviations. So, it shows how they are related \n",
        "  >>  ${corr}(X,Y) =\\frac{\\sum ^n _{i=1}(x_i - \\bar{x})(y_i - \\bar{y})}{\\sqrt{\\sum ^n _{i=1}(x_i - \\bar{x})^2} \\sqrt{\\sum ^n _{i=1}(y_i - \\bar{y})^2}}$ "
      ]
    },
    {
      "cell_type": "code",
      "metadata": {
        "id": "Spgcd9hhPwmc",
        "colab_type": "code",
        "colab": {}
      },
      "source": [
        "from linear_algebra import dot\n",
        "def covariance(xs, ys) :\n",
        "  assert len(xs) == len(ys), \"two vectors must have same number of elements to get co-variance\"\n",
        "  return dot(de_mean(xs), de_mean(ys)) / (len(xs)-1)\n",
        "\n",
        "def correlation(xs, ys) -> float:\n",
        "  stdev_x = standard_deviation(xs)\n",
        "  stdev_y = standard_deviation(ys)\n",
        "\n",
        "  if stdev_x > 0 and stdev_y > 0 :\n",
        "    return covariance(xs, ys) / stdev_x / stdev_y\n",
        "  else:\n",
        "    return 0"
      ],
      "execution_count": 0,
      "outputs": []
    },
    {
      "cell_type": "code",
      "metadata": {
        "id": "o5v-Iz4cQPZh",
        "colab_type": "code",
        "outputId": "509b16f2-aa56-4c55-ae66-68f07b7af0f7",
        "colab": {
          "base_uri": "https://localhost:8080/",
          "height": 51
        }
      },
      "source": [
        "print(covariance(score_data, score_data))\n",
        "print(correlation(score_data, score_data)) # same data are correlated as much as 1.0"
      ],
      "execution_count": 0,
      "outputs": [
        {
          "output_type": "stream",
          "text": [
            "549.1222222222225\n",
            "1.0\n"
          ],
          "name": "stdout"
        }
      ]
    },
    {
      "cell_type": "code",
      "metadata": {
        "id": "CoAMFpYCUm-1",
        "colab_type": "code",
        "outputId": "c135e03d-2e29-4ae3-cc11-43f52631da6e",
        "colab": {
          "base_uri": "https://localhost:8080/",
          "height": 35
        }
      },
      "source": [
        "score_data1 = [ i + 1 for i in score_data ] # linearly parallel data \n",
        "print(score_data1)"
      ],
      "execution_count": 0,
      "outputs": [
        {
          "output_type": "stream",
          "text": [
            "[101, 50, 42, 41, 26, 26, 31, 24, 26, 26]\n"
          ],
          "name": "stdout"
        }
      ]
    },
    {
      "cell_type": "code",
      "metadata": {
        "id": "ttMWgRZCUzJ7",
        "colab_type": "code",
        "outputId": "5024288e-da74-4806-ce9a-a9c82c3170ca",
        "colab": {
          "base_uri": "https://localhost:8080/",
          "height": 35
        }
      },
      "source": [
        "print(correlation(score_data, score_data1)) # linearly parallel data are correlated as much as ..."
      ],
      "execution_count": 0,
      "outputs": [
        {
          "output_type": "stream",
          "text": [
            "1.0\n"
          ],
          "name": "stdout"
        }
      ]
    },
    {
      "cell_type": "code",
      "metadata": {
        "id": "CiUV4WMfVEwW",
        "colab_type": "code",
        "outputId": "ba54aea0-0c32-4285-c8d4-9e901d7fca06",
        "colab": {
          "base_uri": "https://localhost:8080/",
          "height": 90
        }
      },
      "source": [
        "import random\n",
        "random.shuffle(score_data)\n",
        "print(score_data)\n",
        "print(score_data1)\n",
        "print(covariance(score_data, score_data1))\n",
        "print(correlation(score_data, score_data1))\n",
        "assert correlation(score_data, score_data1) < 1.0"
      ],
      "execution_count": 0,
      "outputs": [
        {
          "output_type": "stream",
          "text": [
            "[25, 40, 30, 25, 25, 100, 49, 23, 41, 25]\n",
            "[101, 50, 42, 41, 26, 26, 31, 24, 26, 26]\n",
            "-133.8777777777778\n",
            "-0.2438032415369984\n"
          ],
          "name": "stdout"
        }
      ]
    },
    {
      "cell_type": "markdown",
      "metadata": {
        "id": "ljcYhWBsw85V",
        "colab_type": "text"
      },
      "source": [
        "# Inspection with Textbook\n",
        "\n",
        "https://github.com/joelgrus/data-science-from-scratch/blob/master/scratch/statistics.py"
      ]
    },
    {
      "cell_type": "code",
      "metadata": {
        "id": "NPNSZ5Ylv4-w",
        "colab_type": "code",
        "outputId": "4ecdaeef-b984-43b8-e60e-f21395d9d212",
        "colab": {
          "base_uri": "https://localhost:8080/",
          "height": 34
        }
      },
      "source": [
        "num_friends = [100.0,49,41,40,25,21,21,19,19,18,18,16,15,15,15,15,14,14,13,13,13,13,12,12,11,10,10,10,10,10,10,10,10,10,10,10,10,10,10,10,9,9,9,9,9,9,9,9,9,9,9,9,9,9,9,9,9,9,8,8,8,8,8,8,8,8,8,8,8,8,8,7,7,7,7,7,7,7,7,7,7,7,7,7,7,7,6,6,6,6,6,6,6,6,6,6,6,6,6,6,6,6,6,6,6,6,6,6,5,5,5,5,5,5,5,5,5,5,5,5,5,5,5,5,5,4,4,4,4,4,4,4,4,4,4,4,4,4,4,4,4,4,4,4,4,3,3,3,3,3,3,3,3,3,3,3,3,3,3,3,3,3,3,3,3,2,2,2,2,2,2,2,2,2,2,2,2,2,2,2,2,2,1,1,1,1,1,1,1,1,1,1,1,1,1,1,1,1,1,1,1,1,1,1]\n",
        "mean(num_friends)"
      ],
      "execution_count": 0,
      "outputs": [
        {
          "output_type": "execute_result",
          "data": {
            "text/plain": [
              "7.333333333333333"
            ]
          },
          "metadata": {
            "tags": []
          },
          "execution_count": 26
        }
      ]
    },
    {
      "cell_type": "code",
      "metadata": {
        "id": "7gM0EGuZwETH",
        "colab_type": "code",
        "outputId": "93381937-cb2d-4cde-8175-7ad5473eedaa",
        "colab": {
          "base_uri": "https://localhost:8080/",
          "height": 34
        }
      },
      "source": [
        "variance(num_friends)"
      ],
      "execution_count": 0,
      "outputs": [
        {
          "output_type": "execute_result",
          "data": {
            "text/plain": [
              "81.54351395730716"
            ]
          },
          "metadata": {
            "tags": []
          },
          "execution_count": 29
        }
      ]
    },
    {
      "cell_type": "code",
      "metadata": {
        "id": "NHbs3sMywLPg",
        "colab_type": "code",
        "outputId": "89053bc4-e2ef-4729-c4d9-4aae879bd6ac",
        "colab": {
          "base_uri": "https://localhost:8080/",
          "height": 34
        }
      },
      "source": [
        "standard_deviation(num_friends)"
      ],
      "execution_count": 0,
      "outputs": [
        {
          "output_type": "execute_result",
          "data": {
            "text/plain": [
              "9.03014473623248"
            ]
          },
          "metadata": {
            "tags": []
          },
          "execution_count": 30
        }
      ]
    },
    {
      "cell_type": "code",
      "metadata": {
        "id": "fgcF1gyAwYUA",
        "colab_type": "code",
        "colab": {}
      },
      "source": [
        "daily_minutes = [1,68.77,51.25,52.08,38.36,44.54,57.13,51.4,41.42,31.22,34.76,54.01,38.79,47.59,49.1,27.66,41.03,36.73,48.65,28.12,46.62,35.57,32.98,35,26.07,23.77,39.73,40.57,31.65,31.21,36.32,20.45,21.93,26.02,27.34,23.49,46.94,30.5,33.8,24.23,21.4,27.94,32.24,40.57,25.07,19.42,22.39,18.42,46.96,23.72,26.41,26.97,36.76,40.32,35.02,29.47,30.2,31,38.11,38.18,36.31,21.03,30.86,36.07,28.66,29.08,37.28,15.28,24.17,22.31,30.17,25.53,19.85,35.37,44.6,17.23,13.47,26.33,35.02,32.09,24.81,19.33,28.77,24.26,31.98,25.73,24.86,16.28,34.51,15.23,39.72,40.8,26.06,35.76,34.76,16.13,44.04,18.03,19.65,32.62,35.59,39.43,14.18,35.24,40.13,41.82,35.45,36.07,43.67,24.61,20.9,21.9,18.79,27.61,27.21,26.61,29.77,20.59,27.53,13.82,33.2,25,33.1,36.65,18.63,14.87,22.2,36.81,25.53,24.62,26.25,18.21,28.08,19.42,29.79,32.8,35.99,28.32,27.79,35.88,29.06,36.28,14.1,36.63,37.49,26.9,18.58,38.48,24.48,18.95,33.55,14.24,29.04,32.51,25.63,22.22,19,32.73,15.16,13.9,27.2,32.01,29.27,33,13.74,20.42,27.32,18.23,35.35,28.48,9.08,24.62,20.12,35.26,19.92,31.02,16.49,12.16,30.7,31.22,34.65,13.13,27.51,33.2,31.57,14.1,33.42,17.44,10.12,24.42,9.82,23.39,30.93,15.03,21.67,31.09,33.29,22.61,26.89,23.48,8.38,27.81,32.35,23.84]"
      ],
      "execution_count": 0,
      "outputs": []
    },
    {
      "cell_type": "code",
      "metadata": {
        "id": "LhUshshpwR_A",
        "colab_type": "code",
        "outputId": "d7e8120a-6560-4464-a7da-f4a1683281e0",
        "colab": {
          "base_uri": "https://localhost:8080/",
          "height": 34
        }
      },
      "source": [
        "covariance(num_friends, daily_minutes)"
      ],
      "execution_count": 0,
      "outputs": [
        {
          "output_type": "execute_result",
          "data": {
            "text/plain": [
              "22.425435139573064"
            ]
          },
          "metadata": {
            "tags": []
          },
          "execution_count": 38
        }
      ]
    },
    {
      "cell_type": "code",
      "metadata": {
        "id": "tA7nSg9Sws6h",
        "colab_type": "code",
        "outputId": "f12aef7e-006b-410c-d7be-3f6d19deb98f",
        "colab": {
          "base_uri": "https://localhost:8080/",
          "height": 34
        }
      },
      "source": [
        "correlation(num_friends, daily_minutes)"
      ],
      "execution_count": 0,
      "outputs": [
        {
          "output_type": "execute_result",
          "data": {
            "text/plain": [
              "0.24736957366478218"
            ]
          },
          "metadata": {
            "tags": []
          },
          "execution_count": 39
        }
      ]
    }
  ]
}